{
 "cells": [
  {
   "cell_type": "code",
   "execution_count": 42,
   "metadata": {
    "collapsed": true,
    "pycharm": {
     "name": "#%%\n"
    }
   },
   "outputs": [],
   "source": [
    "import numpy\n",
    "import numpy as np\n",
    "from sklearn.base import BaseEstimator, ClassifierMixin"
   ]
  },
  {
   "cell_type": "markdown",
   "source": [
    "# 製作一個簡單的高斯分類器"
   ],
   "metadata": {
    "collapsed": false,
    "pycharm": {
     "name": "#%% md\n"
    }
   }
  },
  {
   "cell_type": "code",
   "execution_count": 43,
   "outputs": [],
   "source": [
    "class myGaussianClassifier(BaseEstimator, ClassifierMixin): #必須繼承 BaseEstimator, ClassifierMixin\n",
    "    def __init__(self,alpha=1.e-5):        # initializer函式參數必須包含所有需要設定的參數及其內定值\n",
    "        if isinstance(self,myGaussianClassifier):\n",
    "            super(myGaussianClassifier,self).__init__()\n",
    "        self.alpha = alpha\n",
    "\n",
    "    def fit(self,train,target): # 不能缺\n",
    "        #\n",
    "        N,d = train.shape  #N為訓練集的總數，d為每個訓練集的維度\n",
    "        label = np.sort(np.unique(target.ravel())) # 算出有幾個class\n",
    "        self.c_     = label.size  # C存的就是class的數量\n",
    "        self.d_     = d      # 將訓練集的維度(也就是一筆資料有幾種feature)存入d\n",
    "        #prior也就是 P(c) 每個class的機率\n",
    "        #所以prior大小是class的數量\n",
    "        self.prior_ = np.zeros((self.c_,))   # 初始化先頭的先頭為0，其他為0\n",
    "\n",
    "        #mean是在一種class中 每種feature的絕對值\n",
    "        #所以mean大小是class的數量*feature的數量\n",
    "        self.mean_  = np.zeros((self.c_,self.d_))\n",
    "\n",
    "        #cov是在一種class中 每種feature間的差異(covariance matrix)\n",
    "        #所以cov大小是class的數量*feature的數量*feature的數量\n",
    "        self.cov_   = np.zeros((self.c_,self.d_,self.d_))  # 初始化先頭的先頭為0，其他為0\n",
    "        # 計算 mean, covariance\n",
    "        for cid,y in enumerate(label):\n",
    "            idx = np.nonzero(target.ravel()==y)  #取得資料集中 屬於這個class的資料的index\n",
    "            self.cov_[cid] =np.cov(train[idx],rowvar=False)+self.alpha*np.eye(d)  #計算covariance matrix\n",
    "            # 完成mean及prior\n",
    "            self.mean_[cid] = np.mean(train[idx],axis=0) #計算每個feature的mean\n",
    "            self.prior_[cid] = float(idx[0].size)/N  #計算這個class的機率 （在所有資料集的大小中的比例）\n",
    "        return self #最後要傳回self這個物件\n",
    "\n",
    "    def discriminant_score(self,X,class_id):\n",
    "        x_minus_m = X - self.mean_[class_id]\n",
    "        #使用課本提供的discriminant_score函式\n",
    "        discriminant_score = -1.0*0.5 * np.log(np.linalg.det(self.cov_[class_id])) - 0.5 * x_minus_m.T @ np.linalg.inv(self.cov_[class_id]) @ x_minus_m + np.log(self.prior_[class_id])\n",
    "        return discriminant_score\n",
    "\n",
    "    # 利用訓練好的模型來預測(回傳預測結果屬於哪個class)\n",
    "    def predict(self,X, y=None): # 不能缺\n",
    "        # print(\"len:\" ,len(X.shape))\n",
    "        #如果輸入是一組data 輸出就會是一個他所屬的class\n",
    "        if len(X.shape) == 1:\n",
    "            max_class = 0\n",
    "            max_prob = -1.0*float('inf')\n",
    "            for class_id in range(self.c_):\n",
    "                if(self.discriminant_score(X,class_id) > max_prob):\n",
    "                    max_prob = self.discriminant_score(X,class_id)\n",
    "                    max_class = class_id\n",
    "            return max_class\n",
    "        else:\n",
    "            #如果輸入是多組data(也就是說多一個batch的維度) 輸出就會是一個batch的class\n",
    "            result_list = []\n",
    "            for x in X:\n",
    "                max_class = 0\n",
    "                max_prob = -1.0 * float('inf')\n",
    "                for class_id in range(self.c_):\n",
    "                    if (self.discriminant_score(x, class_id) > max_prob):\n",
    "                        max_prob = self.discriminant_score(x, class_id)\n",
    "                        max_class = class_id\n",
    "                result_list.append(max_class)\n",
    "            return np.array(result_list)\n",
    "\n",
    "    # 利用訓練好的模型來預測(回傳預測結果屬於各個class的機率)\n",
    "    def predict_proba(self,X, y=None): # 視需要\n",
    "        #如果輸入是一組data 輸出就會是一組機率\n",
    "        if len(X.shape) == 1:\n",
    "            prob_list = []\n",
    "            for class_id in range(self.c_):\n",
    "                prob_list.append(np.exp(self.discriminant_score(X,class_id)))\n",
    "            return  prob_list/(sum(prob_list)*1.0)\n",
    "        else:\n",
    "            #如果輸入是多組data(也就是說多一個batch的維度)  輸出就會是一個batch的機率\n",
    "            result_list = []\n",
    "            for x in X:\n",
    "                prob_list = []\n",
    "                for class_id in range(self.c_):\n",
    "                    prob_list.append(np.exp(self.discriminant_score(x, class_id)))\n",
    "                result_list.append(prob_list / (sum(prob_list) * 1.0))\n",
    "            return np.array(result_list)\n",
    "\n",
    "    # 利用訓練好的模型來預測，並回傳預測的準確率\n",
    "    #通常是給 test_x 和 test_y\n",
    "    def score(self,X,y): # 可有可無\n",
    "        data_size = 0\n",
    "        correct = 0\n",
    "        for i in range(len(y)):\n",
    "            data_size += 1\n",
    "            if(self.predict(X[i]) == y[i]):\n",
    "                correct += 1\n",
    "        return correct*1.0/data_size\n"
   ],
   "metadata": {
    "collapsed": false,
    "pycharm": {
     "name": "#%%\n"
    }
   }
  },
  {
   "cell_type": "markdown",
   "source": [
    "# 比較分類器"
   ],
   "metadata": {
    "collapsed": false,
    "pycharm": {
     "name": "#%% md\n"
    }
   }
  },
  {
   "cell_type": "code",
   "execution_count": 44,
   "outputs": [],
   "source": [
    "from sklearn.model_selection import GridSearchCV, StratifiedKFold, cross_val_score\n",
    "from sklearn import neighbors, svm, naive_bayes\n",
    "from sklearn.preprocessing import MinMaxScaler\n",
    "from sklearn.pipeline import Pipeline\n",
    "import sklearn.datasets as ds\n",
    "import numpy as np\n",
    "\n",
    "# 載入資料集\n",
    "data,target    = ds.load_breast_cancer(return_X_y=True)"
   ],
   "metadata": {
    "collapsed": false,
    "pycharm": {
     "name": "#%%\n"
    }
   }
  },
  {
   "cell_type": "code",
   "execution_count": 45,
   "outputs": [],
   "source": [
    "\n",
    "# 宣告分類器\n",
    "gauss_clf      = myGaussianClassifier()\n",
    "knn_clf        = neighbors.KNeighborsClassifier(n_neighbors=3,weights='uniform',algorithm='kd_tree',leaf_size=30)\n",
    "svm_clf        = svm.SVC(kernel='linear', C=1, probability=True)\n",
    "gaussnb_clf    = naive_bayes.GaussianNB()"
   ],
   "metadata": {
    "collapsed": false,
    "pycharm": {
     "name": "#%%\n"
    }
   }
  },
  {
   "cell_type": "code",
   "execution_count": 46,
   "outputs": [
    {
     "data": {
      "text/plain": "myGaussianClassifier()"
     },
     "execution_count": 46,
     "metadata": {},
     "output_type": "execute_result"
    }
   ],
   "source": [
    "gauss_clf.fit(data,target)\n"
   ],
   "metadata": {
    "collapsed": false,
    "pycharm": {
     "name": "#%%\n"
    }
   }
  },
  {
   "cell_type": "code",
   "execution_count": 47,
   "outputs": [
    {
     "data": {
      "text/plain": "0.9648506151142355"
     },
     "execution_count": 47,
     "metadata": {},
     "output_type": "execute_result"
    }
   ],
   "source": [
    "gauss_clf.score(data,target)"
   ],
   "metadata": {
    "collapsed": false,
    "pycharm": {
     "name": "#%%\n"
    }
   }
  },
  {
   "cell_type": "code",
   "execution_count": 48,
   "outputs": [
    {
     "name": "stdout",
     "output_type": "stream",
     "text": [
      "Fitting 5 folds for each of 6 candidates, totalling 30 fits\n"
     ]
    },
    {
     "data": {
      "text/plain": "0.9595782073813708"
     },
     "execution_count": 48,
     "metadata": {},
     "output_type": "execute_result"
    }
   ],
   "source": [
    "gauss_clf_param={'alpha':[0.001,0.01,0.1,1,10,100]}\n",
    "gauss_gs     = GridSearchCV(estimator=gauss_clf,param_grid = gauss_clf_param, scoring = 'accuracy', cv=5, n_jobs=-1, verbose=1)\n",
    "gauss_gs.fit(data,target)\n",
    "gauss_gs.score(data,target)"
   ],
   "metadata": {
    "collapsed": false,
    "pycharm": {
     "name": "#%%\n"
    }
   }
  },
  {
   "cell_type": "code",
   "execution_count": 49,
   "outputs": [
    {
     "name": "stderr",
     "output_type": "stream",
     "text": [
      "[Parallel(n_jobs=1)]: Using backend SequentialBackend with 1 concurrent workers.\n",
      "[Parallel(n_jobs=1)]: Done   1 out of   1 | elapsed:    0.1s remaining:    0.0s\n"
     ]
    },
    {
     "name": "stdout",
     "output_type": "stream",
     "text": [
      "[CV] START .....................................................................\n",
      "Fitting 5 folds for each of 6 candidates, totalling 30 fits\n",
      "[CV] END ................................ score: (test=0.912) total time=   0.1s\n",
      "[CV] START .....................................................................\n",
      "Fitting 5 folds for each of 6 candidates, totalling 30 fits\n",
      "[CV] END ................................ score: (test=0.947) total time=   0.1s\n",
      "[CV] START .....................................................................\n",
      "Fitting 5 folds for each of 6 candidates, totalling 30 fits\n",
      "[CV] END ................................ score: (test=0.965) total time=   0.1s\n",
      "[CV] START .....................................................................\n",
      "Fitting 5 folds for each of 6 candidates, totalling 30 fits\n"
     ]
    },
    {
     "name": "stderr",
     "output_type": "stream",
     "text": [
      "[Parallel(n_jobs=1)]: Done   2 out of   2 | elapsed:    0.2s remaining:    0.0s\n",
      "[Parallel(n_jobs=1)]: Done   3 out of   3 | elapsed:    0.3s remaining:    0.0s\n"
     ]
    },
    {
     "name": "stdout",
     "output_type": "stream",
     "text": [
      "[CV] END ................................ score: (test=0.947) total time=   0.1s\n",
      "[CV] START .....................................................................\n",
      "Fitting 5 folds for each of 6 candidates, totalling 30 fits\n",
      "[CV] END ................................ score: (test=0.982) total time=   0.1s\n",
      "[CV] START .....................................................................\n",
      "Fitting 5 folds for each of 6 candidates, totalling 30 fits\n"
     ]
    },
    {
     "name": "stderr",
     "output_type": "stream",
     "text": [
      "[Parallel(n_jobs=1)]: Done   4 out of   4 | elapsed:    0.5s remaining:    0.0s\n",
      "[Parallel(n_jobs=1)]: Done   5 out of   5 | elapsed:    0.6s remaining:    0.0s\n"
     ]
    },
    {
     "name": "stdout",
     "output_type": "stream",
     "text": [
      "[CV] END ................................ score: (test=0.930) total time=   0.1s\n",
      "[CV] START .....................................................................\n",
      "Fitting 5 folds for each of 6 candidates, totalling 30 fits\n",
      "[CV] END ................................ score: (test=0.982) total time=   0.1s\n",
      "[CV] START .....................................................................\n",
      "Fitting 5 folds for each of 6 candidates, totalling 30 fits\n"
     ]
    },
    {
     "name": "stderr",
     "output_type": "stream",
     "text": [
      "[Parallel(n_jobs=1)]: Done   6 out of   6 | elapsed:    0.7s remaining:    0.0s\n",
      "[Parallel(n_jobs=1)]: Done   7 out of   7 | elapsed:    0.8s remaining:    0.0s\n"
     ]
    },
    {
     "name": "stdout",
     "output_type": "stream",
     "text": [
      "[CV] END ................................ score: (test=0.965) total time=   0.1s\n",
      "[CV] START .....................................................................\n",
      "Fitting 5 folds for each of 6 candidates, totalling 30 fits\n",
      "[CV] END ................................ score: (test=0.982) total time=   0.1s\n",
      "[CV] START .....................................................................\n",
      "Fitting 5 folds for each of 6 candidates, totalling 30 fits\n"
     ]
    },
    {
     "name": "stderr",
     "output_type": "stream",
     "text": [
      "[Parallel(n_jobs=1)]: Done   8 out of   8 | elapsed:    0.9s remaining:    0.0s\n",
      "[Parallel(n_jobs=1)]: Done   9 out of   9 | elapsed:    1.1s remaining:    0.0s\n"
     ]
    },
    {
     "name": "stdout",
     "output_type": "stream",
     "text": [
      "[CV] END ................................ score: (test=0.946) total time=   0.1s\n",
      "[CV] START .....................................................................\n",
      "Fitting 5 folds for each of 4 candidates, totalling 20 fits\n",
      "[CV] END ................................ score: (test=0.895) total time=   0.1s\n",
      "[CV] START .....................................................................\n",
      "Fitting 5 folds for each of 4 candidates, totalling 20 fits\n",
      "[CV] END ................................ score: (test=0.860) total time=   0.0s\n",
      "[CV] START .....................................................................\n",
      "Fitting 5 folds for each of 4 candidates, totalling 20 fits\n",
      "[CV] END ................................ score: (test=0.965) total time=   0.0s\n",
      "[CV] START .....................................................................\n",
      "Fitting 5 folds for each of 4 candidates, totalling 20 fits\n",
      "[CV] END ................................ score: (test=0.947) total time=   0.0s\n",
      "[CV] START .....................................................................\n",
      "Fitting 5 folds for each of 4 candidates, totalling 20 fits\n",
      "[CV] END ................................ score: (test=0.965) total time=   0.0s\n",
      "[CV] START .....................................................................\n",
      "Fitting 5 folds for each of 4 candidates, totalling 20 fits\n",
      "[CV] END ................................ score: (test=0.912) total time=   0.0s\n",
      "[CV] START .....................................................................\n",
      "Fitting 5 folds for each of 4 candidates, totalling 20 fits\n",
      "[CV] END ................................ score: (test=0.965) total time=   0.0s\n",
      "[CV] START .....................................................................\n",
      "Fitting 5 folds for each of 4 candidates, totalling 20 fits\n",
      "[CV] END ................................ score: (test=0.947) total time=   0.0s\n",
      "[CV] START .....................................................................\n",
      "Fitting 5 folds for each of 4 candidates, totalling 20 fits\n"
     ]
    },
    {
     "name": "stderr",
     "output_type": "stream",
     "text": [
      "[Parallel(n_jobs=1)]: Done  10 out of  10 | elapsed:    1.2s finished\n",
      "[Parallel(n_jobs=1)]: Using backend SequentialBackend with 1 concurrent workers.\n",
      "[Parallel(n_jobs=1)]: Done   1 out of   1 | elapsed:    0.1s remaining:    0.0s\n",
      "[Parallel(n_jobs=1)]: Done   2 out of   2 | elapsed:    0.1s remaining:    0.0s\n",
      "[Parallel(n_jobs=1)]: Done   3 out of   3 | elapsed:    0.1s remaining:    0.0s\n",
      "[Parallel(n_jobs=1)]: Done   4 out of   4 | elapsed:    0.1s remaining:    0.0s\n",
      "[Parallel(n_jobs=1)]: Done   5 out of   5 | elapsed:    0.1s remaining:    0.0s\n",
      "[Parallel(n_jobs=1)]: Done   6 out of   6 | elapsed:    0.2s remaining:    0.0s\n",
      "[Parallel(n_jobs=1)]: Done   7 out of   7 | elapsed:    0.2s remaining:    0.0s\n",
      "[Parallel(n_jobs=1)]: Done   8 out of   8 | elapsed:    0.2s remaining:    0.0s\n"
     ]
    },
    {
     "name": "stdout",
     "output_type": "stream",
     "text": [
      "[CV] END ................................ score: (test=0.982) total time=   0.0s\n",
      "[CV] START .....................................................................\n",
      "Fitting 5 folds for each of 4 candidates, totalling 20 fits\n",
      "[CV] END ................................ score: (test=0.893) total time=   0.0s\n",
      "[CV] START .....................................................................\n",
      "Fitting 5 folds for each of 4 candidates, totalling 20 fits\n",
      "[CV] END ................................ score: (test=0.982) total time=   0.0s\n",
      "[CV] START .....................................................................\n",
      "Fitting 5 folds for each of 4 candidates, totalling 20 fits\n",
      "[CV] END ................................ score: (test=1.000) total time=   0.0s\n",
      "[CV] START .....................................................................\n",
      "Fitting 5 folds for each of 4 candidates, totalling 20 fits\n",
      "[CV] END ................................ score: (test=0.982) total time=   0.0s\n",
      "[CV] START .....................................................................\n",
      "Fitting 5 folds for each of 4 candidates, totalling 20 fits\n"
     ]
    },
    {
     "name": "stderr",
     "output_type": "stream",
     "text": [
      "[Parallel(n_jobs=1)]: Done   9 out of   9 | elapsed:    0.2s remaining:    0.0s\n",
      "[Parallel(n_jobs=1)]: Done  10 out of  10 | elapsed:    0.2s finished\n",
      "[Parallel(n_jobs=1)]: Using backend SequentialBackend with 1 concurrent workers.\n",
      "[Parallel(n_jobs=1)]: Done   1 out of   1 | elapsed:    0.1s remaining:    0.0s\n",
      "[Parallel(n_jobs=1)]: Done   2 out of   2 | elapsed:    0.1s remaining:    0.0s\n",
      "[Parallel(n_jobs=1)]: Done   3 out of   3 | elapsed:    0.1s remaining:    0.0s\n"
     ]
    },
    {
     "name": "stdout",
     "output_type": "stream",
     "text": [
      "[CV] END ................................ score: (test=0.965) total time=   0.0s\n",
      "[CV] START .....................................................................\n",
      "Fitting 5 folds for each of 4 candidates, totalling 20 fits\n",
      "[CV] END ................................ score: (test=1.000) total time=   0.0s\n",
      "[CV] START .....................................................................\n",
      "Fitting 5 folds for each of 4 candidates, totalling 20 fits\n",
      "[CV] END ................................ score: (test=0.965) total time=   0.0s\n",
      "[CV] START .....................................................................\n",
      "Fitting 5 folds for each of 4 candidates, totalling 20 fits\n",
      "[CV] END ................................ score: (test=1.000) total time=   0.0s\n",
      "[CV] START .....................................................................\n",
      "Fitting 5 folds for each of 4 candidates, totalling 20 fits\n"
     ]
    },
    {
     "name": "stderr",
     "output_type": "stream",
     "text": [
      "[Parallel(n_jobs=1)]: Done   4 out of   4 | elapsed:    0.2s remaining:    0.0s\n",
      "[Parallel(n_jobs=1)]: Done   5 out of   5 | elapsed:    0.2s remaining:    0.0s\n",
      "[Parallel(n_jobs=1)]: Done   6 out of   6 | elapsed:    0.3s remaining:    0.0s\n",
      "[Parallel(n_jobs=1)]: Done   7 out of   7 | elapsed:    0.3s remaining:    0.0s\n"
     ]
    },
    {
     "name": "stdout",
     "output_type": "stream",
     "text": [
      "[CV] END ................................ score: (test=0.947) total time=   0.1s\n",
      "[CV] START .....................................................................\n",
      "Fitting 5 folds for each of 4 candidates, totalling 20 fits\n",
      "[CV] END ................................ score: (test=0.982) total time=   0.0s\n",
      "[CV] START .....................................................................\n",
      "Fitting 5 folds for each of 4 candidates, totalling 20 fits\n",
      "[CV] END ................................ score: (test=1.000) total time=   0.0s\n",
      "[CV] START .....................................................................\n",
      "Fitting 5 folds for each of 6 candidates, totalling 30 fits\n",
      "[CV] END ................................ score: (test=0.842) total time=   0.0s\n",
      "[CV] START .....................................................................\n",
      "Fitting 5 folds for each of 6 candidates, totalling 30 fits\n",
      "[CV] END ................................ score: (test=0.912) total time=   0.0s\n",
      "[CV] START .....................................................................\n",
      "Fitting 5 folds for each of 6 candidates, totalling 30 fits\n",
      "[CV] END ................................ score: (test=0.947) total time=   0.0s\n",
      "[CV] START .....................................................................\n",
      "Fitting 5 folds for each of 6 candidates, totalling 30 fits\n",
      "[CV] END ................................ score: (test=0.912) total time=   0.0s\n",
      "[CV] START .....................................................................\n",
      "Fitting 5 folds for each of 6 candidates, totalling 30 fits\n",
      "[CV] END ................................ score: (test=0.965) total time=   0.0s\n",
      "[CV] START .....................................................................\n",
      "Fitting 5 folds for each of 6 candidates, totalling 30 fits\n",
      "[CV] END ................................ score: (test=0.930) total time=   0.0s\n",
      "[CV] START .....................................................................\n",
      "Fitting 5 folds for each of 6 candidates, totalling 30 fits\n",
      "[CV] END ................................ score: (test=0.947) total time=   0.0s\n",
      "[CV] START .....................................................................\n",
      "Fitting 5 folds for each of 6 candidates, totalling 30 fits\n",
      "[CV] END ................................ score: (test=0.965) total time=   0.0s\n",
      "[CV] START .....................................................................\n",
      "Fitting 5 folds for each of 6 candidates, totalling 30 fits\n"
     ]
    },
    {
     "name": "stderr",
     "output_type": "stream",
     "text": [
      "[Parallel(n_jobs=1)]: Done   8 out of   8 | elapsed:    0.4s remaining:    0.0s\n",
      "[Parallel(n_jobs=1)]: Done   9 out of   9 | elapsed:    0.4s remaining:    0.0s\n",
      "[Parallel(n_jobs=1)]: Done  10 out of  10 | elapsed:    0.5s finished\n",
      "[Parallel(n_jobs=1)]: Using backend SequentialBackend with 1 concurrent workers.\n",
      "[Parallel(n_jobs=1)]: Done   1 out of   1 | elapsed:    0.0s remaining:    0.0s\n",
      "[Parallel(n_jobs=1)]: Done   2 out of   2 | elapsed:    0.0s remaining:    0.0s\n",
      "[Parallel(n_jobs=1)]: Done   3 out of   3 | elapsed:    0.0s remaining:    0.0s\n",
      "[Parallel(n_jobs=1)]: Done   4 out of   4 | elapsed:    0.1s remaining:    0.0s\n",
      "[Parallel(n_jobs=1)]: Done   5 out of   5 | elapsed:    0.1s remaining:    0.0s\n",
      "[Parallel(n_jobs=1)]: Done   6 out of   6 | elapsed:    0.1s remaining:    0.0s\n",
      "[Parallel(n_jobs=1)]: Done   7 out of   7 | elapsed:    0.1s remaining:    0.0s\n",
      "[Parallel(n_jobs=1)]: Done   8 out of   8 | elapsed:    0.1s remaining:    0.0s\n"
     ]
    },
    {
     "name": "stdout",
     "output_type": "stream",
     "text": [
      "[CV] END ................................ score: (test=0.912) total time=   0.0s\n",
      "[CV] START .....................................................................\n",
      "Fitting 5 folds for each of 6 candidates, totalling 30 fits\n",
      "[CV] END ................................ score: (test=0.911) total time=   0.0s\n"
     ]
    },
    {
     "name": "stderr",
     "output_type": "stream",
     "text": [
      "[Parallel(n_jobs=1)]: Done   9 out of   9 | elapsed:    0.1s remaining:    0.0s\n",
      "[Parallel(n_jobs=1)]: Done  10 out of  10 | elapsed:    0.1s finished\n"
     ]
    }
   ],
   "source": [
    "# 定義超參數及其候選值\n",
    "knn_clf_param = {'n_neighbors':[1,3,5,7]}\n",
    "svm_clf_param = {'C':[0.01, 0.1, 1, 10]}\n",
    "gauss_clf_param={'alpha':[0.001,0.01,0.1,1,10,100]}\n",
    "gaussnb_clf_param={'var_smoothing':np.logspace(-5,2,6)}\n",
    "\n",
    "# inner cross-validation for hyper-parameter tuning\n",
    "# 當n_jobs=-1時，在Windows可能有Bug，那麼就改為n_jobs = 1\n",
    "gauss_gs     = GridSearchCV(estimator=gauss_clf,param_grid = gauss_clf_param, scoring = 'accuracy', cv=5, n_jobs=-1, verbose=1)\n",
    "knn_gs       = GridSearchCV(estimator=knn_clf,param_grid = knn_clf_param, scoring = 'accuracy', cv=5, n_jobs=-1, verbose=1)\n",
    "svm_gs       = GridSearchCV(estimator=svm_clf,param_grid = svm_clf_param, scoring = 'accuracy', cv=5,  n_jobs=-1, verbose=1)\n",
    "svm_pipeline = Pipeline([('scaler',MinMaxScaler()),('svm_gs',svm_gs)])\n",
    "gaussnb_gs   = GridSearchCV(estimator=gaussnb_clf,param_grid = gaussnb_clf_param, scoring = 'accuracy', cv=5, n_jobs=-1, verbose=1)\n",
    "\n",
    "# outer cross-validation for estimating the accuracy of the classifier\n",
    "# the classifiers to be compared must be evaluated by the same k-fold CV\n",
    "kfold        = StratifiedKFold(n_splits=10, shuffle=True, random_state=3)\n",
    "\n",
    "#當n_jobs=-1時，在Windows可能有Bug，那麼就改為n_jobs = 1\n",
    "gauss_scores   = cross_val_score(gauss_gs, data, target, scoring='accuracy',cv = kfold, verbose=10)\n",
    "knn_scores     = cross_val_score(knn_gs, data, target, scoring='accuracy',cv = kfold, verbose=10)\n",
    "svm_scores     = cross_val_score(svm_pipeline, data, target, scoring='accuracy',cv = kfold, verbose=10)\n",
    "gaussnb_scores = cross_val_score(gaussnb_gs, data, target, scoring='accuracy',cv = kfold, verbose=10)\n",
    "\n",
    "#請同學接續寫完評比\n",
    "# apply the paired t-test (Refer to ppt for Chapter 20 Design and Analysis of Machine Learning Experiments)"
   ],
   "metadata": {
    "collapsed": false,
    "pycharm": {
     "name": "#%%\n"
    }
   }
  },
  {
   "cell_type": "code",
   "execution_count": 50,
   "outputs": [
    {
     "name": "stdout",
     "output_type": "stream",
     "text": [
      "myGaussianClassifier:  0.9560463659147869 ± 0.02257381062954153\n",
      "SVC with linear kernel:  0.982456140350877 ± 0.017543859649122816\n",
      "kNN:  0.9331453634085213 ± 0.038469392087079425\n",
      "GaussianNB:  0.9244047619047618 ± 0.03430359573514195\n"
     ]
    }
   ],
   "source": [
    "print(\"myGaussianClassifier: \",gauss_scores.mean(),\"±\",gauss_scores.std())\n",
    "print(\"SVC with linear kernel: \",svm_scores.mean(),\"±\",svm_scores.std())\n",
    "print(\"kNN: \",knn_scores.mean(),\"±\",knn_scores.std())\n",
    "print(\"GaussianNB: \",gaussnb_scores.mean() ,\"±\",gaussnb_scores.std())"
   ],
   "metadata": {
    "collapsed": false,
    "pycharm": {
     "name": "#%%\n"
    }
   }
  },
  {
   "cell_type": "markdown",
   "source": [
    "# p value"
   ],
   "metadata": {
    "collapsed": false,
    "pycharm": {
     "name": "#%% md\n"
    }
   }
  },
  {
   "cell_type": "code",
   "execution_count": 52,
   "outputs": [
    {
     "name": "stdout",
     "output_type": "stream",
     "text": [
      "svm = gauss? pValue =  0.01189593702700636\n",
      "svm = knn?   pValue =  0.009607662177057304\n",
      "svm = gaussnb? pValue =  0.0018882146755463925\n"
     ]
    }
   ],
   "source": [
    "from scipy import stats\n",
    "print(\"svm = gauss? pValue = \",stats.ttest_1samp(svm_scores - gauss_scores, 0).pvalue)\n",
    "print(\"svm = knn?   pValue = \",stats.ttest_1samp(svm_scores- knn_scores, 0).pvalue)\n",
    "print(\"svm = gaussnb? pValue = \",stats.ttest_1samp(svm_scores- gaussnb_scores, 0).pvalue)"
   ],
   "metadata": {
    "collapsed": false,
    "pycharm": {
     "name": "#%%\n"
    }
   }
  },
  {
   "cell_type": "markdown",
   "source": [
    "## ans\n",
    "1.  程式\n",
    "2.\n",
    "    myGaussianClassifier: 0.9560463659147869\n",
    "    SVC with linear kernel: 0.982456140350877\n",
    "    kNN: 0.9331453634085213\n",
    "    GaussianNB: 0.9244047619047618\n",
    "3.\n",
    "    最好的是svm ， accuracy是 0.982456140350877 ± 0.017543859649122816\n",
    "\n",
    "    svm和myGaussianClassifier比， pValue =  0.01189593702700636\n",
    "    svm和kNN比， pValue =  0.009607662177057304\n",
    "    svm 和GaussianNB比， pValue =  0.0018882146755463925\n",
    "\n",
    "    SVM和其他三者比較, pValue都小於0.05,\n",
    "    代表我們有足夠的信心能推翻null hypothesis\n",
    "    也代表這個分類器和其他分類器相比準確度有顯著差異\n",
    "\n",
    "\n",
    "\n"
   ],
   "metadata": {
    "collapsed": false,
    "pycharm": {
     "name": "#%% md\n"
    }
   }
  }
 ],
 "metadata": {
  "kernelspec": {
   "display_name": "Python 3",
   "language": "python",
   "name": "python3"
  },
  "language_info": {
   "codemirror_mode": {
    "name": "ipython",
    "version": 2
   },
   "file_extension": ".py",
   "mimetype": "text/x-python",
   "name": "python",
   "nbconvert_exporter": "python",
   "pygments_lexer": "ipython2",
   "version": "2.7.6"
  }
 },
 "nbformat": 4,
 "nbformat_minor": 0
}