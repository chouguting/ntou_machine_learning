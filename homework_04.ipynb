{
 "cells": [
  {
   "cell_type": "markdown",
   "source": [
    "1.Longevity\n",
    "2.All of the above\n",
    "3.pipeline_knn_param0= {'knn__n_neighbors':[3,5,7],'fr__k':[50,75]}\n",
    "    pipeline_rbf_svm_param0 = {'svc__C':[0.01, 0.1, 1, 10, 100],'svc__gamma':[0.001,0.01,0.1,1],'fr__k':[50,75]}\n",
    "4.svm_linear0 = GridSearchCV(estimator=svm.SVC(kernel='linear', gamma=1, C=1, probability=True,decision_function_shape='ovo'),param_grid = linear_svm_param0, scoring = 'accuracy', cv=kfold))\n",
    "5.dt = DecisionTreeClassifier()"
   ],
   "metadata": {
    "collapsed": false,
    "pycharm": {
     "name": "#%% md\n"
    }
   }
  },
  {
   "cell_type": "code",
   "execution_count": 1,
   "outputs": [],
   "source": [
    "import os\n",
    "import shutil\n",
    "\n",
    "import numpy as np\n",
    "from sklearn.svm import SVC\n",
    "from sklearn.preprocessing import StandardScaler\n",
    "from sklearn.datasets import make_classification\n",
    "from sklearn import tree\n",
    "from sklearn.model_selection import train_test_split\n",
    "from sklearn.pipeline import Pipeline\n",
    "from sklearn.model_selection import GridSearchCV"
   ],
   "metadata": {
    "collapsed": false,
    "pycharm": {
     "name": "#%%\n"
    }
   }
  },
  {
   "cell_type": "markdown",
   "source": [
    "# Proprocessing"
   ],
   "metadata": {
    "collapsed": false,
    "pycharm": {
     "name": "#%% md\n"
    }
   }
  },
  {
   "cell_type": "code",
   "execution_count": 2,
   "outputs": [],
   "source": [
    "\n",
    "dataset_folder = 'drift_dataset/'\n",
    "output_folder = 'drift_dataset_processed/'\n",
    "FileNameList = os.listdir(dataset_folder)\n",
    "for fileName in FileNameList:\n",
    "    file = open(dataset_folder+fileName, 'r')\n",
    "    lines = file.readlines()\n",
    "    file.close()\n",
    "    file = open(output_folder+\"processed_\"+fileName, 'w')\n",
    "    for line in lines:\n",
    "        line = line.split(' ',1)\n",
    "        classLabel = line[0].split(';')[0]\n",
    "        newLine = classLabel+' '+line[1]\n",
    "        file.write(newLine+'\\n')\n",
    "    file.close()\n",
    "\n"
   ],
   "metadata": {
    "collapsed": false,
    "pycharm": {
     "name": "#%%\n"
    }
   }
  },
  {
   "cell_type": "code",
   "execution_count": 3,
   "outputs": [],
   "source": [
    "from sklearn.datasets import load_svmlight_file\n",
    "from sklearn import preprocessing\n",
    "lb = preprocessing.LabelBinarizer()\n",
    "x_train, y_train = load_svmlight_file(output_folder+\"processed_batch1.dat\")\n",
    "x_train = x_train.toarray()\n",
    "y_train = y_train.astype(int)\n",
    "y_train = y_train-1\n",
    "# y_train = lb.fit_transform(y_train)"
   ],
   "metadata": {
    "collapsed": false,
    "pycharm": {
     "name": "#%%\n"
    }
   }
  },
  {
   "cell_type": "code",
   "execution_count": 4,
   "outputs": [
    {
     "name": "stdout",
     "output_type": "stream",
     "text": [
      "(445, 128)\n",
      "(445,)\n"
     ]
    }
   ],
   "source": [
    "print(x_train.shape)\n",
    "print(y_train.shape)\n"
   ],
   "metadata": {
    "collapsed": false,
    "pycharm": {
     "name": "#%%\n"
    }
   }
  },
  {
   "cell_type": "code",
   "execution_count": 5,
   "outputs": [
    {
     "name": "stdout",
     "output_type": "stream",
     "text": [
      "<class 'numpy.ndarray'>\n",
      "<class 'numpy.ndarray'>\n"
     ]
    }
   ],
   "source": [
    "print(type(x_train[0]))\n",
    "print(type(y_train))"
   ],
   "metadata": {
    "collapsed": false,
    "pycharm": {
     "name": "#%%\n"
    }
   }
  },
  {
   "cell_type": "code",
   "execution_count": 6,
   "outputs": [
    {
     "name": "stdout",
     "output_type": "stream",
     "text": [
      "[ 1.55961621e+04  1.86824500e+00  2.37160400e+00  2.80367800e+00\n",
      "  7.51221300e+00 -2.73938800e+00 -3.34467100e+00 -4.84751200e+00\n",
      "  1.53266914e+04  1.76852600e+00  2.26908500e+00  2.71337400e+00\n",
      "  6.91572100e+00 -2.48832400e+00 -3.08221200e+00 -5.05697500e+00\n",
      "  2.78938310e+03  2.75475900e+00  4.30440000e-01  6.49457000e-01\n",
      "  1.79502900e+00 -4.26662000e-01 -5.84313000e-01 -1.43897600e+00\n",
      "  2.58156860e+03  2.68062300e+00  3.99746000e-01  6.05065000e-01\n",
      "  1.78670400e+00 -4.00115000e-01 -5.50743000e-01 -1.72861100e+00\n",
      "  6.85399400e+02  1.68290400e+00  1.22736000e-01  2.23703000e-01\n",
      "  5.84691000e-01 -1.38196000e-01 -2.36907000e-01 -7.81959000e-01\n",
      "  7.97773800e+02  1.74248800e+00  1.52483000e-01  2.18904000e-01\n",
      "  8.41862000e-01 -1.64646000e-01 -3.15720000e-01 -7.91447000e-01\n",
      "  3.12884890e+03  3.60553700e+00  5.32422000e-01  7.63062000e-01\n",
      "  2.11898300e+00 -5.57197000e-01 -8.09953000e-01 -2.34413000e+00\n",
      "  3.13687780e+03  3.55516900e+00  5.35883000e-01  7.61388000e-01\n",
      "  1.49924400e+00 -5.71480000e-01 -9.44425000e-01 -2.65835800e+00\n",
      "  1.35406738e+04  1.76573800e+00  2.00688300e+00  2.51902200e+00\n",
      "  6.26143000e+00 -2.17210100e+00 -2.69496700e+00 -3.79149900e+00\n",
      "  1.38317539e+04  1.74649300e+00  2.05716500e+00  2.39123900e+00\n",
      "  5.69523400e+00 -2.35077600e+00 -2.88876600e+00 -8.12986900e+00\n",
      "  3.02091910e+03  2.81935400e+00  4.74520000e-01  7.23993000e-01\n",
      "  2.16013000e+00 -4.67900000e-01 -6.38167000e-01 -1.64365000e+00\n",
      "  2.18597410e+03  2.94938100e+00  3.42575000e-01  5.15090000e-01\n",
      "  1.34047700e+00 -3.61030000e-01 -4.93482000e-01 -1.20061700e+00\n",
      "  8.62747900e+02  1.77929100e+00  1.65138000e-01  2.46473000e-01\n",
      "  1.35810600e+00 -1.87465000e-01 -4.16382000e-01 -1.05806100e+00\n",
      "  1.05975620e+03  1.89604700e+00  1.98946000e-01  3.34017000e-01\n",
      "  8.15048000e-01 -2.04467000e-01 -3.45119000e-01 -9.69336000e-01\n",
      "  3.35711240e+03  3.86064700e+00  5.80818000e-01  8.06830000e-01\n",
      "  1.72973900e+00 -6.19214000e-01 -1.07113700e+00 -3.03777200e+00\n",
      "  3.03703900e+03  3.97220300e+00  5.27291000e-01  7.28443000e-01\n",
      "  1.44578300e+00 -5.45079000e-01 -9.02241000e-01 -2.65452900e+00]\n"
     ]
    }
   ],
   "source": [
    "print(x_train[0])"
   ],
   "metadata": {
    "collapsed": false,
    "pycharm": {
     "name": "#%%\n"
    }
   }
  },
  {
   "cell_type": "code",
   "execution_count": 7,
   "outputs": [
    {
     "name": "stdout",
     "output_type": "stream",
     "text": [
      "[0 0 0 0 0 0 0 0 0 0 0 0 0 0 0 0 0 0 0 0 0 0 0 0 0 0 0 0 0 0 0 0 0 0 0 0 0\n",
      " 0 0 0 0 0 0 0 0 0 0 0 0 0 0 0 0 0 0 0 0 0 0 0 0 0 0 0 0 0 0 0 0 0 0 0 0 0\n",
      " 0 0 0 0 0 0 0 0 0 0 1 1 1 1 1 1 1 1 1 1 1 1 1 1 1 1 1 1 1 1 1 1 1 1 1 1 1\n",
      " 1 1 1 1 1 1 1 1 1 1 1 1 1 1 1 1 1 1 1 1 1 1 1 1 1 1 1 1 1 1 1 1 1 1 1 1 1\n",
      " 1 1 1 1 1 1 1 1 1 1 1 1 1 1 1 1 1 1 1 1 1 1 1 1 2 2 2 2 2 2 2 2 2 2 2 2 2\n",
      " 2 2 2 2 2 2 2 2 2 2 2 2 2 2 2 2 2 2 2 2 2 2 2 2 2 2 2 2 2 2 2 2 2 2 2 2 2\n",
      " 2 2 2 2 2 2 2 2 2 2 2 2 2 2 2 2 2 2 2 2 2 2 2 2 2 2 0 0 0 0 0 0 1 1 1 1 1\n",
      " 1 1 1 1 1 2 2 2 2 2 2 2 3 3 3 3 3 3 3 3 3 3 3 3 3 3 3 3 3 3 3 3 3 3 3 3 3\n",
      " 3 3 3 3 3 4 4 4 4 4 4 4 4 4 4 4 4 4 4 4 4 4 4 4 4 4 4 4 4 4 4 4 4 4 4 4 4\n",
      " 4 4 4 4 4 4 4 4 4 4 4 4 4 4 4 4 4 4 4 4 4 4 4 4 4 4 4 4 4 4 4 4 4 4 4 4 4\n",
      " 4 5 5 5 5 5 5 5 5 5 5 5 5 5 5 5 5 5 5 5 5 5 5 5 5 5 5 5 5 5 5 5 5 5 5 5 5\n",
      " 5 5 5 5 5 5 5 5 5 5 5 5 5 5 5 5 5 5 5 5 5 5 5 5 5 5 5 5 5 5 5 5 5 5 5 5 5\n",
      " 5]\n"
     ]
    }
   ],
   "source": [
    "print(y_train)"
   ],
   "metadata": {
    "collapsed": false,
    "pycharm": {
     "name": "#%%\n"
    }
   }
  },
  {
   "cell_type": "code",
   "execution_count": 8,
   "outputs": [],
   "source": [
    "from sklearn.datasets import load_digits\n",
    "from sklearn.feature_selection import SelectKBest, chi2\n",
    "from sklearn.model_selection import KFold\n",
    "from sklearn.model_selection import StratifiedKFold\n",
    "from sklearn.feature_selection import mutual_info_classif\n",
    "from sklearn import neighbors"
   ],
   "metadata": {
    "collapsed": false,
    "pycharm": {
     "name": "#%%\n"
    }
   }
  },
  {
   "cell_type": "code",
   "execution_count": 9,
   "outputs": [],
   "source": [
    "# from sklearn import datasets\n",
    "# iris = datasets.load_iris()\n",
    "#\n",
    "# # X -> features, y -> label\n",
    "# X = iris.data\n",
    "# y = iris.target\n",
    "#\n",
    "# # dividing X, y into train and test data\n",
    "# X_train, X_test, y_train, y_test = train_test_split(X, y, random_state = 0)\n",
    "# print(y_test[0])"
   ],
   "metadata": {
    "collapsed": false,
    "pycharm": {
     "name": "#%%\n"
    }
   }
  },
  {
   "cell_type": "markdown",
   "source": [
    "# Decision tree"
   ],
   "metadata": {
    "collapsed": false,
    "pycharm": {
     "name": "#%% md\n"
    }
   }
  },
  {
   "cell_type": "code",
   "execution_count": 10,
   "outputs": [
    {
     "data": {
      "text/plain": "DecisionTreeClassifier()",
      "text/html": "<style>#sk-container-id-1 {color: black;background-color: white;}#sk-container-id-1 pre{padding: 0;}#sk-container-id-1 div.sk-toggleable {background-color: white;}#sk-container-id-1 label.sk-toggleable__label {cursor: pointer;display: block;width: 100%;margin-bottom: 0;padding: 0.3em;box-sizing: border-box;text-align: center;}#sk-container-id-1 label.sk-toggleable__label-arrow:before {content: \"▸\";float: left;margin-right: 0.25em;color: #696969;}#sk-container-id-1 label.sk-toggleable__label-arrow:hover:before {color: black;}#sk-container-id-1 div.sk-estimator:hover label.sk-toggleable__label-arrow:before {color: black;}#sk-container-id-1 div.sk-toggleable__content {max-height: 0;max-width: 0;overflow: hidden;text-align: left;background-color: #f0f8ff;}#sk-container-id-1 div.sk-toggleable__content pre {margin: 0.2em;color: black;border-radius: 0.25em;background-color: #f0f8ff;}#sk-container-id-1 input.sk-toggleable__control:checked~div.sk-toggleable__content {max-height: 200px;max-width: 100%;overflow: auto;}#sk-container-id-1 input.sk-toggleable__control:checked~label.sk-toggleable__label-arrow:before {content: \"▾\";}#sk-container-id-1 div.sk-estimator input.sk-toggleable__control:checked~label.sk-toggleable__label {background-color: #d4ebff;}#sk-container-id-1 div.sk-label input.sk-toggleable__control:checked~label.sk-toggleable__label {background-color: #d4ebff;}#sk-container-id-1 input.sk-hidden--visually {border: 0;clip: rect(1px 1px 1px 1px);clip: rect(1px, 1px, 1px, 1px);height: 1px;margin: -1px;overflow: hidden;padding: 0;position: absolute;width: 1px;}#sk-container-id-1 div.sk-estimator {font-family: monospace;background-color: #f0f8ff;border: 1px dotted black;border-radius: 0.25em;box-sizing: border-box;margin-bottom: 0.5em;}#sk-container-id-1 div.sk-estimator:hover {background-color: #d4ebff;}#sk-container-id-1 div.sk-parallel-item::after {content: \"\";width: 100%;border-bottom: 1px solid gray;flex-grow: 1;}#sk-container-id-1 div.sk-label:hover label.sk-toggleable__label {background-color: #d4ebff;}#sk-container-id-1 div.sk-serial::before {content: \"\";position: absolute;border-left: 1px solid gray;box-sizing: border-box;top: 0;bottom: 0;left: 50%;z-index: 0;}#sk-container-id-1 div.sk-serial {display: flex;flex-direction: column;align-items: center;background-color: white;padding-right: 0.2em;padding-left: 0.2em;position: relative;}#sk-container-id-1 div.sk-item {position: relative;z-index: 1;}#sk-container-id-1 div.sk-parallel {display: flex;align-items: stretch;justify-content: center;background-color: white;position: relative;}#sk-container-id-1 div.sk-item::before, #sk-container-id-1 div.sk-parallel-item::before {content: \"\";position: absolute;border-left: 1px solid gray;box-sizing: border-box;top: 0;bottom: 0;left: 50%;z-index: -1;}#sk-container-id-1 div.sk-parallel-item {display: flex;flex-direction: column;z-index: 1;position: relative;background-color: white;}#sk-container-id-1 div.sk-parallel-item:first-child::after {align-self: flex-end;width: 50%;}#sk-container-id-1 div.sk-parallel-item:last-child::after {align-self: flex-start;width: 50%;}#sk-container-id-1 div.sk-parallel-item:only-child::after {width: 0;}#sk-container-id-1 div.sk-dashed-wrapped {border: 1px dashed gray;margin: 0 0.4em 0.5em 0.4em;box-sizing: border-box;padding-bottom: 0.4em;background-color: white;}#sk-container-id-1 div.sk-label label {font-family: monospace;font-weight: bold;display: inline-block;line-height: 1.2em;}#sk-container-id-1 div.sk-label-container {text-align: center;}#sk-container-id-1 div.sk-container {/* jupyter's `normalize.less` sets `[hidden] { display: none; }` but bootstrap.min.css set `[hidden] { display: none !important; }` so we also need the `!important` here to be able to override the default hidden behavior on the sphinx rendered scikit-learn.org. See: https://github.com/scikit-learn/scikit-learn/issues/21755 */display: inline-block !important;position: relative;}#sk-container-id-1 div.sk-text-repr-fallback {display: none;}</style><div id=\"sk-container-id-1\" class=\"sk-top-container\"><div class=\"sk-text-repr-fallback\"><pre>DecisionTreeClassifier()</pre><b>In a Jupyter environment, please rerun this cell to show the HTML representation or trust the notebook. <br />On GitHub, the HTML representation is unable to render, please try loading this page with nbviewer.org.</b></div><div class=\"sk-container\" hidden><div class=\"sk-item\"><div class=\"sk-estimator sk-toggleable\"><input class=\"sk-toggleable__control sk-hidden--visually\" id=\"sk-estimator-id-1\" type=\"checkbox\" checked><label for=\"sk-estimator-id-1\" class=\"sk-toggleable__label sk-toggleable__label-arrow\">DecisionTreeClassifier</label><div class=\"sk-toggleable__content\"><pre>DecisionTreeClassifier()</pre></div></div></div></div></div>"
     },
     "execution_count": 10,
     "metadata": {},
     "output_type": "execute_result"
    }
   ],
   "source": [
    "kfold = StratifiedKFold(n_splits=5, shuffle=True, random_state=3)\n",
    "dt = tree.DecisionTreeClassifier()\n",
    "dt.fit(x_train, y_train)"
   ],
   "metadata": {
    "collapsed": false,
    "pycharm": {
     "name": "#%%\n"
    }
   }
  },
  {
   "cell_type": "markdown",
   "source": [
    "# KNN"
   ],
   "metadata": {
    "collapsed": false,
    "pycharm": {
     "name": "#%% md\n"
    }
   }
  },
  {
   "cell_type": "code",
   "execution_count": 11,
   "outputs": [
    {
     "data": {
      "text/plain": "GridSearchCV(cv=StratifiedKFold(n_splits=5, random_state=3, shuffle=True),\n             estimator=Pipeline(steps=[('fr',\n                                        SelectKBest(k=50,\n                                                    score_func=<function mutual_info_classif at 0x0000027D51B51040>)),\n                                       ('stdscaler', StandardScaler()),\n                                       ('knn',\n                                        KNeighborsClassifier(n_neighbors=3))]),\n             param_grid={'fr__k': [50, 75], 'knn__n_neighbors': [3, 5, 7]},\n             scoring='accuracy')",
      "text/html": "<style>#sk-container-id-2 {color: black;background-color: white;}#sk-container-id-2 pre{padding: 0;}#sk-container-id-2 div.sk-toggleable {background-color: white;}#sk-container-id-2 label.sk-toggleable__label {cursor: pointer;display: block;width: 100%;margin-bottom: 0;padding: 0.3em;box-sizing: border-box;text-align: center;}#sk-container-id-2 label.sk-toggleable__label-arrow:before {content: \"▸\";float: left;margin-right: 0.25em;color: #696969;}#sk-container-id-2 label.sk-toggleable__label-arrow:hover:before {color: black;}#sk-container-id-2 div.sk-estimator:hover label.sk-toggleable__label-arrow:before {color: black;}#sk-container-id-2 div.sk-toggleable__content {max-height: 0;max-width: 0;overflow: hidden;text-align: left;background-color: #f0f8ff;}#sk-container-id-2 div.sk-toggleable__content pre {margin: 0.2em;color: black;border-radius: 0.25em;background-color: #f0f8ff;}#sk-container-id-2 input.sk-toggleable__control:checked~div.sk-toggleable__content {max-height: 200px;max-width: 100%;overflow: auto;}#sk-container-id-2 input.sk-toggleable__control:checked~label.sk-toggleable__label-arrow:before {content: \"▾\";}#sk-container-id-2 div.sk-estimator input.sk-toggleable__control:checked~label.sk-toggleable__label {background-color: #d4ebff;}#sk-container-id-2 div.sk-label input.sk-toggleable__control:checked~label.sk-toggleable__label {background-color: #d4ebff;}#sk-container-id-2 input.sk-hidden--visually {border: 0;clip: rect(1px 1px 1px 1px);clip: rect(1px, 1px, 1px, 1px);height: 1px;margin: -1px;overflow: hidden;padding: 0;position: absolute;width: 1px;}#sk-container-id-2 div.sk-estimator {font-family: monospace;background-color: #f0f8ff;border: 1px dotted black;border-radius: 0.25em;box-sizing: border-box;margin-bottom: 0.5em;}#sk-container-id-2 div.sk-estimator:hover {background-color: #d4ebff;}#sk-container-id-2 div.sk-parallel-item::after {content: \"\";width: 100%;border-bottom: 1px solid gray;flex-grow: 1;}#sk-container-id-2 div.sk-label:hover label.sk-toggleable__label {background-color: #d4ebff;}#sk-container-id-2 div.sk-serial::before {content: \"\";position: absolute;border-left: 1px solid gray;box-sizing: border-box;top: 0;bottom: 0;left: 50%;z-index: 0;}#sk-container-id-2 div.sk-serial {display: flex;flex-direction: column;align-items: center;background-color: white;padding-right: 0.2em;padding-left: 0.2em;position: relative;}#sk-container-id-2 div.sk-item {position: relative;z-index: 1;}#sk-container-id-2 div.sk-parallel {display: flex;align-items: stretch;justify-content: center;background-color: white;position: relative;}#sk-container-id-2 div.sk-item::before, #sk-container-id-2 div.sk-parallel-item::before {content: \"\";position: absolute;border-left: 1px solid gray;box-sizing: border-box;top: 0;bottom: 0;left: 50%;z-index: -1;}#sk-container-id-2 div.sk-parallel-item {display: flex;flex-direction: column;z-index: 1;position: relative;background-color: white;}#sk-container-id-2 div.sk-parallel-item:first-child::after {align-self: flex-end;width: 50%;}#sk-container-id-2 div.sk-parallel-item:last-child::after {align-self: flex-start;width: 50%;}#sk-container-id-2 div.sk-parallel-item:only-child::after {width: 0;}#sk-container-id-2 div.sk-dashed-wrapped {border: 1px dashed gray;margin: 0 0.4em 0.5em 0.4em;box-sizing: border-box;padding-bottom: 0.4em;background-color: white;}#sk-container-id-2 div.sk-label label {font-family: monospace;font-weight: bold;display: inline-block;line-height: 1.2em;}#sk-container-id-2 div.sk-label-container {text-align: center;}#sk-container-id-2 div.sk-container {/* jupyter's `normalize.less` sets `[hidden] { display: none; }` but bootstrap.min.css set `[hidden] { display: none !important; }` so we also need the `!important` here to be able to override the default hidden behavior on the sphinx rendered scikit-learn.org. See: https://github.com/scikit-learn/scikit-learn/issues/21755 */display: inline-block !important;position: relative;}#sk-container-id-2 div.sk-text-repr-fallback {display: none;}</style><div id=\"sk-container-id-2\" class=\"sk-top-container\"><div class=\"sk-text-repr-fallback\"><pre>GridSearchCV(cv=StratifiedKFold(n_splits=5, random_state=3, shuffle=True),\n             estimator=Pipeline(steps=[(&#x27;fr&#x27;,\n                                        SelectKBest(k=50,\n                                                    score_func=&lt;function mutual_info_classif at 0x0000027D51B51040&gt;)),\n                                       (&#x27;stdscaler&#x27;, StandardScaler()),\n                                       (&#x27;knn&#x27;,\n                                        KNeighborsClassifier(n_neighbors=3))]),\n             param_grid={&#x27;fr__k&#x27;: [50, 75], &#x27;knn__n_neighbors&#x27;: [3, 5, 7]},\n             scoring=&#x27;accuracy&#x27;)</pre><b>In a Jupyter environment, please rerun this cell to show the HTML representation or trust the notebook. <br />On GitHub, the HTML representation is unable to render, please try loading this page with nbviewer.org.</b></div><div class=\"sk-container\" hidden><div class=\"sk-item sk-dashed-wrapped\"><div class=\"sk-label-container\"><div class=\"sk-label sk-toggleable\"><input class=\"sk-toggleable__control sk-hidden--visually\" id=\"sk-estimator-id-2\" type=\"checkbox\" ><label for=\"sk-estimator-id-2\" class=\"sk-toggleable__label sk-toggleable__label-arrow\">GridSearchCV</label><div class=\"sk-toggleable__content\"><pre>GridSearchCV(cv=StratifiedKFold(n_splits=5, random_state=3, shuffle=True),\n             estimator=Pipeline(steps=[(&#x27;fr&#x27;,\n                                        SelectKBest(k=50,\n                                                    score_func=&lt;function mutual_info_classif at 0x0000027D51B51040&gt;)),\n                                       (&#x27;stdscaler&#x27;, StandardScaler()),\n                                       (&#x27;knn&#x27;,\n                                        KNeighborsClassifier(n_neighbors=3))]),\n             param_grid={&#x27;fr__k&#x27;: [50, 75], &#x27;knn__n_neighbors&#x27;: [3, 5, 7]},\n             scoring=&#x27;accuracy&#x27;)</pre></div></div></div><div class=\"sk-parallel\"><div class=\"sk-parallel-item\"><div class=\"sk-item\"><div class=\"sk-label-container\"><div class=\"sk-label sk-toggleable\"><input class=\"sk-toggleable__control sk-hidden--visually\" id=\"sk-estimator-id-3\" type=\"checkbox\" ><label for=\"sk-estimator-id-3\" class=\"sk-toggleable__label sk-toggleable__label-arrow\">estimator: Pipeline</label><div class=\"sk-toggleable__content\"><pre>Pipeline(steps=[(&#x27;fr&#x27;,\n                 SelectKBest(k=50,\n                             score_func=&lt;function mutual_info_classif at 0x0000027D51B51040&gt;)),\n                (&#x27;stdscaler&#x27;, StandardScaler()),\n                (&#x27;knn&#x27;, KNeighborsClassifier(n_neighbors=3))])</pre></div></div></div><div class=\"sk-serial\"><div class=\"sk-item\"><div class=\"sk-serial\"><div class=\"sk-item\"><div class=\"sk-estimator sk-toggleable\"><input class=\"sk-toggleable__control sk-hidden--visually\" id=\"sk-estimator-id-4\" type=\"checkbox\" ><label for=\"sk-estimator-id-4\" class=\"sk-toggleable__label sk-toggleable__label-arrow\">SelectKBest</label><div class=\"sk-toggleable__content\"><pre>SelectKBest(k=50,\n            score_func=&lt;function mutual_info_classif at 0x0000027D51B51040&gt;)</pre></div></div></div><div class=\"sk-item\"><div class=\"sk-estimator sk-toggleable\"><input class=\"sk-toggleable__control sk-hidden--visually\" id=\"sk-estimator-id-5\" type=\"checkbox\" ><label for=\"sk-estimator-id-5\" class=\"sk-toggleable__label sk-toggleable__label-arrow\">StandardScaler</label><div class=\"sk-toggleable__content\"><pre>StandardScaler()</pre></div></div></div><div class=\"sk-item\"><div class=\"sk-estimator sk-toggleable\"><input class=\"sk-toggleable__control sk-hidden--visually\" id=\"sk-estimator-id-6\" type=\"checkbox\" ><label for=\"sk-estimator-id-6\" class=\"sk-toggleable__label sk-toggleable__label-arrow\">KNeighborsClassifier</label><div class=\"sk-toggleable__content\"><pre>KNeighborsClassifier(n_neighbors=3)</pre></div></div></div></div></div></div></div></div></div></div></div></div>"
     },
     "execution_count": 11,
     "metadata": {},
     "output_type": "execute_result"
    }
   ],
   "source": [
    "pipeline_knn_param0= {'knn__n_neighbors':[3,5,7],'fr__k':[50,75]}\n",
    "knn = GridSearchCV(estimator=Pipeline([('fr',SelectKBest(score_func=mutual_info_classif,k=50)),('stdscaler',StandardScaler()),('knn',neighbors.KNeighborsClassifier(n_neighbors=3))]),param_grid = pipeline_knn_param0, scoring = 'accuracy', cv=kfold)\n",
    "knn.fit(x_train, y_train)"
   ],
   "metadata": {
    "collapsed": false,
    "pycharm": {
     "name": "#%%\n"
    }
   }
  },
  {
   "cell_type": "markdown",
   "source": [
    "# svm_linear0"
   ],
   "metadata": {
    "collapsed": false,
    "pycharm": {
     "name": "#%% md\n"
    }
   }
  },
  {
   "cell_type": "code",
   "execution_count": 12,
   "outputs": [
    {
     "data": {
      "text/plain": "GridSearchCV(cv=StratifiedKFold(n_splits=5, random_state=3, shuffle=True),\n             estimator=SVC(C=1, decision_function_shape='ovo', gamma=1,\n                           kernel='linear', probability=True),\n             param_grid={'C': [0.01, 0.1, 1, 10, 100]}, scoring='accuracy')",
      "text/html": "<style>#sk-container-id-3 {color: black;background-color: white;}#sk-container-id-3 pre{padding: 0;}#sk-container-id-3 div.sk-toggleable {background-color: white;}#sk-container-id-3 label.sk-toggleable__label {cursor: pointer;display: block;width: 100%;margin-bottom: 0;padding: 0.3em;box-sizing: border-box;text-align: center;}#sk-container-id-3 label.sk-toggleable__label-arrow:before {content: \"▸\";float: left;margin-right: 0.25em;color: #696969;}#sk-container-id-3 label.sk-toggleable__label-arrow:hover:before {color: black;}#sk-container-id-3 div.sk-estimator:hover label.sk-toggleable__label-arrow:before {color: black;}#sk-container-id-3 div.sk-toggleable__content {max-height: 0;max-width: 0;overflow: hidden;text-align: left;background-color: #f0f8ff;}#sk-container-id-3 div.sk-toggleable__content pre {margin: 0.2em;color: black;border-radius: 0.25em;background-color: #f0f8ff;}#sk-container-id-3 input.sk-toggleable__control:checked~div.sk-toggleable__content {max-height: 200px;max-width: 100%;overflow: auto;}#sk-container-id-3 input.sk-toggleable__control:checked~label.sk-toggleable__label-arrow:before {content: \"▾\";}#sk-container-id-3 div.sk-estimator input.sk-toggleable__control:checked~label.sk-toggleable__label {background-color: #d4ebff;}#sk-container-id-3 div.sk-label input.sk-toggleable__control:checked~label.sk-toggleable__label {background-color: #d4ebff;}#sk-container-id-3 input.sk-hidden--visually {border: 0;clip: rect(1px 1px 1px 1px);clip: rect(1px, 1px, 1px, 1px);height: 1px;margin: -1px;overflow: hidden;padding: 0;position: absolute;width: 1px;}#sk-container-id-3 div.sk-estimator {font-family: monospace;background-color: #f0f8ff;border: 1px dotted black;border-radius: 0.25em;box-sizing: border-box;margin-bottom: 0.5em;}#sk-container-id-3 div.sk-estimator:hover {background-color: #d4ebff;}#sk-container-id-3 div.sk-parallel-item::after {content: \"\";width: 100%;border-bottom: 1px solid gray;flex-grow: 1;}#sk-container-id-3 div.sk-label:hover label.sk-toggleable__label {background-color: #d4ebff;}#sk-container-id-3 div.sk-serial::before {content: \"\";position: absolute;border-left: 1px solid gray;box-sizing: border-box;top: 0;bottom: 0;left: 50%;z-index: 0;}#sk-container-id-3 div.sk-serial {display: flex;flex-direction: column;align-items: center;background-color: white;padding-right: 0.2em;padding-left: 0.2em;position: relative;}#sk-container-id-3 div.sk-item {position: relative;z-index: 1;}#sk-container-id-3 div.sk-parallel {display: flex;align-items: stretch;justify-content: center;background-color: white;position: relative;}#sk-container-id-3 div.sk-item::before, #sk-container-id-3 div.sk-parallel-item::before {content: \"\";position: absolute;border-left: 1px solid gray;box-sizing: border-box;top: 0;bottom: 0;left: 50%;z-index: -1;}#sk-container-id-3 div.sk-parallel-item {display: flex;flex-direction: column;z-index: 1;position: relative;background-color: white;}#sk-container-id-3 div.sk-parallel-item:first-child::after {align-self: flex-end;width: 50%;}#sk-container-id-3 div.sk-parallel-item:last-child::after {align-self: flex-start;width: 50%;}#sk-container-id-3 div.sk-parallel-item:only-child::after {width: 0;}#sk-container-id-3 div.sk-dashed-wrapped {border: 1px dashed gray;margin: 0 0.4em 0.5em 0.4em;box-sizing: border-box;padding-bottom: 0.4em;background-color: white;}#sk-container-id-3 div.sk-label label {font-family: monospace;font-weight: bold;display: inline-block;line-height: 1.2em;}#sk-container-id-3 div.sk-label-container {text-align: center;}#sk-container-id-3 div.sk-container {/* jupyter's `normalize.less` sets `[hidden] { display: none; }` but bootstrap.min.css set `[hidden] { display: none !important; }` so we also need the `!important` here to be able to override the default hidden behavior on the sphinx rendered scikit-learn.org. See: https://github.com/scikit-learn/scikit-learn/issues/21755 */display: inline-block !important;position: relative;}#sk-container-id-3 div.sk-text-repr-fallback {display: none;}</style><div id=\"sk-container-id-3\" class=\"sk-top-container\"><div class=\"sk-text-repr-fallback\"><pre>GridSearchCV(cv=StratifiedKFold(n_splits=5, random_state=3, shuffle=True),\n             estimator=SVC(C=1, decision_function_shape=&#x27;ovo&#x27;, gamma=1,\n                           kernel=&#x27;linear&#x27;, probability=True),\n             param_grid={&#x27;C&#x27;: [0.01, 0.1, 1, 10, 100]}, scoring=&#x27;accuracy&#x27;)</pre><b>In a Jupyter environment, please rerun this cell to show the HTML representation or trust the notebook. <br />On GitHub, the HTML representation is unable to render, please try loading this page with nbviewer.org.</b></div><div class=\"sk-container\" hidden><div class=\"sk-item sk-dashed-wrapped\"><div class=\"sk-label-container\"><div class=\"sk-label sk-toggleable\"><input class=\"sk-toggleable__control sk-hidden--visually\" id=\"sk-estimator-id-7\" type=\"checkbox\" ><label for=\"sk-estimator-id-7\" class=\"sk-toggleable__label sk-toggleable__label-arrow\">GridSearchCV</label><div class=\"sk-toggleable__content\"><pre>GridSearchCV(cv=StratifiedKFold(n_splits=5, random_state=3, shuffle=True),\n             estimator=SVC(C=1, decision_function_shape=&#x27;ovo&#x27;, gamma=1,\n                           kernel=&#x27;linear&#x27;, probability=True),\n             param_grid={&#x27;C&#x27;: [0.01, 0.1, 1, 10, 100]}, scoring=&#x27;accuracy&#x27;)</pre></div></div></div><div class=\"sk-parallel\"><div class=\"sk-parallel-item\"><div class=\"sk-item\"><div class=\"sk-label-container\"><div class=\"sk-label sk-toggleable\"><input class=\"sk-toggleable__control sk-hidden--visually\" id=\"sk-estimator-id-8\" type=\"checkbox\" ><label for=\"sk-estimator-id-8\" class=\"sk-toggleable__label sk-toggleable__label-arrow\">estimator: SVC</label><div class=\"sk-toggleable__content\"><pre>SVC(C=1, decision_function_shape=&#x27;ovo&#x27;, gamma=1, kernel=&#x27;linear&#x27;,\n    probability=True)</pre></div></div></div><div class=\"sk-serial\"><div class=\"sk-item\"><div class=\"sk-estimator sk-toggleable\"><input class=\"sk-toggleable__control sk-hidden--visually\" id=\"sk-estimator-id-9\" type=\"checkbox\" ><label for=\"sk-estimator-id-9\" class=\"sk-toggleable__label sk-toggleable__label-arrow\">SVC</label><div class=\"sk-toggleable__content\"><pre>SVC(C=1, decision_function_shape=&#x27;ovo&#x27;, gamma=1, kernel=&#x27;linear&#x27;,\n    probability=True)</pre></div></div></div></div></div></div></div></div></div></div>"
     },
     "execution_count": 12,
     "metadata": {},
     "output_type": "execute_result"
    }
   ],
   "source": [
    "from sklearn import svm\n",
    "linear_svm_param0 = {'C':[0.01, 0.1, 1, 10, 100]}\n",
    "svm_linear0 = GridSearchCV(estimator=svm.SVC(kernel='linear', gamma=1, C=1, probability=True,decision_function_shape='ovo'),param_grid = linear_svm_param0, scoring = 'accuracy', cv=kfold)\n",
    "svm_linear0.fit(x_train, y_train)"
   ],
   "metadata": {
    "collapsed": false,
    "pycharm": {
     "name": "#%%\n"
    }
   }
  },
  {
   "cell_type": "markdown",
   "source": [
    "# svm_linear"
   ],
   "metadata": {
    "collapsed": false,
    "pycharm": {
     "name": "#%% md\n"
    }
   }
  },
  {
   "cell_type": "code",
   "execution_count": 13,
   "outputs": [
    {
     "data": {
      "text/plain": "GridSearchCV(cv=StratifiedKFold(n_splits=5, random_state=3, shuffle=True),\n             estimator=Pipeline(steps=[('fr',\n                                        SelectKBest(k=50,\n                                                    score_func=<function mutual_info_classif at 0x0000027D51B51040>)),\n                                       ('stdscaler', StandardScaler()),\n                                       ('svc',\n                                        SVC(C=1, decision_function_shape='ovo',\n                                            gamma=1, kernel='linear',\n                                            probability=True))]),\n             param_grid={'fr__k': [50, 75], 'svc__C': [0.01, 0.1, 1, 10, 100]},\n             scoring='accuracy')",
      "text/html": "<style>#sk-container-id-4 {color: black;background-color: white;}#sk-container-id-4 pre{padding: 0;}#sk-container-id-4 div.sk-toggleable {background-color: white;}#sk-container-id-4 label.sk-toggleable__label {cursor: pointer;display: block;width: 100%;margin-bottom: 0;padding: 0.3em;box-sizing: border-box;text-align: center;}#sk-container-id-4 label.sk-toggleable__label-arrow:before {content: \"▸\";float: left;margin-right: 0.25em;color: #696969;}#sk-container-id-4 label.sk-toggleable__label-arrow:hover:before {color: black;}#sk-container-id-4 div.sk-estimator:hover label.sk-toggleable__label-arrow:before {color: black;}#sk-container-id-4 div.sk-toggleable__content {max-height: 0;max-width: 0;overflow: hidden;text-align: left;background-color: #f0f8ff;}#sk-container-id-4 div.sk-toggleable__content pre {margin: 0.2em;color: black;border-radius: 0.25em;background-color: #f0f8ff;}#sk-container-id-4 input.sk-toggleable__control:checked~div.sk-toggleable__content {max-height: 200px;max-width: 100%;overflow: auto;}#sk-container-id-4 input.sk-toggleable__control:checked~label.sk-toggleable__label-arrow:before {content: \"▾\";}#sk-container-id-4 div.sk-estimator input.sk-toggleable__control:checked~label.sk-toggleable__label {background-color: #d4ebff;}#sk-container-id-4 div.sk-label input.sk-toggleable__control:checked~label.sk-toggleable__label {background-color: #d4ebff;}#sk-container-id-4 input.sk-hidden--visually {border: 0;clip: rect(1px 1px 1px 1px);clip: rect(1px, 1px, 1px, 1px);height: 1px;margin: -1px;overflow: hidden;padding: 0;position: absolute;width: 1px;}#sk-container-id-4 div.sk-estimator {font-family: monospace;background-color: #f0f8ff;border: 1px dotted black;border-radius: 0.25em;box-sizing: border-box;margin-bottom: 0.5em;}#sk-container-id-4 div.sk-estimator:hover {background-color: #d4ebff;}#sk-container-id-4 div.sk-parallel-item::after {content: \"\";width: 100%;border-bottom: 1px solid gray;flex-grow: 1;}#sk-container-id-4 div.sk-label:hover label.sk-toggleable__label {background-color: #d4ebff;}#sk-container-id-4 div.sk-serial::before {content: \"\";position: absolute;border-left: 1px solid gray;box-sizing: border-box;top: 0;bottom: 0;left: 50%;z-index: 0;}#sk-container-id-4 div.sk-serial {display: flex;flex-direction: column;align-items: center;background-color: white;padding-right: 0.2em;padding-left: 0.2em;position: relative;}#sk-container-id-4 div.sk-item {position: relative;z-index: 1;}#sk-container-id-4 div.sk-parallel {display: flex;align-items: stretch;justify-content: center;background-color: white;position: relative;}#sk-container-id-4 div.sk-item::before, #sk-container-id-4 div.sk-parallel-item::before {content: \"\";position: absolute;border-left: 1px solid gray;box-sizing: border-box;top: 0;bottom: 0;left: 50%;z-index: -1;}#sk-container-id-4 div.sk-parallel-item {display: flex;flex-direction: column;z-index: 1;position: relative;background-color: white;}#sk-container-id-4 div.sk-parallel-item:first-child::after {align-self: flex-end;width: 50%;}#sk-container-id-4 div.sk-parallel-item:last-child::after {align-self: flex-start;width: 50%;}#sk-container-id-4 div.sk-parallel-item:only-child::after {width: 0;}#sk-container-id-4 div.sk-dashed-wrapped {border: 1px dashed gray;margin: 0 0.4em 0.5em 0.4em;box-sizing: border-box;padding-bottom: 0.4em;background-color: white;}#sk-container-id-4 div.sk-label label {font-family: monospace;font-weight: bold;display: inline-block;line-height: 1.2em;}#sk-container-id-4 div.sk-label-container {text-align: center;}#sk-container-id-4 div.sk-container {/* jupyter's `normalize.less` sets `[hidden] { display: none; }` but bootstrap.min.css set `[hidden] { display: none !important; }` so we also need the `!important` here to be able to override the default hidden behavior on the sphinx rendered scikit-learn.org. See: https://github.com/scikit-learn/scikit-learn/issues/21755 */display: inline-block !important;position: relative;}#sk-container-id-4 div.sk-text-repr-fallback {display: none;}</style><div id=\"sk-container-id-4\" class=\"sk-top-container\"><div class=\"sk-text-repr-fallback\"><pre>GridSearchCV(cv=StratifiedKFold(n_splits=5, random_state=3, shuffle=True),\n             estimator=Pipeline(steps=[(&#x27;fr&#x27;,\n                                        SelectKBest(k=50,\n                                                    score_func=&lt;function mutual_info_classif at 0x0000027D51B51040&gt;)),\n                                       (&#x27;stdscaler&#x27;, StandardScaler()),\n                                       (&#x27;svc&#x27;,\n                                        SVC(C=1, decision_function_shape=&#x27;ovo&#x27;,\n                                            gamma=1, kernel=&#x27;linear&#x27;,\n                                            probability=True))]),\n             param_grid={&#x27;fr__k&#x27;: [50, 75], &#x27;svc__C&#x27;: [0.01, 0.1, 1, 10, 100]},\n             scoring=&#x27;accuracy&#x27;)</pre><b>In a Jupyter environment, please rerun this cell to show the HTML representation or trust the notebook. <br />On GitHub, the HTML representation is unable to render, please try loading this page with nbviewer.org.</b></div><div class=\"sk-container\" hidden><div class=\"sk-item sk-dashed-wrapped\"><div class=\"sk-label-container\"><div class=\"sk-label sk-toggleable\"><input class=\"sk-toggleable__control sk-hidden--visually\" id=\"sk-estimator-id-10\" type=\"checkbox\" ><label for=\"sk-estimator-id-10\" class=\"sk-toggleable__label sk-toggleable__label-arrow\">GridSearchCV</label><div class=\"sk-toggleable__content\"><pre>GridSearchCV(cv=StratifiedKFold(n_splits=5, random_state=3, shuffle=True),\n             estimator=Pipeline(steps=[(&#x27;fr&#x27;,\n                                        SelectKBest(k=50,\n                                                    score_func=&lt;function mutual_info_classif at 0x0000027D51B51040&gt;)),\n                                       (&#x27;stdscaler&#x27;, StandardScaler()),\n                                       (&#x27;svc&#x27;,\n                                        SVC(C=1, decision_function_shape=&#x27;ovo&#x27;,\n                                            gamma=1, kernel=&#x27;linear&#x27;,\n                                            probability=True))]),\n             param_grid={&#x27;fr__k&#x27;: [50, 75], &#x27;svc__C&#x27;: [0.01, 0.1, 1, 10, 100]},\n             scoring=&#x27;accuracy&#x27;)</pre></div></div></div><div class=\"sk-parallel\"><div class=\"sk-parallel-item\"><div class=\"sk-item\"><div class=\"sk-label-container\"><div class=\"sk-label sk-toggleable\"><input class=\"sk-toggleable__control sk-hidden--visually\" id=\"sk-estimator-id-11\" type=\"checkbox\" ><label for=\"sk-estimator-id-11\" class=\"sk-toggleable__label sk-toggleable__label-arrow\">estimator: Pipeline</label><div class=\"sk-toggleable__content\"><pre>Pipeline(steps=[(&#x27;fr&#x27;,\n                 SelectKBest(k=50,\n                             score_func=&lt;function mutual_info_classif at 0x0000027D51B51040&gt;)),\n                (&#x27;stdscaler&#x27;, StandardScaler()),\n                (&#x27;svc&#x27;,\n                 SVC(C=1, decision_function_shape=&#x27;ovo&#x27;, gamma=1,\n                     kernel=&#x27;linear&#x27;, probability=True))])</pre></div></div></div><div class=\"sk-serial\"><div class=\"sk-item\"><div class=\"sk-serial\"><div class=\"sk-item\"><div class=\"sk-estimator sk-toggleable\"><input class=\"sk-toggleable__control sk-hidden--visually\" id=\"sk-estimator-id-12\" type=\"checkbox\" ><label for=\"sk-estimator-id-12\" class=\"sk-toggleable__label sk-toggleable__label-arrow\">SelectKBest</label><div class=\"sk-toggleable__content\"><pre>SelectKBest(k=50,\n            score_func=&lt;function mutual_info_classif at 0x0000027D51B51040&gt;)</pre></div></div></div><div class=\"sk-item\"><div class=\"sk-estimator sk-toggleable\"><input class=\"sk-toggleable__control sk-hidden--visually\" id=\"sk-estimator-id-13\" type=\"checkbox\" ><label for=\"sk-estimator-id-13\" class=\"sk-toggleable__label sk-toggleable__label-arrow\">StandardScaler</label><div class=\"sk-toggleable__content\"><pre>StandardScaler()</pre></div></div></div><div class=\"sk-item\"><div class=\"sk-estimator sk-toggleable\"><input class=\"sk-toggleable__control sk-hidden--visually\" id=\"sk-estimator-id-14\" type=\"checkbox\" ><label for=\"sk-estimator-id-14\" class=\"sk-toggleable__label sk-toggleable__label-arrow\">SVC</label><div class=\"sk-toggleable__content\"><pre>SVC(C=1, decision_function_shape=&#x27;ovo&#x27;, gamma=1, kernel=&#x27;linear&#x27;,\n    probability=True)</pre></div></div></div></div></div></div></div></div></div></div></div></div>"
     },
     "execution_count": 13,
     "metadata": {},
     "output_type": "execute_result"
    }
   ],
   "source": [
    "pipeline_linear_svm_param = {'svc__C':[0.01, 0.1, 1, 10, 100],'fr__k':[50,75]}\n",
    "svm_linear = GridSearchCV(Pipeline([('fr',SelectKBest(score_func=mutual_info_classif,k=50)),\n",
    "('stdscaler',StandardScaler()),\n",
    "('svc',svm.SVC(kernel='linear', gamma=1, C=1, probability=True,decision_function_shape='ovo'))]), param_grid = pipeline_linear_svm_param, scoring = 'accuracy', cv=kfold)\n",
    "\n",
    "svm_linear.fit(x_train, y_train)"
   ],
   "metadata": {
    "collapsed": false,
    "pycharm": {
     "name": "#%%\n"
    }
   }
  },
  {
   "cell_type": "code",
   "execution_count": 14,
   "outputs": [
    {
     "data": {
      "text/plain": "array([0.96629213, 1.        , 0.98876404, 1.        , 0.93258427])"
     },
     "execution_count": 14,
     "metadata": {},
     "output_type": "execute_result"
    }
   ],
   "source": [
    "from sklearn.model_selection import cross_val_score\n",
    "cross_val_score(svm_linear, x_train, y_train, cv=5, scoring='accuracy')"
   ],
   "metadata": {
    "collapsed": false,
    "pycharm": {
     "name": "#%%\n"
    }
   }
  },
  {
   "cell_type": "markdown",
   "source": [
    "# svm_rbf"
   ],
   "metadata": {
    "collapsed": false,
    "pycharm": {
     "name": "#%% md\n"
    }
   }
  },
  {
   "cell_type": "code",
   "execution_count": 15,
   "outputs": [
    {
     "data": {
      "text/plain": "GridSearchCV(cv=StratifiedKFold(n_splits=5, random_state=3, shuffle=True),\n             estimator=Pipeline(steps=[('fr',\n                                        SelectKBest(k=50,\n                                                    score_func=<function mutual_info_classif at 0x0000027D51B51040>)),\n                                       ('stdscaler', StandardScaler()),\n                                       ('svc',\n                                        SVC(C=1, decision_function_shape='ovo',\n                                            gamma=1, probability=True))]),\n             param_grid={'fr__k': [50, 75], 'svc__C': [0.01, 0.1, 1, 10, 100],\n                         'svc__gamma': [0.001, 0.01, 0.1, 1]},\n             scoring='accuracy')",
      "text/html": "<style>#sk-container-id-5 {color: black;background-color: white;}#sk-container-id-5 pre{padding: 0;}#sk-container-id-5 div.sk-toggleable {background-color: white;}#sk-container-id-5 label.sk-toggleable__label {cursor: pointer;display: block;width: 100%;margin-bottom: 0;padding: 0.3em;box-sizing: border-box;text-align: center;}#sk-container-id-5 label.sk-toggleable__label-arrow:before {content: \"▸\";float: left;margin-right: 0.25em;color: #696969;}#sk-container-id-5 label.sk-toggleable__label-arrow:hover:before {color: black;}#sk-container-id-5 div.sk-estimator:hover label.sk-toggleable__label-arrow:before {color: black;}#sk-container-id-5 div.sk-toggleable__content {max-height: 0;max-width: 0;overflow: hidden;text-align: left;background-color: #f0f8ff;}#sk-container-id-5 div.sk-toggleable__content pre {margin: 0.2em;color: black;border-radius: 0.25em;background-color: #f0f8ff;}#sk-container-id-5 input.sk-toggleable__control:checked~div.sk-toggleable__content {max-height: 200px;max-width: 100%;overflow: auto;}#sk-container-id-5 input.sk-toggleable__control:checked~label.sk-toggleable__label-arrow:before {content: \"▾\";}#sk-container-id-5 div.sk-estimator input.sk-toggleable__control:checked~label.sk-toggleable__label {background-color: #d4ebff;}#sk-container-id-5 div.sk-label input.sk-toggleable__control:checked~label.sk-toggleable__label {background-color: #d4ebff;}#sk-container-id-5 input.sk-hidden--visually {border: 0;clip: rect(1px 1px 1px 1px);clip: rect(1px, 1px, 1px, 1px);height: 1px;margin: -1px;overflow: hidden;padding: 0;position: absolute;width: 1px;}#sk-container-id-5 div.sk-estimator {font-family: monospace;background-color: #f0f8ff;border: 1px dotted black;border-radius: 0.25em;box-sizing: border-box;margin-bottom: 0.5em;}#sk-container-id-5 div.sk-estimator:hover {background-color: #d4ebff;}#sk-container-id-5 div.sk-parallel-item::after {content: \"\";width: 100%;border-bottom: 1px solid gray;flex-grow: 1;}#sk-container-id-5 div.sk-label:hover label.sk-toggleable__label {background-color: #d4ebff;}#sk-container-id-5 div.sk-serial::before {content: \"\";position: absolute;border-left: 1px solid gray;box-sizing: border-box;top: 0;bottom: 0;left: 50%;z-index: 0;}#sk-container-id-5 div.sk-serial {display: flex;flex-direction: column;align-items: center;background-color: white;padding-right: 0.2em;padding-left: 0.2em;position: relative;}#sk-container-id-5 div.sk-item {position: relative;z-index: 1;}#sk-container-id-5 div.sk-parallel {display: flex;align-items: stretch;justify-content: center;background-color: white;position: relative;}#sk-container-id-5 div.sk-item::before, #sk-container-id-5 div.sk-parallel-item::before {content: \"\";position: absolute;border-left: 1px solid gray;box-sizing: border-box;top: 0;bottom: 0;left: 50%;z-index: -1;}#sk-container-id-5 div.sk-parallel-item {display: flex;flex-direction: column;z-index: 1;position: relative;background-color: white;}#sk-container-id-5 div.sk-parallel-item:first-child::after {align-self: flex-end;width: 50%;}#sk-container-id-5 div.sk-parallel-item:last-child::after {align-self: flex-start;width: 50%;}#sk-container-id-5 div.sk-parallel-item:only-child::after {width: 0;}#sk-container-id-5 div.sk-dashed-wrapped {border: 1px dashed gray;margin: 0 0.4em 0.5em 0.4em;box-sizing: border-box;padding-bottom: 0.4em;background-color: white;}#sk-container-id-5 div.sk-label label {font-family: monospace;font-weight: bold;display: inline-block;line-height: 1.2em;}#sk-container-id-5 div.sk-label-container {text-align: center;}#sk-container-id-5 div.sk-container {/* jupyter's `normalize.less` sets `[hidden] { display: none; }` but bootstrap.min.css set `[hidden] { display: none !important; }` so we also need the `!important` here to be able to override the default hidden behavior on the sphinx rendered scikit-learn.org. See: https://github.com/scikit-learn/scikit-learn/issues/21755 */display: inline-block !important;position: relative;}#sk-container-id-5 div.sk-text-repr-fallback {display: none;}</style><div id=\"sk-container-id-5\" class=\"sk-top-container\"><div class=\"sk-text-repr-fallback\"><pre>GridSearchCV(cv=StratifiedKFold(n_splits=5, random_state=3, shuffle=True),\n             estimator=Pipeline(steps=[(&#x27;fr&#x27;,\n                                        SelectKBest(k=50,\n                                                    score_func=&lt;function mutual_info_classif at 0x0000027D51B51040&gt;)),\n                                       (&#x27;stdscaler&#x27;, StandardScaler()),\n                                       (&#x27;svc&#x27;,\n                                        SVC(C=1, decision_function_shape=&#x27;ovo&#x27;,\n                                            gamma=1, probability=True))]),\n             param_grid={&#x27;fr__k&#x27;: [50, 75], &#x27;svc__C&#x27;: [0.01, 0.1, 1, 10, 100],\n                         &#x27;svc__gamma&#x27;: [0.001, 0.01, 0.1, 1]},\n             scoring=&#x27;accuracy&#x27;)</pre><b>In a Jupyter environment, please rerun this cell to show the HTML representation or trust the notebook. <br />On GitHub, the HTML representation is unable to render, please try loading this page with nbviewer.org.</b></div><div class=\"sk-container\" hidden><div class=\"sk-item sk-dashed-wrapped\"><div class=\"sk-label-container\"><div class=\"sk-label sk-toggleable\"><input class=\"sk-toggleable__control sk-hidden--visually\" id=\"sk-estimator-id-15\" type=\"checkbox\" ><label for=\"sk-estimator-id-15\" class=\"sk-toggleable__label sk-toggleable__label-arrow\">GridSearchCV</label><div class=\"sk-toggleable__content\"><pre>GridSearchCV(cv=StratifiedKFold(n_splits=5, random_state=3, shuffle=True),\n             estimator=Pipeline(steps=[(&#x27;fr&#x27;,\n                                        SelectKBest(k=50,\n                                                    score_func=&lt;function mutual_info_classif at 0x0000027D51B51040&gt;)),\n                                       (&#x27;stdscaler&#x27;, StandardScaler()),\n                                       (&#x27;svc&#x27;,\n                                        SVC(C=1, decision_function_shape=&#x27;ovo&#x27;,\n                                            gamma=1, probability=True))]),\n             param_grid={&#x27;fr__k&#x27;: [50, 75], &#x27;svc__C&#x27;: [0.01, 0.1, 1, 10, 100],\n                         &#x27;svc__gamma&#x27;: [0.001, 0.01, 0.1, 1]},\n             scoring=&#x27;accuracy&#x27;)</pre></div></div></div><div class=\"sk-parallel\"><div class=\"sk-parallel-item\"><div class=\"sk-item\"><div class=\"sk-label-container\"><div class=\"sk-label sk-toggleable\"><input class=\"sk-toggleable__control sk-hidden--visually\" id=\"sk-estimator-id-16\" type=\"checkbox\" ><label for=\"sk-estimator-id-16\" class=\"sk-toggleable__label sk-toggleable__label-arrow\">estimator: Pipeline</label><div class=\"sk-toggleable__content\"><pre>Pipeline(steps=[(&#x27;fr&#x27;,\n                 SelectKBest(k=50,\n                             score_func=&lt;function mutual_info_classif at 0x0000027D51B51040&gt;)),\n                (&#x27;stdscaler&#x27;, StandardScaler()),\n                (&#x27;svc&#x27;,\n                 SVC(C=1, decision_function_shape=&#x27;ovo&#x27;, gamma=1,\n                     probability=True))])</pre></div></div></div><div class=\"sk-serial\"><div class=\"sk-item\"><div class=\"sk-serial\"><div class=\"sk-item\"><div class=\"sk-estimator sk-toggleable\"><input class=\"sk-toggleable__control sk-hidden--visually\" id=\"sk-estimator-id-17\" type=\"checkbox\" ><label for=\"sk-estimator-id-17\" class=\"sk-toggleable__label sk-toggleable__label-arrow\">SelectKBest</label><div class=\"sk-toggleable__content\"><pre>SelectKBest(k=50,\n            score_func=&lt;function mutual_info_classif at 0x0000027D51B51040&gt;)</pre></div></div></div><div class=\"sk-item\"><div class=\"sk-estimator sk-toggleable\"><input class=\"sk-toggleable__control sk-hidden--visually\" id=\"sk-estimator-id-18\" type=\"checkbox\" ><label for=\"sk-estimator-id-18\" class=\"sk-toggleable__label sk-toggleable__label-arrow\">StandardScaler</label><div class=\"sk-toggleable__content\"><pre>StandardScaler()</pre></div></div></div><div class=\"sk-item\"><div class=\"sk-estimator sk-toggleable\"><input class=\"sk-toggleable__control sk-hidden--visually\" id=\"sk-estimator-id-19\" type=\"checkbox\" ><label for=\"sk-estimator-id-19\" class=\"sk-toggleable__label sk-toggleable__label-arrow\">SVC</label><div class=\"sk-toggleable__content\"><pre>SVC(C=1, decision_function_shape=&#x27;ovo&#x27;, gamma=1, probability=True)</pre></div></div></div></div></div></div></div></div></div></div></div></div>"
     },
     "execution_count": 15,
     "metadata": {},
     "output_type": "execute_result"
    }
   ],
   "source": [
    "\n",
    "pipeline_rbf_svm_param0 = {'svc__C':[0.01, 0.1, 1, 10, 100],'svc__gamma':[0.001,0.01,0.1,1],'fr__k':[50,75]}\n",
    "svm_rbf = GridSearchCV(estimator=Pipeline([('fr',SelectKBest(score_func=mutual_info_classif,k=50)),('stdscaler',StandardScaler()),('svc',svm.SVC(kernel='rbf', gamma=1, C=1, probability=True,decision_function_shape='ovo'))]),param_grid = pipeline_rbf_svm_param0, scoring = 'accuracy', cv=kfold)\n",
    "svm_rbf.fit(x_train, y_train)"
   ],
   "metadata": {
    "collapsed": false,
    "pycharm": {
     "name": "#%%\n"
    }
   }
  },
  {
   "cell_type": "markdown",
   "source": [
    "## 畫圖比較"
   ],
   "metadata": {
    "collapsed": false,
    "pycharm": {
     "name": "#%% md\n"
    }
   }
  },
  {
   "cell_type": "code",
   "execution_count": 16,
   "outputs": [],
   "source": [
    "x_label = [\"batch\"+str(i) for i in range(2,11)]"
   ],
   "metadata": {
    "collapsed": false,
    "pycharm": {
     "name": "#%%\n"
    }
   }
  },
  {
   "cell_type": "code",
   "execution_count": 17,
   "outputs": [
    {
     "name": "stdout",
     "output_type": "stream",
     "text": [
      "(1244, 128)\n",
      "(1244,)\n",
      "9\n"
     ]
    }
   ],
   "source": [
    "x_test = []\n",
    "y_test = []\n",
    "for i in range(2,11):\n",
    "    x_test_temp, y_test_temp = load_svmlight_file(output_folder+\"processed_batch\"+str(i)+\".dat\")\n",
    "    x_test_temp = x_test_temp.toarray()\n",
    "    y_test_temp = y_test_temp.astype(int)\n",
    "    y_test_temp = y_test_temp-1\n",
    "    x_test.append(x_test_temp)\n",
    "    y_test.append(y_test_temp)\n",
    "print(x_test[0].shape)\n",
    "print(y_test[0].shape)\n",
    "print(len(x_test))\n"
   ],
   "metadata": {
    "collapsed": false,
    "pycharm": {
     "name": "#%%\n"
    }
   }
  },
  {
   "cell_type": "code",
   "execution_count": 18,
   "outputs": [],
   "source": [
    "from sklearn.metrics import accuracy_score\n",
    "\n",
    "decision_tree_accuracy = []\n",
    "knn_accuracy = []\n",
    "linear_svm0_accuracy = []\n",
    "linear_svm_accuracy = []\n",
    "rbf_svm_accuracy = []\n",
    "\n",
    "\n",
    "\n",
    "for i in range(len(x_test)):\n",
    "    decision_tree_pred = dt.predict(x_test[i])\n",
    "    decision_tree_accuracy.append(accuracy_score(y_test[i], decision_tree_pred))\n",
    "    knn_pred = knn.predict(x_test[i])\n",
    "    knn_accuracy.append(accuracy_score(y_test[i], knn_pred))\n",
    "    linear_svm0_pred = svm_linear0.predict(x_test[i])\n",
    "    linear_svm0_accuracy.append(accuracy_score(y_test[i], linear_svm0_pred))\n",
    "    linear_svm_pred = svm_linear.predict(x_test[i])\n",
    "    linear_svm_accuracy.append(accuracy_score(y_test[i], linear_svm_pred))\n",
    "    rbf_svm_pred = svm_rbf.predict(x_test[i])\n",
    "    rbf_svm_accuracy.append(accuracy_score(y_test[i], rbf_svm_pred))\n"
   ],
   "metadata": {
    "collapsed": false,
    "pycharm": {
     "name": "#%%\n"
    }
   }
  },
  {
   "cell_type": "code",
   "execution_count": 19,
   "outputs": [
    {
     "data": {
      "text/plain": "<Figure size 1080x576 with 1 Axes>",
      "image/png": "[encoded data removed]"
     },
     "metadata": {
      "needs_background": "light"
     },
     "output_type": "display_data"
    }
   ],
   "source": [
    "import matplotlib.pyplot as plt\n",
    "plt.figure(figsize=(15,8))\n",
    "ax = plt.gca()\n",
    "ax.set_ylim([0.0, 1.0])\n",
    "plt.plot(x_label,decision_tree_accuracy,marker='o', label='decision_tree')\n",
    "plt.plot(x_label,knn_accuracy,marker='o', label='knn')\n",
    "plt.plot(x_label,linear_svm0_accuracy,marker='o', label='linear_svm0')\n",
    "plt.plot(x_label,linear_svm_accuracy,marker='o', label='linear_svm')\n",
    "plt.plot(x_label,rbf_svm_accuracy,marker='o', label='rbf_svm')\n",
    "\n",
    "plt.legend()\n",
    "plt.grid()\n",
    "plt.show()"
   ],
   "metadata": {
    "collapsed": false,
    "pycharm": {
     "name": "#%%\n"
    }
   }
  },
  {
   "cell_type": "markdown",
   "source": [
    "# Neuruel network"
   ],
   "metadata": {
    "collapsed": false,
    "pycharm": {
     "name": "#%% md\n"
    }
   }
  },
  {
   "cell_type": "code",
   "execution_count": 20,
   "outputs": [
    {
     "name": "stdout",
     "output_type": "stream",
     "text": [
      "(445, 128)\n",
      "(445,)\n"
     ]
    }
   ],
   "source": [
    "from keras.utils import np_utils\n",
    "x_train, y_train = load_svmlight_file(output_folder+\"processed_batch1.dat\")\n",
    "x_train = x_train.toarray()\n",
    "y_train = y_train.astype(int)\n",
    "y_train = y_train-1\n",
    "# y_train=np_utils.to_categorical(y_train)\n",
    "print(x_train.shape)\n",
    "print(y_train.shape)"
   ],
   "metadata": {
    "collapsed": false,
    "pycharm": {
     "name": "#%%\n"
    }
   }
  },
  {
   "cell_type": "code",
   "execution_count": 21,
   "outputs": [
    {
     "name": "stdout",
     "output_type": "stream",
     "text": [
      "[[ 1.55961621e+04  1.86824500e+00  2.37160400e+00 ... -5.45079000e-01\n",
      "  -9.02241000e-01 -2.65452900e+00]\n",
      " [ 2.64020704e+04  2.53240100e+00  5.41120900e+00 ... -8.89333000e-01\n",
      "  -1.32350500e+00 -1.74922500e+00]\n",
      " [ 4.21035820e+04  3.45418900e+00  8.19817500e+00 ... -1.33455800e+00\n",
      "  -1.99365900e+00 -2.34837000e+00]\n",
      " ...\n",
      " [ 1.07898233e+05  8.99476100e+00  2.51310790e+01 ... -8.31980000e-01\n",
      "  -1.29934500e+00 -3.86036200e+00]\n",
      " [ 1.19795035e+05  9.58260600e+00  2.89447160e+01 ... -9.70762000e-01\n",
      "  -1.69386800e+00 -2.72047200e+00]\n",
      " [ 1.40782298e+05  1.09753420e+01  3.55248020e+01 ... -1.28115700e+00\n",
      "  -2.33268000e+00 -3.73508700e+00]]\n"
     ]
    }
   ],
   "source": [
    "print(x_train)"
   ],
   "metadata": {
    "collapsed": false,
    "pycharm": {
     "name": "#%%\n"
    }
   }
  },
  {
   "cell_type": "code",
   "execution_count": 22,
   "outputs": [
    {
     "name": "stdout",
     "output_type": "stream",
     "text": [
      "[0 0 0 0 0 0 0 0 0 0 0 0 0 0 0 0 0 0 0 0 0 0 0 0 0 0 0 0 0 0 0 0 0 0 0 0 0\n",
      " 0 0 0 0 0 0 0 0 0 0 0 0 0 0 0 0 0 0 0 0 0 0 0 0 0 0 0 0 0 0 0 0 0 0 0 0 0\n",
      " 0 0 0 0 0 0 0 0 0 0 1 1 1 1 1 1 1 1 1 1 1 1 1 1 1 1 1 1 1 1 1 1 1 1 1 1 1\n",
      " 1 1 1 1 1 1 1 1 1 1 1 1 1 1 1 1 1 1 1 1 1 1 1 1 1 1 1 1 1 1 1 1 1 1 1 1 1\n",
      " 1 1 1 1 1 1 1 1 1 1 1 1 1 1 1 1 1 1 1 1 1 1 1 1 2 2 2 2 2 2 2 2 2 2 2 2 2\n",
      " 2 2 2 2 2 2 2 2 2 2 2 2 2 2 2 2 2 2 2 2 2 2 2 2 2 2 2 2 2 2 2 2 2 2 2 2 2\n",
      " 2 2 2 2 2 2 2 2 2 2 2 2 2 2 2 2 2 2 2 2 2 2 2 2 2 2 0 0 0 0 0 0 1 1 1 1 1\n",
      " 1 1 1 1 1 2 2 2 2 2 2 2 3 3 3 3 3 3 3 3 3 3 3 3 3 3 3 3 3 3 3 3 3 3 3 3 3\n",
      " 3 3 3 3 3 4 4 4 4 4 4 4 4 4 4 4 4 4 4 4 4 4 4 4 4 4 4 4 4 4 4 4 4 4 4 4 4\n",
      " 4 4 4 4 4 4 4 4 4 4 4 4 4 4 4 4 4 4 4 4 4 4 4 4 4 4 4 4 4 4 4 4 4 4 4 4 4\n",
      " 4 5 5 5 5 5 5 5 5 5 5 5 5 5 5 5 5 5 5 5 5 5 5 5 5 5 5 5 5 5 5 5 5 5 5 5 5\n",
      " 5 5 5 5 5 5 5 5 5 5 5 5 5 5 5 5 5 5 5 5 5 5 5 5 5 5 5 5 5 5 5 5 5 5 5 5 5\n",
      " 5]\n"
     ]
    }
   ],
   "source": [
    "print(y_train)"
   ],
   "metadata": {
    "collapsed": false,
    "pycharm": {
     "name": "#%%\n"
    }
   }
  },
  {
   "cell_type": "code",
   "execution_count": 23,
   "outputs": [],
   "source": [
    "from tensorflow.keras.layers import BatchNormalization\n",
    "from tensorflow.keras.models import Sequential\n",
    "from tensorflow.keras.layers import Dense\n",
    "from tensorflow.keras.layers import Dropout\n",
    "from tensorflow.keras.layers import Activation\n",
    "\n",
    "TRAIN_EPOCHS = 20"
   ],
   "metadata": {
    "collapsed": false,
    "pycharm": {
     "name": "#%%\n"
    }
   }
  },
  {
   "cell_type": "markdown",
   "source": [
    "# Model 1"
   ],
   "metadata": {
    "collapsed": false,
    "pycharm": {
     "name": "#%% md\n"
    }
   }
  },
  {
   "cell_type": "code",
   "execution_count": 24,
   "outputs": [
    {
     "name": "stdout",
     "output_type": "stream",
     "text": [
      "Epoch 1/20\n",
      "14/14 [==============================] - 1s 2ms/step - loss: 1.0426 - accuracy: 0.6067\n",
      "Epoch 2/20\n",
      "14/14 [==============================] - 0s 3ms/step - loss: 0.4955 - accuracy: 0.8157\n",
      "Epoch 3/20\n",
      "14/14 [==============================] - 0s 2ms/step - loss: 0.4532 - accuracy: 0.8427\n",
      "Epoch 4/20\n",
      "14/14 [==============================] - 0s 2ms/step - loss: 0.3300 - accuracy: 0.8764\n",
      "Epoch 5/20\n",
      "14/14 [==============================] - 0s 2ms/step - loss: 0.2643 - accuracy: 0.8989\n",
      "Epoch 6/20\n",
      "14/14 [==============================] - 0s 2ms/step - loss: 0.3238 - accuracy: 0.8899\n",
      "Epoch 7/20\n",
      "14/14 [==============================] - 0s 2ms/step - loss: 0.2804 - accuracy: 0.8966\n",
      "Epoch 8/20\n",
      "14/14 [==============================] - 0s 2ms/step - loss: 0.2748 - accuracy: 0.8966\n",
      "Epoch 9/20\n",
      "14/14 [==============================] - 0s 2ms/step - loss: 0.2859 - accuracy: 0.8831\n",
      "Epoch 10/20\n",
      "14/14 [==============================] - 0s 2ms/step - loss: 0.2235 - accuracy: 0.9079\n",
      "Epoch 11/20\n",
      "14/14 [==============================] - 0s 2ms/step - loss: 0.2891 - accuracy: 0.8764\n",
      "Epoch 12/20\n",
      "14/14 [==============================] - 0s 2ms/step - loss: 0.2239 - accuracy: 0.9056\n",
      "Epoch 13/20\n",
      "14/14 [==============================] - 0s 2ms/step - loss: 0.2695 - accuracy: 0.8899\n",
      "Epoch 14/20\n",
      "14/14 [==============================] - 0s 2ms/step - loss: 0.2855 - accuracy: 0.8989\n",
      "Epoch 15/20\n",
      "14/14 [==============================] - 0s 2ms/step - loss: 0.2714 - accuracy: 0.9011\n",
      "Epoch 16/20\n",
      "14/14 [==============================] - 0s 2ms/step - loss: 0.1957 - accuracy: 0.9258\n",
      "Epoch 17/20\n",
      "14/14 [==============================] - 0s 2ms/step - loss: 0.2719 - accuracy: 0.8921\n",
      "Epoch 18/20\n",
      "14/14 [==============================] - 0s 2ms/step - loss: 0.2542 - accuracy: 0.8966\n",
      "Epoch 19/20\n",
      "14/14 [==============================] - 0s 2ms/step - loss: 0.1620 - accuracy: 0.9303\n",
      "Epoch 20/20\n",
      "14/14 [==============================] - 0s 2ms/step - loss: 0.1742 - accuracy: 0.9258\n"
     ]
    },
    {
     "data": {
      "text/plain": "<keras.callbacks.History at 0x27d685f79a0>"
     },
     "execution_count": 24,
     "metadata": {},
     "output_type": "execute_result"
    }
   ],
   "source": [
    "\n",
    "model_1 = Sequential([\n",
    "    Dense(128),\n",
    "    BatchNormalization(),\n",
    "    Activation('relu'),\n",
    "    Dense(512,activation='relu'),\n",
    "    Dense(512,activation='relu'),\n",
    "    Dropout(0.1),\n",
    "    Dense(6,activation='softmax')\n",
    "])\n",
    "\n",
    "model_1.compile(optimizer='adam', loss='sparse_categorical_crossentropy', metrics=['accuracy'])\n",
    "# model_1.fit(X_train, y_train, epochs=10, batch_size=32)\n",
    "model_1.fit(x_train, y_train, epochs=TRAIN_EPOCHS)"
   ],
   "metadata": {
    "collapsed": false,
    "pycharm": {
     "name": "#%%\n"
    }
   }
  },
  {
   "cell_type": "markdown",
   "source": [
    "# Model 2"
   ],
   "metadata": {
    "collapsed": false,
    "pycharm": {
     "name": "#%% md\n"
    }
   }
  },
  {
   "cell_type": "code",
   "execution_count": 25,
   "outputs": [
    {
     "name": "stdout",
     "output_type": "stream",
     "text": [
      "Epoch 1/20\n",
      "14/14 [==============================] - 0s 1ms/step - loss: 2512.4900 - accuracy: 0.3596\n",
      "Epoch 2/20\n",
      "14/14 [==============================] - 0s 1ms/step - loss: 503.4027 - accuracy: 0.7146\n",
      "Epoch 3/20\n",
      "14/14 [==============================] - 0s 1ms/step - loss: 148.0188 - accuracy: 0.8112\n",
      "Epoch 4/20\n",
      "14/14 [==============================] - 0s 1ms/step - loss: 151.4372 - accuracy: 0.8921\n",
      "Epoch 5/20\n",
      "14/14 [==============================] - 0s 2ms/step - loss: 257.9574 - accuracy: 0.8831\n",
      "Epoch 6/20\n",
      "14/14 [==============================] - 0s 2ms/step - loss: 171.2990 - accuracy: 0.8831\n",
      "Epoch 7/20\n",
      "14/14 [==============================] - 0s 1ms/step - loss: 121.1311 - accuracy: 0.9079\n",
      "Epoch 8/20\n",
      "14/14 [==============================] - 0s 1ms/step - loss: 124.4921 - accuracy: 0.8944\n",
      "Epoch 9/20\n",
      "14/14 [==============================] - 0s 1ms/step - loss: 70.0556 - accuracy: 0.9191\n",
      "Epoch 10/20\n",
      "14/14 [==============================] - 0s 1ms/step - loss: 122.0773 - accuracy: 0.9169\n",
      "Epoch 11/20\n",
      "14/14 [==============================] - 0s 1ms/step - loss: 124.2099 - accuracy: 0.9101\n",
      "Epoch 12/20\n",
      "14/14 [==============================] - 0s 1ms/step - loss: 44.9425 - accuracy: 0.9461\n",
      "Epoch 13/20\n",
      "14/14 [==============================] - 0s 1ms/step - loss: 43.2633 - accuracy: 0.9303\n",
      "Epoch 14/20\n",
      "14/14 [==============================] - 0s 2ms/step - loss: 121.5989 - accuracy: 0.9213\n",
      "Epoch 15/20\n",
      "14/14 [==============================] - 0s 2ms/step - loss: 88.2928 - accuracy: 0.9213\n",
      "Epoch 16/20\n",
      "14/14 [==============================] - 0s 1ms/step - loss: 37.9790 - accuracy: 0.9281\n",
      "Epoch 17/20\n",
      "14/14 [==============================] - 0s 1ms/step - loss: 18.6301 - accuracy: 0.9371\n",
      "Epoch 18/20\n",
      "14/14 [==============================] - 0s 2ms/step - loss: 40.4431 - accuracy: 0.9326\n",
      "Epoch 19/20\n",
      "14/14 [==============================] - 0s 1ms/step - loss: 37.8469 - accuracy: 0.9056\n",
      "Epoch 20/20\n",
      "14/14 [==============================] - 0s 1ms/step - loss: 70.7582 - accuracy: 0.9056\n"
     ]
    },
    {
     "data": {
      "text/plain": "<keras.callbacks.History at 0x27d71c43220>"
     },
     "execution_count": 25,
     "metadata": {},
     "output_type": "execute_result"
    }
   ],
   "source": [
    "model_2 = Sequential([\n",
    "    Dense(128, input_shape=(128,), activation='relu'),\n",
    "    Dense(128,activation='relu'),\n",
    "    Dense(128,activation='relu'),\n",
    "    Dense(128,activation='relu'),\n",
    "    Dense(6,activation='softmax')\n",
    "])\n",
    "\n",
    "model_2.compile(optimizer='adam', loss='sparse_categorical_crossentropy', metrics=['accuracy'])\n",
    "model_2.fit(x_train, y_train, epochs=TRAIN_EPOCHS)"
   ],
   "metadata": {
    "collapsed": false,
    "pycharm": {
     "name": "#%%\n"
    }
   }
  },
  {
   "cell_type": "markdown",
   "source": [
    "# Model 3"
   ],
   "metadata": {
    "collapsed": false,
    "pycharm": {
     "name": "#%% md\n"
    }
   }
  },
  {
   "cell_type": "code",
   "execution_count": 26,
   "outputs": [
    {
     "name": "stdout",
     "output_type": "stream",
     "text": [
      "Epoch 1/20\n",
      "14/14 [==============================] - 0s 2ms/step - loss: 1.2783 - accuracy: 0.5663\n",
      "Epoch 2/20\n",
      "14/14 [==============================] - 0s 2ms/step - loss: 0.6069 - accuracy: 0.8180\n",
      "Epoch 3/20\n",
      "14/14 [==============================] - 0s 2ms/step - loss: 0.4577 - accuracy: 0.8382\n",
      "Epoch 4/20\n",
      "14/14 [==============================] - 0s 2ms/step - loss: 0.4974 - accuracy: 0.8000\n",
      "Epoch 5/20\n",
      "14/14 [==============================] - 0s 2ms/step - loss: 0.4098 - accuracy: 0.8225\n",
      "Epoch 6/20\n",
      "14/14 [==============================] - 0s 2ms/step - loss: 0.3151 - accuracy: 0.8764\n",
      "Epoch 7/20\n",
      "14/14 [==============================] - 0s 2ms/step - loss: 0.3702 - accuracy: 0.8472\n",
      "Epoch 8/20\n",
      "14/14 [==============================] - 0s 2ms/step - loss: 0.3029 - accuracy: 0.8719\n",
      "Epoch 9/20\n",
      "14/14 [==============================] - 0s 2ms/step - loss: 0.2623 - accuracy: 0.8921\n",
      "Epoch 10/20\n",
      "14/14 [==============================] - 0s 2ms/step - loss: 0.2113 - accuracy: 0.9101\n",
      "Epoch 11/20\n",
      "14/14 [==============================] - 0s 2ms/step - loss: 0.2536 - accuracy: 0.8854\n",
      "Epoch 12/20\n",
      "14/14 [==============================] - 0s 2ms/step - loss: 0.3626 - accuracy: 0.8517\n",
      "Epoch 13/20\n",
      "14/14 [==============================] - 0s 2ms/step - loss: 0.2820 - accuracy: 0.8607\n",
      "Epoch 14/20\n",
      "14/14 [==============================] - 0s 2ms/step - loss: 0.2185 - accuracy: 0.9056\n",
      "Epoch 15/20\n",
      "14/14 [==============================] - 0s 2ms/step - loss: 0.2958 - accuracy: 0.8831\n",
      "Epoch 16/20\n",
      "14/14 [==============================] - 0s 2ms/step - loss: 0.2452 - accuracy: 0.8854\n",
      "Epoch 17/20\n",
      "14/14 [==============================] - 0s 2ms/step - loss: 0.1884 - accuracy: 0.9191\n",
      "Epoch 18/20\n",
      "14/14 [==============================] - 0s 2ms/step - loss: 0.2042 - accuracy: 0.9056\n",
      "Epoch 19/20\n",
      "14/14 [==============================] - 0s 2ms/step - loss: 0.2397 - accuracy: 0.8966\n",
      "Epoch 20/20\n",
      "14/14 [==============================] - 0s 2ms/step - loss: 0.2127 - accuracy: 0.9169\n"
     ]
    },
    {
     "data": {
      "text/plain": "<keras.callbacks.History at 0x27d71c382b0>"
     },
     "execution_count": 26,
     "metadata": {},
     "output_type": "execute_result"
    }
   ],
   "source": [
    "model_3 = Sequential([\n",
    "    Dense(128, input_shape=(128,)),\n",
    "    BatchNormalization(),\n",
    "    Activation('relu'),\n",
    "    Dense(512,activation='relu'),\n",
    "    Dense(128,activation='relu'),\n",
    "    Dense(64,activation='relu'),\n",
    "    Dense(6,activation='softmax')\n",
    "])\n",
    "\n",
    "model_3.compile(optimizer='adam', loss='sparse_categorical_crossentropy', metrics=['accuracy'])\n",
    "model_3.fit(x_train, y_train, epochs=TRAIN_EPOCHS)"
   ],
   "metadata": {
    "collapsed": false,
    "pycharm": {
     "name": "#%%\n"
    }
   }
  },
  {
   "cell_type": "markdown",
   "source": [
    "# Model 4"
   ],
   "metadata": {
    "collapsed": false,
    "pycharm": {
     "name": "#%% md\n"
    }
   }
  },
  {
   "cell_type": "code",
   "execution_count": 27,
   "outputs": [
    {
     "name": "stdout",
     "output_type": "stream",
     "text": [
      "Epoch 1/20\n",
      "14/14 [==============================] - 0s 2ms/step - loss: 1293.6650 - accuracy: 0.3416\n",
      "Epoch 2/20\n",
      "14/14 [==============================] - 0s 2ms/step - loss: 290.6388 - accuracy: 0.5146\n",
      "Epoch 3/20\n",
      "14/14 [==============================] - 0s 1ms/step - loss: 247.1347 - accuracy: 0.6112\n",
      "Epoch 4/20\n",
      "14/14 [==============================] - 0s 2ms/step - loss: 122.5952 - accuracy: 0.7011\n",
      "Epoch 5/20\n",
      "14/14 [==============================] - 0s 2ms/step - loss: 99.5518 - accuracy: 0.7775\n",
      "Epoch 6/20\n",
      "14/14 [==============================] - 0s 2ms/step - loss: 57.3567 - accuracy: 0.8270\n",
      "Epoch 7/20\n",
      "14/14 [==============================] - 0s 1ms/step - loss: 54.8430 - accuracy: 0.7910\n",
      "Epoch 8/20\n",
      "14/14 [==============================] - 0s 1ms/step - loss: 32.0791 - accuracy: 0.8787\n",
      "Epoch 9/20\n",
      "14/14 [==============================] - 0s 1ms/step - loss: 44.2861 - accuracy: 0.8427\n",
      "Epoch 10/20\n",
      "14/14 [==============================] - 0s 1ms/step - loss: 74.1665 - accuracy: 0.7124\n",
      "Epoch 11/20\n",
      "14/14 [==============================] - 0s 2ms/step - loss: 82.0588 - accuracy: 0.7506\n",
      "Epoch 12/20\n",
      "14/14 [==============================] - 0s 2ms/step - loss: 42.7848 - accuracy: 0.7820\n",
      "Epoch 13/20\n",
      "14/14 [==============================] - 0s 2ms/step - loss: 42.7500 - accuracy: 0.7865\n",
      "Epoch 14/20\n",
      "14/14 [==============================] - 0s 2ms/step - loss: 25.7215 - accuracy: 0.8697\n",
      "Epoch 15/20\n",
      "14/14 [==============================] - 0s 1ms/step - loss: 22.5990 - accuracy: 0.8517\n",
      "Epoch 16/20\n",
      "14/14 [==============================] - 0s 2ms/step - loss: 17.9339 - accuracy: 0.8831\n",
      "Epoch 17/20\n",
      "14/14 [==============================] - 0s 1ms/step - loss: 31.2691 - accuracy: 0.8135\n",
      "Epoch 18/20\n",
      "14/14 [==============================] - 0s 1ms/step - loss: 17.7414 - accuracy: 0.8876\n",
      "Epoch 19/20\n",
      "14/14 [==============================] - 0s 2ms/step - loss: 9.0438 - accuracy: 0.9011\n",
      "Epoch 20/20\n",
      "14/14 [==============================] - 0s 1ms/step - loss: 18.3566 - accuracy: 0.8674\n"
     ]
    },
    {
     "data": {
      "text/plain": "<keras.callbacks.History at 0x27d8760e940>"
     },
     "execution_count": 27,
     "metadata": {},
     "output_type": "execute_result"
    }
   ],
   "source": [
    "model_4 = Sequential([\n",
    "    Dense(128, input_shape=(128,), activation='relu'),\n",
    "    Dense(32,activation='relu'),\n",
    "    Dense(32,activation='relu'),\n",
    "    Dense(32,activation='relu'),\n",
    "    Dense(32,activation='relu'),\n",
    "    Dropout(0.1),\n",
    "    Dense(6,activation='softmax')\n",
    "])\n",
    "\n",
    "model_4.compile(optimizer='adam', loss='sparse_categorical_crossentropy', metrics=['accuracy'])\n",
    "model_4.fit(x_train, y_train, epochs=TRAIN_EPOCHS)"
   ],
   "metadata": {
    "collapsed": false,
    "pycharm": {
     "name": "#%%\n"
    }
   }
  },
  {
   "cell_type": "markdown",
   "source": [
    "## 畫圖比較"
   ],
   "metadata": {
    "collapsed": false,
    "pycharm": {
     "name": "#%% md\n"
    }
   }
  },
  {
   "cell_type": "code",
   "execution_count": 28,
   "outputs": [
    {
     "name": "stdout",
     "output_type": "stream",
     "text": [
      "39/39 [==============================] - 0s 1ms/step - loss: 1.1633 - accuracy: 0.6849\n",
      "39/39 [==============================] - 0s 1ms/step - loss: 674.3975 - accuracy: 0.4003\n",
      "39/39 [==============================] - 0s 1ms/step - loss: 3.6131 - accuracy: 0.4486\n",
      "39/39 [==============================] - 0s 1ms/step - loss: 71.9006 - accuracy: 0.8119\n",
      "50/50 [==============================] - 0s 1ms/step - loss: 2.7251 - accuracy: 0.5347\n",
      "50/50 [==============================] - 0s 1ms/step - loss: 795.9813 - accuracy: 0.5359\n",
      "50/50 [==============================] - 0s 1ms/step - loss: 3.3980 - accuracy: 0.5359\n",
      "50/50 [==============================] - 0s 1ms/step - loss: 153.2029 - accuracy: 0.4975\n",
      "6/6 [==============================] - 0s 1ms/step - loss: 3.2073 - accuracy: 0.4410\n",
      "6/6 [==============================] - 0s 1ms/step - loss: 481.3390 - accuracy: 0.4969\n",
      "6/6 [==============================] - 0s 1ms/step - loss: 2.8937 - accuracy: 0.4969\n",
      "6/6 [==============================] - 0s 1ms/step - loss: 175.3248 - accuracy: 0.4845\n",
      "7/7 [==============================] - 0s 1ms/step - loss: 7.4164 - accuracy: 0.2030\n",
      "7/7 [==============================] - 0s 1ms/step - loss: 1540.8430 - accuracy: 0.3452\n",
      "7/7 [==============================] - 0s 1ms/step - loss: 6.4620 - accuracy: 0.2030\n",
      "7/7 [==============================] - 0s 1ms/step - loss: 452.6013 - accuracy: 0.2386\n",
      "72/72 [==============================] - 0s 1ms/step - loss: 4.1496 - accuracy: 0.2483\n",
      "72/72 [==============================] - 0s 1ms/step - loss: 854.1541 - accuracy: 0.4648\n",
      "72/72 [==============================] - 0s 1ms/step - loss: 4.7252 - accuracy: 0.2491\n",
      "72/72 [==============================] - 0s 1ms/step - loss: 163.0007 - accuracy: 0.4848\n",
      "113/113 [==============================] - 0s 1ms/step - loss: 4.3098 - accuracy: 0.2593\n",
      "113/113 [==============================] - 0s 1ms/step - loss: 1383.1064 - accuracy: 0.3892\n",
      "113/113 [==============================] - 0s 1ms/step - loss: 5.9940 - accuracy: 0.1918\n",
      "113/113 [==============================] - 0s 1ms/step - loss: 368.2509 - accuracy: 0.2549\n",
      "10/10 [==============================] - 0s 1ms/step - loss: 5.6491 - accuracy: 0.1905\n",
      "10/10 [==============================] - 0s 1ms/step - loss: 1653.3737 - accuracy: 0.1803\n",
      "10/10 [==============================] - 0s 1ms/step - loss: 7.0673 - accuracy: 0.1156\n",
      "10/10 [==============================] - 0s 1ms/step - loss: 240.6634 - accuracy: 0.1224\n",
      "15/15 [==============================] - 0s 1ms/step - loss: 3.7288 - accuracy: 0.1170\n",
      "15/15 [==============================] - 0s 1ms/step - loss: 893.5942 - accuracy: 0.1298\n",
      "15/15 [==============================] - 0s 1ms/step - loss: 4.3449 - accuracy: 0.1170\n",
      "15/15 [==============================] - 0s 1ms/step - loss: 181.2265 - accuracy: 0.3426\n",
      "113/113 [==============================] - 0s 1ms/step - loss: 4.8439 - accuracy: 0.2303\n",
      "113/113 [==============================] - 0s 1ms/step - loss: 1540.1278 - accuracy: 0.3622\n",
      "113/113 [==============================] - 0s 1ms/step - loss: 4.1068 - accuracy: 0.3839\n",
      "113/113 [==============================] - 0s 1ms/step - loss: 275.1379 - accuracy: 0.4028\n"
     ]
    }
   ],
   "source": [
    "model_1_accuracy = []\n",
    "model_2_accuracy = []\n",
    "model_3_accuracy = []\n",
    "model_4_accuracy = []\n",
    "\n",
    "for i in range(len(x_test)):\n",
    "    model_1_evaluate = model_1.evaluate(x_test[i], y_test[i])\n",
    "    model_1_accuracy.append(model_1_evaluate[1])\n",
    "    model_2_evaluate = model_2.evaluate(x_test[i], y_test[i])\n",
    "    model_2_accuracy.append(model_2_evaluate[1])\n",
    "    model_3_evaluate = model_3.evaluate(x_test[i], y_test[i])\n",
    "    model_3_accuracy.append(model_3_evaluate[1])\n",
    "    model_4_evaluate = model_4.evaluate(x_test[i], y_test[i])\n",
    "    model_4_accuracy.append(model_4_evaluate[1])"
   ],
   "metadata": {
    "collapsed": false,
    "pycharm": {
     "name": "#%%\n"
    }
   }
  },
  {
   "cell_type": "code",
   "execution_count": 28,
   "outputs": [],
   "source": [],
   "metadata": {
    "collapsed": false,
    "pycharm": {
     "name": "#%%\n"
    }
   }
  },
  {
   "cell_type": "code",
   "execution_count": 29,
   "outputs": [
    {
     "data": {
      "text/plain": "<Figure size 1080x576 with 1 Axes>",
      "image/png": "[encoded data removed]"
     },
     "metadata": {
      "needs_background": "light"
     },
     "output_type": "display_data"
    }
   ],
   "source": [
    "import matplotlib.pyplot as plt\n",
    "plt.figure(figsize=(15,8))\n",
    "ax = plt.gca()\n",
    "ax.set_ylim([0.0, 1.0])\n",
    "plt.plot(x_label,model_1_accuracy,marker='o', label='model_1')\n",
    "plt.plot(x_label,model_2_accuracy,marker='o', label='model_2')\n",
    "plt.plot(x_label,model_3_accuracy,marker='o', label='model_3')\n",
    "plt.plot(x_label,model_4_accuracy,marker='o', label='model_4')\n",
    "\n",
    "plt.legend()\n",
    "plt.grid()\n",
    "plt.show()"
   ],
   "metadata": {
    "collapsed": false,
    "pycharm": {
     "name": "#%%\n"
    }
   }
  },
  {
   "cell_type": "code",
   "execution_count": 29,
   "outputs": [],
   "source": [],
   "metadata": {
    "collapsed": false,
    "pycharm": {
     "name": "#%%\n"
    }
   }
  },
  {
   "cell_type": "code",
   "execution_count": 29,
   "outputs": [],
   "source": [],
   "metadata": {
    "collapsed": false,
    "pycharm": {
     "name": "#%%\n"
    }
   }
  }
 ],
 "metadata": {
  "kernelspec": {
   "display_name": "Python 3",
   "language": "python",
   "name": "python3"
  },
  "language_info": {
   "codemirror_mode": {
    "name": "ipython",
    "version": 2
   },
   "file_extension": ".py",
   "mimetype": "text/x-python",
   "name": "python",
   "nbconvert_exporter": "python",
   "pygments_lexer": "ipython2",
   "version": "2.7.6"
  }
 },
 "nbformat": 4,
 "nbformat_minor": 0
}