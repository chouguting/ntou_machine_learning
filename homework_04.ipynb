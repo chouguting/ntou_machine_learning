{
 "cells": [
  {
   "cell_type": "markdown",
   "source": [
    "1.Longevity\n",
    "2.All of the above\n",
    "3.pipeline_knn_param0= {'knn__n_neighbors':[3,5,7],'fr__k':[50,75]}\n",
    "    pipeline_rbf_svm_param0 = {'svc__C':[0.01, 0.1, 1, 10, 100],'svc__gamma':[0.001,0.01,0.1,1],'fr__k':[50,75]}\n",
    "4.svm_linear0 = GridSearchCV(estimator=svm.SVC(kernel='linear', gamma=1, C=1, probability=True,decision_function_shape='ovo'),param_grid = linear_svm_param0, scoring = 'accuracy', cv=kfold))\n",
    "5.dt = DecisionTreeClassifier()"
   ],
   "metadata": {
    "collapsed": false,
    "pycharm": {
     "name": "#%% md\n"
    }
   }
  },
  {
   "cell_type": "code",
   "execution_count": 1,
   "outputs": [],
   "source": [
    "import os\n",
    "import shutil\n",
    "\n",
    "import numpy as np\n",
    "from sklearn.svm import SVC\n",
    "from sklearn.preprocessing import StandardScaler\n",
    "from sklearn.datasets import make_classification\n",
    "from sklearn import tree\n",
    "from sklearn.model_selection import train_test_split\n",
    "from sklearn.pipeline import Pipeline\n",
    "from sklearn.model_selection import GridSearchCV"
   ],
   "metadata": {
    "collapsed": false,
    "pycharm": {
     "name": "#%%\n"
    }
   }
  },
  {
   "cell_type": "markdown",
   "source": [
    "# Proprocessing"
   ],
   "metadata": {
    "collapsed": false,
    "pycharm": {
     "name": "#%% md\n"
    }
   }
  },
  {
   "cell_type": "code",
   "execution_count": 2,
   "outputs": [],
   "source": [
    "\n",
    "dataset_folder = 'drift_dataset/'\n",
    "output_folder = 'drift_dataset_processed/'\n",
    "FileNameList = os.listdir(dataset_folder)\n",
    "for fileName in FileNameList:\n",
    "    file = open(dataset_folder+fileName, 'r')\n",
    "    lines = file.readlines()\n",
    "    file.close()\n",
    "    file = open(output_folder+\"processed_\"+fileName, 'w')\n",
    "    for line in lines:\n",
    "        line = line.split(' ',1)\n",
    "        classLabel = line[0].split(';')[0]\n",
    "        newLine = classLabel+' '+line[1]\n",
    "        file.write(newLine+'\\n')\n",
    "    file.close()\n",
    "\n"
   ],
   "metadata": {
    "collapsed": false,
    "pycharm": {
     "name": "#%%\n"
    }
   }
  },
  {
   "cell_type": "code",
   "execution_count": 3,
   "outputs": [],
   "source": [
    "from sklearn.datasets import load_svmlight_file\n",
    "from sklearn import preprocessing\n",
    "lb = preprocessing.LabelBinarizer()\n",
    "x_train, y_train = load_svmlight_file(output_folder+\"processed_batch1.dat\")\n",
    "x_train = x_train.toarray()\n",
    "y_train = y_train.astype(int)\n",
    "y_train = y_train-1\n",
    "# y_train = lb.fit_transform(y_train)"
   ],
   "metadata": {
    "collapsed": false,
    "pycharm": {
     "name": "#%%\n"
    }
   }
  },
  {
   "cell_type": "code",
   "execution_count": 4,
   "outputs": [
    {
     "name": "stdout",
     "output_type": "stream",
     "text": [
      "(445, 128)\n",
      "(445,)\n"
     ]
    }
   ],
   "source": [
    "print(x_train.shape)\n",
    "print(y_train.shape)\n"
   ],
   "metadata": {
    "collapsed": false,
    "pycharm": {
     "name": "#%%\n"
    }
   }
  },
  {
   "cell_type": "code",
   "execution_count": 5,
   "outputs": [
    {
     "name": "stdout",
     "output_type": "stream",
     "text": [
      "<class 'numpy.ndarray'>\n",
      "<class 'numpy.ndarray'>\n"
     ]
    }
   ],
   "source": [
    "print(type(x_train[0]))\n",
    "print(type(y_train))"
   ],
   "metadata": {
    "collapsed": false,
    "pycharm": {
     "name": "#%%\n"
    }
   }
  },
  {
   "cell_type": "code",
   "execution_count": 6,
   "outputs": [
    {
     "name": "stdout",
     "output_type": "stream",
     "text": [
      "[ 1.55961621e+04  1.86824500e+00  2.37160400e+00  2.80367800e+00\n",
      "  7.51221300e+00 -2.73938800e+00 -3.34467100e+00 -4.84751200e+00\n",
      "  1.53266914e+04  1.76852600e+00  2.26908500e+00  2.71337400e+00\n",
      "  6.91572100e+00 -2.48832400e+00 -3.08221200e+00 -5.05697500e+00\n",
      "  2.78938310e+03  2.75475900e+00  4.30440000e-01  6.49457000e-01\n",
      "  1.79502900e+00 -4.26662000e-01 -5.84313000e-01 -1.43897600e+00\n",
      "  2.58156860e+03  2.68062300e+00  3.99746000e-01  6.05065000e-01\n",
      "  1.78670400e+00 -4.00115000e-01 -5.50743000e-01 -1.72861100e+00\n",
      "  6.85399400e+02  1.68290400e+00  1.22736000e-01  2.23703000e-01\n",
      "  5.84691000e-01 -1.38196000e-01 -2.36907000e-01 -7.81959000e-01\n",
      "  7.97773800e+02  1.74248800e+00  1.52483000e-01  2.18904000e-01\n",
      "  8.41862000e-01 -1.64646000e-01 -3.15720000e-01 -7.91447000e-01\n",
      "  3.12884890e+03  3.60553700e+00  5.32422000e-01  7.63062000e-01\n",
      "  2.11898300e+00 -5.57197000e-01 -8.09953000e-01 -2.34413000e+00\n",
      "  3.13687780e+03  3.55516900e+00  5.35883000e-01  7.61388000e-01\n",
      "  1.49924400e+00 -5.71480000e-01 -9.44425000e-01 -2.65835800e+00\n",
      "  1.35406738e+04  1.76573800e+00  2.00688300e+00  2.51902200e+00\n",
      "  6.26143000e+00 -2.17210100e+00 -2.69496700e+00 -3.79149900e+00\n",
      "  1.38317539e+04  1.74649300e+00  2.05716500e+00  2.39123900e+00\n",
      "  5.69523400e+00 -2.35077600e+00 -2.88876600e+00 -8.12986900e+00\n",
      "  3.02091910e+03  2.81935400e+00  4.74520000e-01  7.23993000e-01\n",
      "  2.16013000e+00 -4.67900000e-01 -6.38167000e-01 -1.64365000e+00\n",
      "  2.18597410e+03  2.94938100e+00  3.42575000e-01  5.15090000e-01\n",
      "  1.34047700e+00 -3.61030000e-01 -4.93482000e-01 -1.20061700e+00\n",
      "  8.62747900e+02  1.77929100e+00  1.65138000e-01  2.46473000e-01\n",
      "  1.35810600e+00 -1.87465000e-01 -4.16382000e-01 -1.05806100e+00\n",
      "  1.05975620e+03  1.89604700e+00  1.98946000e-01  3.34017000e-01\n",
      "  8.15048000e-01 -2.04467000e-01 -3.45119000e-01 -9.69336000e-01\n",
      "  3.35711240e+03  3.86064700e+00  5.80818000e-01  8.06830000e-01\n",
      "  1.72973900e+00 -6.19214000e-01 -1.07113700e+00 -3.03777200e+00\n",
      "  3.03703900e+03  3.97220300e+00  5.27291000e-01  7.28443000e-01\n",
      "  1.44578300e+00 -5.45079000e-01 -9.02241000e-01 -2.65452900e+00]\n"
     ]
    }
   ],
   "source": [
    "print(x_train[0])"
   ],
   "metadata": {
    "collapsed": false,
    "pycharm": {
     "name": "#%%\n"
    }
   }
  },
  {
   "cell_type": "code",
   "execution_count": 7,
   "outputs": [
    {
     "name": "stdout",
     "output_type": "stream",
     "text": [
      "[0 0 0 0 0 0 0 0 0 0 0 0 0 0 0 0 0 0 0 0 0 0 0 0 0 0 0 0 0 0 0 0 0 0 0 0 0\n",
      " 0 0 0 0 0 0 0 0 0 0 0 0 0 0 0 0 0 0 0 0 0 0 0 0 0 0 0 0 0 0 0 0 0 0 0 0 0\n",
      " 0 0 0 0 0 0 0 0 0 0 1 1 1 1 1 1 1 1 1 1 1 1 1 1 1 1 1 1 1 1 1 1 1 1 1 1 1\n",
      " 1 1 1 1 1 1 1 1 1 1 1 1 1 1 1 1 1 1 1 1 1 1 1 1 1 1 1 1 1 1 1 1 1 1 1 1 1\n",
      " 1 1 1 1 1 1 1 1 1 1 1 1 1 1 1 1 1 1 1 1 1 1 1 1 2 2 2 2 2 2 2 2 2 2 2 2 2\n",
      " 2 2 2 2 2 2 2 2 2 2 2 2 2 2 2 2 2 2 2 2 2 2 2 2 2 2 2 2 2 2 2 2 2 2 2 2 2\n",
      " 2 2 2 2 2 2 2 2 2 2 2 2 2 2 2 2 2 2 2 2 2 2 2 2 2 2 0 0 0 0 0 0 1 1 1 1 1\n",
      " 1 1 1 1 1 2 2 2 2 2 2 2 3 3 3 3 3 3 3 3 3 3 3 3 3 3 3 3 3 3 3 3 3 3 3 3 3\n",
      " 3 3 3 3 3 4 4 4 4 4 4 4 4 4 4 4 4 4 4 4 4 4 4 4 4 4 4 4 4 4 4 4 4 4 4 4 4\n",
      " 4 4 4 4 4 4 4 4 4 4 4 4 4 4 4 4 4 4 4 4 4 4 4 4 4 4 4 4 4 4 4 4 4 4 4 4 4\n",
      " 4 5 5 5 5 5 5 5 5 5 5 5 5 5 5 5 5 5 5 5 5 5 5 5 5 5 5 5 5 5 5 5 5 5 5 5 5\n",
      " 5 5 5 5 5 5 5 5 5 5 5 5 5 5 5 5 5 5 5 5 5 5 5 5 5 5 5 5 5 5 5 5 5 5 5 5 5\n",
      " 5]\n"
     ]
    }
   ],
   "source": [
    "print(y_train)"
   ],
   "metadata": {
    "collapsed": false,
    "pycharm": {
     "name": "#%%\n"
    }
   }
  },
  {
   "cell_type": "code",
   "execution_count": 8,
   "outputs": [],
   "source": [
    "from sklearn.datasets import load_digits\n",
    "from sklearn.feature_selection import SelectKBest, chi2\n",
    "from sklearn.model_selection import KFold\n",
    "from sklearn.model_selection import StratifiedKFold\n",
    "from sklearn.feature_selection import mutual_info_classif\n",
    "from sklearn import neighbors"
   ],
   "metadata": {
    "collapsed": false,
    "pycharm": {
     "name": "#%%\n"
    }
   }
  },
  {
   "cell_type": "code",
   "execution_count": 9,
   "outputs": [],
   "source": [
    "# from sklearn import datasets\n",
    "# iris = datasets.load_iris()\n",
    "#\n",
    "# # X -> features, y -> label\n",
    "# X = iris.data\n",
    "# y = iris.target\n",
    "#\n",
    "# # dividing X, y into train and test data\n",
    "# X_train, X_test, y_train, y_test = train_test_split(X, y, random_state = 0)\n",
    "# print(y_test[0])"
   ],
   "metadata": {
    "collapsed": false,
    "pycharm": {
     "name": "#%%\n"
    }
   }
  },
  {
   "cell_type": "markdown",
   "source": [
    "# Decision tree"
   ],
   "metadata": {
    "collapsed": false,
    "pycharm": {
     "name": "#%% md\n"
    }
   }
  },
  {
   "cell_type": "code",
   "execution_count": 10,
   "outputs": [
    {
     "data": {
      "text/plain": "DecisionTreeClassifier()",
      "text/html": "<style>#sk-container-id-1 {color: black;background-color: white;}#sk-container-id-1 pre{padding: 0;}#sk-container-id-1 div.sk-toggleable {background-color: white;}#sk-container-id-1 label.sk-toggleable__label {cursor: pointer;display: block;width: 100%;margin-bottom: 0;padding: 0.3em;box-sizing: border-box;text-align: center;}#sk-container-id-1 label.sk-toggleable__label-arrow:before {content: \"▸\";float: left;margin-right: 0.25em;color: #696969;}#sk-container-id-1 label.sk-toggleable__label-arrow:hover:before {color: black;}#sk-container-id-1 div.sk-estimator:hover label.sk-toggleable__label-arrow:before {color: black;}#sk-container-id-1 div.sk-toggleable__content {max-height: 0;max-width: 0;overflow: hidden;text-align: left;background-color: #f0f8ff;}#sk-container-id-1 div.sk-toggleable__content pre {margin: 0.2em;color: black;border-radius: 0.25em;background-color: #f0f8ff;}#sk-container-id-1 input.sk-toggleable__control:checked~div.sk-toggleable__content {max-height: 200px;max-width: 100%;overflow: auto;}#sk-container-id-1 input.sk-toggleable__control:checked~label.sk-toggleable__label-arrow:before {content: \"▾\";}#sk-container-id-1 div.sk-estimator input.sk-toggleable__control:checked~label.sk-toggleable__label {background-color: #d4ebff;}#sk-container-id-1 div.sk-label input.sk-toggleable__control:checked~label.sk-toggleable__label {background-color: #d4ebff;}#sk-container-id-1 input.sk-hidden--visually {border: 0;clip: rect(1px 1px 1px 1px);clip: rect(1px, 1px, 1px, 1px);height: 1px;margin: -1px;overflow: hidden;padding: 0;position: absolute;width: 1px;}#sk-container-id-1 div.sk-estimator {font-family: monospace;background-color: #f0f8ff;border: 1px dotted black;border-radius: 0.25em;box-sizing: border-box;margin-bottom: 0.5em;}#sk-container-id-1 div.sk-estimator:hover {background-color: #d4ebff;}#sk-container-id-1 div.sk-parallel-item::after {content: \"\";width: 100%;border-bottom: 1px solid gray;flex-grow: 1;}#sk-container-id-1 div.sk-label:hover label.sk-toggleable__label {background-color: #d4ebff;}#sk-container-id-1 div.sk-serial::before {content: \"\";position: absolute;border-left: 1px solid gray;box-sizing: border-box;top: 0;bottom: 0;left: 50%;z-index: 0;}#sk-container-id-1 div.sk-serial {display: flex;flex-direction: column;align-items: center;background-color: white;padding-right: 0.2em;padding-left: 0.2em;position: relative;}#sk-container-id-1 div.sk-item {position: relative;z-index: 1;}#sk-container-id-1 div.sk-parallel {display: flex;align-items: stretch;justify-content: center;background-color: white;position: relative;}#sk-container-id-1 div.sk-item::before, #sk-container-id-1 div.sk-parallel-item::before {content: \"\";position: absolute;border-left: 1px solid gray;box-sizing: border-box;top: 0;bottom: 0;left: 50%;z-index: -1;}#sk-container-id-1 div.sk-parallel-item {display: flex;flex-direction: column;z-index: 1;position: relative;background-color: white;}#sk-container-id-1 div.sk-parallel-item:first-child::after {align-self: flex-end;width: 50%;}#sk-container-id-1 div.sk-parallel-item:last-child::after {align-self: flex-start;width: 50%;}#sk-container-id-1 div.sk-parallel-item:only-child::after {width: 0;}#sk-container-id-1 div.sk-dashed-wrapped {border: 1px dashed gray;margin: 0 0.4em 0.5em 0.4em;box-sizing: border-box;padding-bottom: 0.4em;background-color: white;}#sk-container-id-1 div.sk-label label {font-family: monospace;font-weight: bold;display: inline-block;line-height: 1.2em;}#sk-container-id-1 div.sk-label-container {text-align: center;}#sk-container-id-1 div.sk-container {/* jupyter's `normalize.less` sets `[hidden] { display: none; }` but bootstrap.min.css set `[hidden] { display: none !important; }` so we also need the `!important` here to be able to override the default hidden behavior on the sphinx rendered scikit-learn.org. See: https://github.com/scikit-learn/scikit-learn/issues/21755 */display: inline-block !important;position: relative;}#sk-container-id-1 div.sk-text-repr-fallback {display: none;}</style><div id=\"sk-container-id-1\" class=\"sk-top-container\"><div class=\"sk-text-repr-fallback\"><pre>DecisionTreeClassifier()</pre><b>In a Jupyter environment, please rerun this cell to show the HTML representation or trust the notebook. <br />On GitHub, the HTML representation is unable to render, please try loading this page with nbviewer.org.</b></div><div class=\"sk-container\" hidden><div class=\"sk-item\"><div class=\"sk-estimator sk-toggleable\"><input class=\"sk-toggleable__control sk-hidden--visually\" id=\"sk-estimator-id-1\" type=\"checkbox\" checked><label for=\"sk-estimator-id-1\" class=\"sk-toggleable__label sk-toggleable__label-arrow\">DecisionTreeClassifier</label><div class=\"sk-toggleable__content\"><pre>DecisionTreeClassifier()</pre></div></div></div></div></div>"
     },
     "execution_count": 10,
     "metadata": {},
     "output_type": "execute_result"
    }
   ],
   "source": [
    "kfold = StratifiedKFold(n_splits=5, shuffle=True, random_state=3)\n",
    "dt = tree.DecisionTreeClassifier()\n",
    "dt.fit(x_train, y_train)"
   ],
   "metadata": {
    "collapsed": false,
    "pycharm": {
     "name": "#%%\n"
    }
   }
  },
  {
   "cell_type": "markdown",
   "source": [
    "# KNN"
   ],
   "metadata": {
    "collapsed": false,
    "pycharm": {
     "name": "#%% md\n"
    }
   }
  },
  {
   "cell_type": "code",
   "execution_count": 11,
   "outputs": [
    {
     "data": {
      "text/plain": "GridSearchCV(cv=StratifiedKFold(n_splits=5, random_state=3, shuffle=True),\n             estimator=Pipeline(steps=[('fr',\n                                        SelectKBest(k=50,\n                                                    score_func=<function mutual_info_classif at 0x000001ED4CB82040>)),\n                                       ('stdscaler', StandardScaler()),\n                                       ('knn',\n                                        KNeighborsClassifier(n_neighbors=3))]),\n             param_grid={'fr__k': [50, 75], 'knn__n_neighbors': [3, 5, 7]},\n             scoring='accuracy')",
      "text/html": "<style>#sk-container-id-2 {color: black;background-color: white;}#sk-container-id-2 pre{padding: 0;}#sk-container-id-2 div.sk-toggleable {background-color: white;}#sk-container-id-2 label.sk-toggleable__label {cursor: pointer;display: block;width: 100%;margin-bottom: 0;padding: 0.3em;box-sizing: border-box;text-align: center;}#sk-container-id-2 label.sk-toggleable__label-arrow:before {content: \"▸\";float: left;margin-right: 0.25em;color: #696969;}#sk-container-id-2 label.sk-toggleable__label-arrow:hover:before {color: black;}#sk-container-id-2 div.sk-estimator:hover label.sk-toggleable__label-arrow:before {color: black;}#sk-container-id-2 div.sk-toggleable__content {max-height: 0;max-width: 0;overflow: hidden;text-align: left;background-color: #f0f8ff;}#sk-container-id-2 div.sk-toggleable__content pre {margin: 0.2em;color: black;border-radius: 0.25em;background-color: #f0f8ff;}#sk-container-id-2 input.sk-toggleable__control:checked~div.sk-toggleable__content {max-height: 200px;max-width: 100%;overflow: auto;}#sk-container-id-2 input.sk-toggleable__control:checked~label.sk-toggleable__label-arrow:before {content: \"▾\";}#sk-container-id-2 div.sk-estimator input.sk-toggleable__control:checked~label.sk-toggleable__label {background-color: #d4ebff;}#sk-container-id-2 div.sk-label input.sk-toggleable__control:checked~label.sk-toggleable__label {background-color: #d4ebff;}#sk-container-id-2 input.sk-hidden--visually {border: 0;clip: rect(1px 1px 1px 1px);clip: rect(1px, 1px, 1px, 1px);height: 1px;margin: -1px;overflow: hidden;padding: 0;position: absolute;width: 1px;}#sk-container-id-2 div.sk-estimator {font-family: monospace;background-color: #f0f8ff;border: 1px dotted black;border-radius: 0.25em;box-sizing: border-box;margin-bottom: 0.5em;}#sk-container-id-2 div.sk-estimator:hover {background-color: #d4ebff;}#sk-container-id-2 div.sk-parallel-item::after {content: \"\";width: 100%;border-bottom: 1px solid gray;flex-grow: 1;}#sk-container-id-2 div.sk-label:hover label.sk-toggleable__label {background-color: #d4ebff;}#sk-container-id-2 div.sk-serial::before {content: \"\";position: absolute;border-left: 1px solid gray;box-sizing: border-box;top: 0;bottom: 0;left: 50%;z-index: 0;}#sk-container-id-2 div.sk-serial {display: flex;flex-direction: column;align-items: center;background-color: white;padding-right: 0.2em;padding-left: 0.2em;position: relative;}#sk-container-id-2 div.sk-item {position: relative;z-index: 1;}#sk-container-id-2 div.sk-parallel {display: flex;align-items: stretch;justify-content: center;background-color: white;position: relative;}#sk-container-id-2 div.sk-item::before, #sk-container-id-2 div.sk-parallel-item::before {content: \"\";position: absolute;border-left: 1px solid gray;box-sizing: border-box;top: 0;bottom: 0;left: 50%;z-index: -1;}#sk-container-id-2 div.sk-parallel-item {display: flex;flex-direction: column;z-index: 1;position: relative;background-color: white;}#sk-container-id-2 div.sk-parallel-item:first-child::after {align-self: flex-end;width: 50%;}#sk-container-id-2 div.sk-parallel-item:last-child::after {align-self: flex-start;width: 50%;}#sk-container-id-2 div.sk-parallel-item:only-child::after {width: 0;}#sk-container-id-2 div.sk-dashed-wrapped {border: 1px dashed gray;margin: 0 0.4em 0.5em 0.4em;box-sizing: border-box;padding-bottom: 0.4em;background-color: white;}#sk-container-id-2 div.sk-label label {font-family: monospace;font-weight: bold;display: inline-block;line-height: 1.2em;}#sk-container-id-2 div.sk-label-container {text-align: center;}#sk-container-id-2 div.sk-container {/* jupyter's `normalize.less` sets `[hidden] { display: none; }` but bootstrap.min.css set `[hidden] { display: none !important; }` so we also need the `!important` here to be able to override the default hidden behavior on the sphinx rendered scikit-learn.org. See: https://github.com/scikit-learn/scikit-learn/issues/21755 */display: inline-block !important;position: relative;}#sk-container-id-2 div.sk-text-repr-fallback {display: none;}</style><div id=\"sk-container-id-2\" class=\"sk-top-container\"><div class=\"sk-text-repr-fallback\"><pre>GridSearchCV(cv=StratifiedKFold(n_splits=5, random_state=3, shuffle=True),\n             estimator=Pipeline(steps=[(&#x27;fr&#x27;,\n                                        SelectKBest(k=50,\n                                                    score_func=&lt;function mutual_info_classif at 0x000001ED4CB82040&gt;)),\n                                       (&#x27;stdscaler&#x27;, StandardScaler()),\n                                       (&#x27;knn&#x27;,\n                                        KNeighborsClassifier(n_neighbors=3))]),\n             param_grid={&#x27;fr__k&#x27;: [50, 75], &#x27;knn__n_neighbors&#x27;: [3, 5, 7]},\n             scoring=&#x27;accuracy&#x27;)</pre><b>In a Jupyter environment, please rerun this cell to show the HTML representation or trust the notebook. <br />On GitHub, the HTML representation is unable to render, please try loading this page with nbviewer.org.</b></div><div class=\"sk-container\" hidden><div class=\"sk-item sk-dashed-wrapped\"><div class=\"sk-label-container\"><div class=\"sk-label sk-toggleable\"><input class=\"sk-toggleable__control sk-hidden--visually\" id=\"sk-estimator-id-2\" type=\"checkbox\" ><label for=\"sk-estimator-id-2\" class=\"sk-toggleable__label sk-toggleable__label-arrow\">GridSearchCV</label><div class=\"sk-toggleable__content\"><pre>GridSearchCV(cv=StratifiedKFold(n_splits=5, random_state=3, shuffle=True),\n             estimator=Pipeline(steps=[(&#x27;fr&#x27;,\n                                        SelectKBest(k=50,\n                                                    score_func=&lt;function mutual_info_classif at 0x000001ED4CB82040&gt;)),\n                                       (&#x27;stdscaler&#x27;, StandardScaler()),\n                                       (&#x27;knn&#x27;,\n                                        KNeighborsClassifier(n_neighbors=3))]),\n             param_grid={&#x27;fr__k&#x27;: [50, 75], &#x27;knn__n_neighbors&#x27;: [3, 5, 7]},\n             scoring=&#x27;accuracy&#x27;)</pre></div></div></div><div class=\"sk-parallel\"><div class=\"sk-parallel-item\"><div class=\"sk-item\"><div class=\"sk-label-container\"><div class=\"sk-label sk-toggleable\"><input class=\"sk-toggleable__control sk-hidden--visually\" id=\"sk-estimator-id-3\" type=\"checkbox\" ><label for=\"sk-estimator-id-3\" class=\"sk-toggleable__label sk-toggleable__label-arrow\">estimator: Pipeline</label><div class=\"sk-toggleable__content\"><pre>Pipeline(steps=[(&#x27;fr&#x27;,\n                 SelectKBest(k=50,\n                             score_func=&lt;function mutual_info_classif at 0x000001ED4CB82040&gt;)),\n                (&#x27;stdscaler&#x27;, StandardScaler()),\n                (&#x27;knn&#x27;, KNeighborsClassifier(n_neighbors=3))])</pre></div></div></div><div class=\"sk-serial\"><div class=\"sk-item\"><div class=\"sk-serial\"><div class=\"sk-item\"><div class=\"sk-estimator sk-toggleable\"><input class=\"sk-toggleable__control sk-hidden--visually\" id=\"sk-estimator-id-4\" type=\"checkbox\" ><label for=\"sk-estimator-id-4\" class=\"sk-toggleable__label sk-toggleable__label-arrow\">SelectKBest</label><div class=\"sk-toggleable__content\"><pre>SelectKBest(k=50,\n            score_func=&lt;function mutual_info_classif at 0x000001ED4CB82040&gt;)</pre></div></div></div><div class=\"sk-item\"><div class=\"sk-estimator sk-toggleable\"><input class=\"sk-toggleable__control sk-hidden--visually\" id=\"sk-estimator-id-5\" type=\"checkbox\" ><label for=\"sk-estimator-id-5\" class=\"sk-toggleable__label sk-toggleable__label-arrow\">StandardScaler</label><div class=\"sk-toggleable__content\"><pre>StandardScaler()</pre></div></div></div><div class=\"sk-item\"><div class=\"sk-estimator sk-toggleable\"><input class=\"sk-toggleable__control sk-hidden--visually\" id=\"sk-estimator-id-6\" type=\"checkbox\" ><label for=\"sk-estimator-id-6\" class=\"sk-toggleable__label sk-toggleable__label-arrow\">KNeighborsClassifier</label><div class=\"sk-toggleable__content\"><pre>KNeighborsClassifier(n_neighbors=3)</pre></div></div></div></div></div></div></div></div></div></div></div></div>"
     },
     "execution_count": 11,
     "metadata": {},
     "output_type": "execute_result"
    }
   ],
   "source": [
    "pipeline_knn_param0= {'knn__n_neighbors':[3,5,7],'fr__k':[50,75]}\n",
    "knn = GridSearchCV(estimator=Pipeline([('fr',SelectKBest(score_func=mutual_info_classif,k=50)),('stdscaler',StandardScaler()),('knn',neighbors.KNeighborsClassifier(n_neighbors=3))]),param_grid = pipeline_knn_param0, scoring = 'accuracy', cv=kfold)\n",
    "knn.fit(x_train, y_train)"
   ],
   "metadata": {
    "collapsed": false,
    "pycharm": {
     "name": "#%%\n"
    }
   }
  },
  {
   "cell_type": "markdown",
   "source": [
    "# svm_linear0"
   ],
   "metadata": {
    "collapsed": false,
    "pycharm": {
     "name": "#%% md\n"
    }
   }
  },
  {
   "cell_type": "code",
   "execution_count": 12,
   "outputs": [
    {
     "data": {
      "text/plain": "GridSearchCV(cv=StratifiedKFold(n_splits=5, random_state=3, shuffle=True),\n             estimator=SVC(C=1, decision_function_shape='ovo', gamma=1,\n                           kernel='linear', probability=True),\n             param_grid={'C': [0.01, 0.1, 1, 10, 100]}, scoring='accuracy')",
      "text/html": "<style>#sk-container-id-3 {color: black;background-color: white;}#sk-container-id-3 pre{padding: 0;}#sk-container-id-3 div.sk-toggleable {background-color: white;}#sk-container-id-3 label.sk-toggleable__label {cursor: pointer;display: block;width: 100%;margin-bottom: 0;padding: 0.3em;box-sizing: border-box;text-align: center;}#sk-container-id-3 label.sk-toggleable__label-arrow:before {content: \"▸\";float: left;margin-right: 0.25em;color: #696969;}#sk-container-id-3 label.sk-toggleable__label-arrow:hover:before {color: black;}#sk-container-id-3 div.sk-estimator:hover label.sk-toggleable__label-arrow:before {color: black;}#sk-container-id-3 div.sk-toggleable__content {max-height: 0;max-width: 0;overflow: hidden;text-align: left;background-color: #f0f8ff;}#sk-container-id-3 div.sk-toggleable__content pre {margin: 0.2em;color: black;border-radius: 0.25em;background-color: #f0f8ff;}#sk-container-id-3 input.sk-toggleable__control:checked~div.sk-toggleable__content {max-height: 200px;max-width: 100%;overflow: auto;}#sk-container-id-3 input.sk-toggleable__control:checked~label.sk-toggleable__label-arrow:before {content: \"▾\";}#sk-container-id-3 div.sk-estimator input.sk-toggleable__control:checked~label.sk-toggleable__label {background-color: #d4ebff;}#sk-container-id-3 div.sk-label input.sk-toggleable__control:checked~label.sk-toggleable__label {background-color: #d4ebff;}#sk-container-id-3 input.sk-hidden--visually {border: 0;clip: rect(1px 1px 1px 1px);clip: rect(1px, 1px, 1px, 1px);height: 1px;margin: -1px;overflow: hidden;padding: 0;position: absolute;width: 1px;}#sk-container-id-3 div.sk-estimator {font-family: monospace;background-color: #f0f8ff;border: 1px dotted black;border-radius: 0.25em;box-sizing: border-box;margin-bottom: 0.5em;}#sk-container-id-3 div.sk-estimator:hover {background-color: #d4ebff;}#sk-container-id-3 div.sk-parallel-item::after {content: \"\";width: 100%;border-bottom: 1px solid gray;flex-grow: 1;}#sk-container-id-3 div.sk-label:hover label.sk-toggleable__label {background-color: #d4ebff;}#sk-container-id-3 div.sk-serial::before {content: \"\";position: absolute;border-left: 1px solid gray;box-sizing: border-box;top: 0;bottom: 0;left: 50%;z-index: 0;}#sk-container-id-3 div.sk-serial {display: flex;flex-direction: column;align-items: center;background-color: white;padding-right: 0.2em;padding-left: 0.2em;position: relative;}#sk-container-id-3 div.sk-item {position: relative;z-index: 1;}#sk-container-id-3 div.sk-parallel {display: flex;align-items: stretch;justify-content: center;background-color: white;position: relative;}#sk-container-id-3 div.sk-item::before, #sk-container-id-3 div.sk-parallel-item::before {content: \"\";position: absolute;border-left: 1px solid gray;box-sizing: border-box;top: 0;bottom: 0;left: 50%;z-index: -1;}#sk-container-id-3 div.sk-parallel-item {display: flex;flex-direction: column;z-index: 1;position: relative;background-color: white;}#sk-container-id-3 div.sk-parallel-item:first-child::after {align-self: flex-end;width: 50%;}#sk-container-id-3 div.sk-parallel-item:last-child::after {align-self: flex-start;width: 50%;}#sk-container-id-3 div.sk-parallel-item:only-child::after {width: 0;}#sk-container-id-3 div.sk-dashed-wrapped {border: 1px dashed gray;margin: 0 0.4em 0.5em 0.4em;box-sizing: border-box;padding-bottom: 0.4em;background-color: white;}#sk-container-id-3 div.sk-label label {font-family: monospace;font-weight: bold;display: inline-block;line-height: 1.2em;}#sk-container-id-3 div.sk-label-container {text-align: center;}#sk-container-id-3 div.sk-container {/* jupyter's `normalize.less` sets `[hidden] { display: none; }` but bootstrap.min.css set `[hidden] { display: none !important; }` so we also need the `!important` here to be able to override the default hidden behavior on the sphinx rendered scikit-learn.org. See: https://github.com/scikit-learn/scikit-learn/issues/21755 */display: inline-block !important;position: relative;}#sk-container-id-3 div.sk-text-repr-fallback {display: none;}</style><div id=\"sk-container-id-3\" class=\"sk-top-container\"><div class=\"sk-text-repr-fallback\"><pre>GridSearchCV(cv=StratifiedKFold(n_splits=5, random_state=3, shuffle=True),\n             estimator=SVC(C=1, decision_function_shape=&#x27;ovo&#x27;, gamma=1,\n                           kernel=&#x27;linear&#x27;, probability=True),\n             param_grid={&#x27;C&#x27;: [0.01, 0.1, 1, 10, 100]}, scoring=&#x27;accuracy&#x27;)</pre><b>In a Jupyter environment, please rerun this cell to show the HTML representation or trust the notebook. <br />On GitHub, the HTML representation is unable to render, please try loading this page with nbviewer.org.</b></div><div class=\"sk-container\" hidden><div class=\"sk-item sk-dashed-wrapped\"><div class=\"sk-label-container\"><div class=\"sk-label sk-toggleable\"><input class=\"sk-toggleable__control sk-hidden--visually\" id=\"sk-estimator-id-7\" type=\"checkbox\" ><label for=\"sk-estimator-id-7\" class=\"sk-toggleable__label sk-toggleable__label-arrow\">GridSearchCV</label><div class=\"sk-toggleable__content\"><pre>GridSearchCV(cv=StratifiedKFold(n_splits=5, random_state=3, shuffle=True),\n             estimator=SVC(C=1, decision_function_shape=&#x27;ovo&#x27;, gamma=1,\n                           kernel=&#x27;linear&#x27;, probability=True),\n             param_grid={&#x27;C&#x27;: [0.01, 0.1, 1, 10, 100]}, scoring=&#x27;accuracy&#x27;)</pre></div></div></div><div class=\"sk-parallel\"><div class=\"sk-parallel-item\"><div class=\"sk-item\"><div class=\"sk-label-container\"><div class=\"sk-label sk-toggleable\"><input class=\"sk-toggleable__control sk-hidden--visually\" id=\"sk-estimator-id-8\" type=\"checkbox\" ><label for=\"sk-estimator-id-8\" class=\"sk-toggleable__label sk-toggleable__label-arrow\">estimator: SVC</label><div class=\"sk-toggleable__content\"><pre>SVC(C=1, decision_function_shape=&#x27;ovo&#x27;, gamma=1, kernel=&#x27;linear&#x27;,\n    probability=True)</pre></div></div></div><div class=\"sk-serial\"><div class=\"sk-item\"><div class=\"sk-estimator sk-toggleable\"><input class=\"sk-toggleable__control sk-hidden--visually\" id=\"sk-estimator-id-9\" type=\"checkbox\" ><label for=\"sk-estimator-id-9\" class=\"sk-toggleable__label sk-toggleable__label-arrow\">SVC</label><div class=\"sk-toggleable__content\"><pre>SVC(C=1, decision_function_shape=&#x27;ovo&#x27;, gamma=1, kernel=&#x27;linear&#x27;,\n    probability=True)</pre></div></div></div></div></div></div></div></div></div></div>"
     },
     "execution_count": 12,
     "metadata": {},
     "output_type": "execute_result"
    }
   ],
   "source": [
    "from sklearn import svm\n",
    "linear_svm_param0 = {'C':[0.01, 0.1, 1, 10, 100]}\n",
    "svm_linear0 = GridSearchCV(estimator=svm.SVC(kernel='linear', gamma=1, C=1, probability=True,decision_function_shape='ovo'),param_grid = linear_svm_param0, scoring = 'accuracy', cv=kfold)\n",
    "svm_linear0.fit(x_train, y_train)"
   ],
   "metadata": {
    "collapsed": false,
    "pycharm": {
     "name": "#%%\n"
    }
   }
  },
  {
   "cell_type": "markdown",
   "source": [
    "# svm_linear"
   ],
   "metadata": {
    "collapsed": false,
    "pycharm": {
     "name": "#%% md\n"
    }
   }
  },
  {
   "cell_type": "code",
   "execution_count": 13,
   "outputs": [
    {
     "data": {
      "text/plain": "GridSearchCV(cv=StratifiedKFold(n_splits=5, random_state=3, shuffle=True),\n             estimator=Pipeline(steps=[('fr',\n                                        SelectKBest(k=50,\n                                                    score_func=<function mutual_info_classif at 0x000001ED4CB82040>)),\n                                       ('stdscaler', StandardScaler()),\n                                       ('svc',\n                                        SVC(C=1, decision_function_shape='ovo',\n                                            gamma=1, kernel='linear',\n                                            probability=True))]),\n             param_grid={'fr__k': [50, 75], 'svc__C': [0.01, 0.1, 1, 10, 100]},\n             scoring='accuracy')",
      "text/html": "<style>#sk-container-id-4 {color: black;background-color: white;}#sk-container-id-4 pre{padding: 0;}#sk-container-id-4 div.sk-toggleable {background-color: white;}#sk-container-id-4 label.sk-toggleable__label {cursor: pointer;display: block;width: 100%;margin-bottom: 0;padding: 0.3em;box-sizing: border-box;text-align: center;}#sk-container-id-4 label.sk-toggleable__label-arrow:before {content: \"▸\";float: left;margin-right: 0.25em;color: #696969;}#sk-container-id-4 label.sk-toggleable__label-arrow:hover:before {color: black;}#sk-container-id-4 div.sk-estimator:hover label.sk-toggleable__label-arrow:before {color: black;}#sk-container-id-4 div.sk-toggleable__content {max-height: 0;max-width: 0;overflow: hidden;text-align: left;background-color: #f0f8ff;}#sk-container-id-4 div.sk-toggleable__content pre {margin: 0.2em;color: black;border-radius: 0.25em;background-color: #f0f8ff;}#sk-container-id-4 input.sk-toggleable__control:checked~div.sk-toggleable__content {max-height: 200px;max-width: 100%;overflow: auto;}#sk-container-id-4 input.sk-toggleable__control:checked~label.sk-toggleable__label-arrow:before {content: \"▾\";}#sk-container-id-4 div.sk-estimator input.sk-toggleable__control:checked~label.sk-toggleable__label {background-color: #d4ebff;}#sk-container-id-4 div.sk-label input.sk-toggleable__control:checked~label.sk-toggleable__label {background-color: #d4ebff;}#sk-container-id-4 input.sk-hidden--visually {border: 0;clip: rect(1px 1px 1px 1px);clip: rect(1px, 1px, 1px, 1px);height: 1px;margin: -1px;overflow: hidden;padding: 0;position: absolute;width: 1px;}#sk-container-id-4 div.sk-estimator {font-family: monospace;background-color: #f0f8ff;border: 1px dotted black;border-radius: 0.25em;box-sizing: border-box;margin-bottom: 0.5em;}#sk-container-id-4 div.sk-estimator:hover {background-color: #d4ebff;}#sk-container-id-4 div.sk-parallel-item::after {content: \"\";width: 100%;border-bottom: 1px solid gray;flex-grow: 1;}#sk-container-id-4 div.sk-label:hover label.sk-toggleable__label {background-color: #d4ebff;}#sk-container-id-4 div.sk-serial::before {content: \"\";position: absolute;border-left: 1px solid gray;box-sizing: border-box;top: 0;bottom: 0;left: 50%;z-index: 0;}#sk-container-id-4 div.sk-serial {display: flex;flex-direction: column;align-items: center;background-color: white;padding-right: 0.2em;padding-left: 0.2em;position: relative;}#sk-container-id-4 div.sk-item {position: relative;z-index: 1;}#sk-container-id-4 div.sk-parallel {display: flex;align-items: stretch;justify-content: center;background-color: white;position: relative;}#sk-container-id-4 div.sk-item::before, #sk-container-id-4 div.sk-parallel-item::before {content: \"\";position: absolute;border-left: 1px solid gray;box-sizing: border-box;top: 0;bottom: 0;left: 50%;z-index: -1;}#sk-container-id-4 div.sk-parallel-item {display: flex;flex-direction: column;z-index: 1;position: relative;background-color: white;}#sk-container-id-4 div.sk-parallel-item:first-child::after {align-self: flex-end;width: 50%;}#sk-container-id-4 div.sk-parallel-item:last-child::after {align-self: flex-start;width: 50%;}#sk-container-id-4 div.sk-parallel-item:only-child::after {width: 0;}#sk-container-id-4 div.sk-dashed-wrapped {border: 1px dashed gray;margin: 0 0.4em 0.5em 0.4em;box-sizing: border-box;padding-bottom: 0.4em;background-color: white;}#sk-container-id-4 div.sk-label label {font-family: monospace;font-weight: bold;display: inline-block;line-height: 1.2em;}#sk-container-id-4 div.sk-label-container {text-align: center;}#sk-container-id-4 div.sk-container {/* jupyter's `normalize.less` sets `[hidden] { display: none; }` but bootstrap.min.css set `[hidden] { display: none !important; }` so we also need the `!important` here to be able to override the default hidden behavior on the sphinx rendered scikit-learn.org. See: https://github.com/scikit-learn/scikit-learn/issues/21755 */display: inline-block !important;position: relative;}#sk-container-id-4 div.sk-text-repr-fallback {display: none;}</style><div id=\"sk-container-id-4\" class=\"sk-top-container\"><div class=\"sk-text-repr-fallback\"><pre>GridSearchCV(cv=StratifiedKFold(n_splits=5, random_state=3, shuffle=True),\n             estimator=Pipeline(steps=[(&#x27;fr&#x27;,\n                                        SelectKBest(k=50,\n                                                    score_func=&lt;function mutual_info_classif at 0x000001ED4CB82040&gt;)),\n                                       (&#x27;stdscaler&#x27;, StandardScaler()),\n                                       (&#x27;svc&#x27;,\n                                        SVC(C=1, decision_function_shape=&#x27;ovo&#x27;,\n                                            gamma=1, kernel=&#x27;linear&#x27;,\n                                            probability=True))]),\n             param_grid={&#x27;fr__k&#x27;: [50, 75], &#x27;svc__C&#x27;: [0.01, 0.1, 1, 10, 100]},\n             scoring=&#x27;accuracy&#x27;)</pre><b>In a Jupyter environment, please rerun this cell to show the HTML representation or trust the notebook. <br />On GitHub, the HTML representation is unable to render, please try loading this page with nbviewer.org.</b></div><div class=\"sk-container\" hidden><div class=\"sk-item sk-dashed-wrapped\"><div class=\"sk-label-container\"><div class=\"sk-label sk-toggleable\"><input class=\"sk-toggleable__control sk-hidden--visually\" id=\"sk-estimator-id-10\" type=\"checkbox\" ><label for=\"sk-estimator-id-10\" class=\"sk-toggleable__label sk-toggleable__label-arrow\">GridSearchCV</label><div class=\"sk-toggleable__content\"><pre>GridSearchCV(cv=StratifiedKFold(n_splits=5, random_state=3, shuffle=True),\n             estimator=Pipeline(steps=[(&#x27;fr&#x27;,\n                                        SelectKBest(k=50,\n                                                    score_func=&lt;function mutual_info_classif at 0x000001ED4CB82040&gt;)),\n                                       (&#x27;stdscaler&#x27;, StandardScaler()),\n                                       (&#x27;svc&#x27;,\n                                        SVC(C=1, decision_function_shape=&#x27;ovo&#x27;,\n                                            gamma=1, kernel=&#x27;linear&#x27;,\n                                            probability=True))]),\n             param_grid={&#x27;fr__k&#x27;: [50, 75], &#x27;svc__C&#x27;: [0.01, 0.1, 1, 10, 100]},\n             scoring=&#x27;accuracy&#x27;)</pre></div></div></div><div class=\"sk-parallel\"><div class=\"sk-parallel-item\"><div class=\"sk-item\"><div class=\"sk-label-container\"><div class=\"sk-label sk-toggleable\"><input class=\"sk-toggleable__control sk-hidden--visually\" id=\"sk-estimator-id-11\" type=\"checkbox\" ><label for=\"sk-estimator-id-11\" class=\"sk-toggleable__label sk-toggleable__label-arrow\">estimator: Pipeline</label><div class=\"sk-toggleable__content\"><pre>Pipeline(steps=[(&#x27;fr&#x27;,\n                 SelectKBest(k=50,\n                             score_func=&lt;function mutual_info_classif at 0x000001ED4CB82040&gt;)),\n                (&#x27;stdscaler&#x27;, StandardScaler()),\n                (&#x27;svc&#x27;,\n                 SVC(C=1, decision_function_shape=&#x27;ovo&#x27;, gamma=1,\n                     kernel=&#x27;linear&#x27;, probability=True))])</pre></div></div></div><div class=\"sk-serial\"><div class=\"sk-item\"><div class=\"sk-serial\"><div class=\"sk-item\"><div class=\"sk-estimator sk-toggleable\"><input class=\"sk-toggleable__control sk-hidden--visually\" id=\"sk-estimator-id-12\" type=\"checkbox\" ><label for=\"sk-estimator-id-12\" class=\"sk-toggleable__label sk-toggleable__label-arrow\">SelectKBest</label><div class=\"sk-toggleable__content\"><pre>SelectKBest(k=50,\n            score_func=&lt;function mutual_info_classif at 0x000001ED4CB82040&gt;)</pre></div></div></div><div class=\"sk-item\"><div class=\"sk-estimator sk-toggleable\"><input class=\"sk-toggleable__control sk-hidden--visually\" id=\"sk-estimator-id-13\" type=\"checkbox\" ><label for=\"sk-estimator-id-13\" class=\"sk-toggleable__label sk-toggleable__label-arrow\">StandardScaler</label><div class=\"sk-toggleable__content\"><pre>StandardScaler()</pre></div></div></div><div class=\"sk-item\"><div class=\"sk-estimator sk-toggleable\"><input class=\"sk-toggleable__control sk-hidden--visually\" id=\"sk-estimator-id-14\" type=\"checkbox\" ><label for=\"sk-estimator-id-14\" class=\"sk-toggleable__label sk-toggleable__label-arrow\">SVC</label><div class=\"sk-toggleable__content\"><pre>SVC(C=1, decision_function_shape=&#x27;ovo&#x27;, gamma=1, kernel=&#x27;linear&#x27;,\n    probability=True)</pre></div></div></div></div></div></div></div></div></div></div></div></div>"
     },
     "execution_count": 13,
     "metadata": {},
     "output_type": "execute_result"
    }
   ],
   "source": [
    "pipeline_linear_svm_param = {'svc__C':[0.01, 0.1, 1, 10, 100],'fr__k':[50,75]}\n",
    "svm_linear = GridSearchCV(Pipeline([('fr',SelectKBest(score_func=mutual_info_classif,k=50)),\n",
    "('stdscaler',StandardScaler()),\n",
    "('svc',svm.SVC(kernel='linear', gamma=1, C=1, probability=True,decision_function_shape='ovo'))]), param_grid = pipeline_linear_svm_param, scoring = 'accuracy', cv=kfold)\n",
    "\n",
    "svm_linear.fit(x_train, y_train)"
   ],
   "metadata": {
    "collapsed": false,
    "pycharm": {
     "name": "#%%\n"
    }
   }
  },
  {
   "cell_type": "code",
   "execution_count": 14,
   "outputs": [
    {
     "data": {
      "text/plain": "array([0.96629213, 1.        , 0.98876404, 1.        , 0.93258427])"
     },
     "execution_count": 14,
     "metadata": {},
     "output_type": "execute_result"
    }
   ],
   "source": [
    "from sklearn.model_selection import cross_val_score\n",
    "cross_val_score(svm_linear, x_train, y_train, cv=5, scoring='accuracy')"
   ],
   "metadata": {
    "collapsed": false,
    "pycharm": {
     "name": "#%%\n"
    }
   }
  },
  {
   "cell_type": "markdown",
   "source": [
    "# svm_rbf"
   ],
   "metadata": {
    "collapsed": false,
    "pycharm": {
     "name": "#%% md\n"
    }
   }
  },
  {
   "cell_type": "code",
   "execution_count": 15,
   "outputs": [
    {
     "data": {
      "text/plain": "GridSearchCV(cv=StratifiedKFold(n_splits=5, random_state=3, shuffle=True),\n             estimator=Pipeline(steps=[('fr',\n                                        SelectKBest(k=50,\n                                                    score_func=<function mutual_info_classif at 0x000001ED4CB82040>)),\n                                       ('stdscaler', StandardScaler()),\n                                       ('svc',\n                                        SVC(C=1, decision_function_shape='ovo',\n                                            gamma=1, probability=True))]),\n             param_grid={'fr__k': [50, 75], 'svc__C': [0.01, 0.1, 1, 10, 100],\n                         'svc__gamma': [0.001, 0.01, 0.1, 1]},\n             scoring='accuracy')",
      "text/html": "<style>#sk-container-id-5 {color: black;background-color: white;}#sk-container-id-5 pre{padding: 0;}#sk-container-id-5 div.sk-toggleable {background-color: white;}#sk-container-id-5 label.sk-toggleable__label {cursor: pointer;display: block;width: 100%;margin-bottom: 0;padding: 0.3em;box-sizing: border-box;text-align: center;}#sk-container-id-5 label.sk-toggleable__label-arrow:before {content: \"▸\";float: left;margin-right: 0.25em;color: #696969;}#sk-container-id-5 label.sk-toggleable__label-arrow:hover:before {color: black;}#sk-container-id-5 div.sk-estimator:hover label.sk-toggleable__label-arrow:before {color: black;}#sk-container-id-5 div.sk-toggleable__content {max-height: 0;max-width: 0;overflow: hidden;text-align: left;background-color: #f0f8ff;}#sk-container-id-5 div.sk-toggleable__content pre {margin: 0.2em;color: black;border-radius: 0.25em;background-color: #f0f8ff;}#sk-container-id-5 input.sk-toggleable__control:checked~div.sk-toggleable__content {max-height: 200px;max-width: 100%;overflow: auto;}#sk-container-id-5 input.sk-toggleable__control:checked~label.sk-toggleable__label-arrow:before {content: \"▾\";}#sk-container-id-5 div.sk-estimator input.sk-toggleable__control:checked~label.sk-toggleable__label {background-color: #d4ebff;}#sk-container-id-5 div.sk-label input.sk-toggleable__control:checked~label.sk-toggleable__label {background-color: #d4ebff;}#sk-container-id-5 input.sk-hidden--visually {border: 0;clip: rect(1px 1px 1px 1px);clip: rect(1px, 1px, 1px, 1px);height: 1px;margin: -1px;overflow: hidden;padding: 0;position: absolute;width: 1px;}#sk-container-id-5 div.sk-estimator {font-family: monospace;background-color: #f0f8ff;border: 1px dotted black;border-radius: 0.25em;box-sizing: border-box;margin-bottom: 0.5em;}#sk-container-id-5 div.sk-estimator:hover {background-color: #d4ebff;}#sk-container-id-5 div.sk-parallel-item::after {content: \"\";width: 100%;border-bottom: 1px solid gray;flex-grow: 1;}#sk-container-id-5 div.sk-label:hover label.sk-toggleable__label {background-color: #d4ebff;}#sk-container-id-5 div.sk-serial::before {content: \"\";position: absolute;border-left: 1px solid gray;box-sizing: border-box;top: 0;bottom: 0;left: 50%;z-index: 0;}#sk-container-id-5 div.sk-serial {display: flex;flex-direction: column;align-items: center;background-color: white;padding-right: 0.2em;padding-left: 0.2em;position: relative;}#sk-container-id-5 div.sk-item {position: relative;z-index: 1;}#sk-container-id-5 div.sk-parallel {display: flex;align-items: stretch;justify-content: center;background-color: white;position: relative;}#sk-container-id-5 div.sk-item::before, #sk-container-id-5 div.sk-parallel-item::before {content: \"\";position: absolute;border-left: 1px solid gray;box-sizing: border-box;top: 0;bottom: 0;left: 50%;z-index: -1;}#sk-container-id-5 div.sk-parallel-item {display: flex;flex-direction: column;z-index: 1;position: relative;background-color: white;}#sk-container-id-5 div.sk-parallel-item:first-child::after {align-self: flex-end;width: 50%;}#sk-container-id-5 div.sk-parallel-item:last-child::after {align-self: flex-start;width: 50%;}#sk-container-id-5 div.sk-parallel-item:only-child::after {width: 0;}#sk-container-id-5 div.sk-dashed-wrapped {border: 1px dashed gray;margin: 0 0.4em 0.5em 0.4em;box-sizing: border-box;padding-bottom: 0.4em;background-color: white;}#sk-container-id-5 div.sk-label label {font-family: monospace;font-weight: bold;display: inline-block;line-height: 1.2em;}#sk-container-id-5 div.sk-label-container {text-align: center;}#sk-container-id-5 div.sk-container {/* jupyter's `normalize.less` sets `[hidden] { display: none; }` but bootstrap.min.css set `[hidden] { display: none !important; }` so we also need the `!important` here to be able to override the default hidden behavior on the sphinx rendered scikit-learn.org. See: https://github.com/scikit-learn/scikit-learn/issues/21755 */display: inline-block !important;position: relative;}#sk-container-id-5 div.sk-text-repr-fallback {display: none;}</style><div id=\"sk-container-id-5\" class=\"sk-top-container\"><div class=\"sk-text-repr-fallback\"><pre>GridSearchCV(cv=StratifiedKFold(n_splits=5, random_state=3, shuffle=True),\n             estimator=Pipeline(steps=[(&#x27;fr&#x27;,\n                                        SelectKBest(k=50,\n                                                    score_func=&lt;function mutual_info_classif at 0x000001ED4CB82040&gt;)),\n                                       (&#x27;stdscaler&#x27;, StandardScaler()),\n                                       (&#x27;svc&#x27;,\n                                        SVC(C=1, decision_function_shape=&#x27;ovo&#x27;,\n                                            gamma=1, probability=True))]),\n             param_grid={&#x27;fr__k&#x27;: [50, 75], &#x27;svc__C&#x27;: [0.01, 0.1, 1, 10, 100],\n                         &#x27;svc__gamma&#x27;: [0.001, 0.01, 0.1, 1]},\n             scoring=&#x27;accuracy&#x27;)</pre><b>In a Jupyter environment, please rerun this cell to show the HTML representation or trust the notebook. <br />On GitHub, the HTML representation is unable to render, please try loading this page with nbviewer.org.</b></div><div class=\"sk-container\" hidden><div class=\"sk-item sk-dashed-wrapped\"><div class=\"sk-label-container\"><div class=\"sk-label sk-toggleable\"><input class=\"sk-toggleable__control sk-hidden--visually\" id=\"sk-estimator-id-15\" type=\"checkbox\" ><label for=\"sk-estimator-id-15\" class=\"sk-toggleable__label sk-toggleable__label-arrow\">GridSearchCV</label><div class=\"sk-toggleable__content\"><pre>GridSearchCV(cv=StratifiedKFold(n_splits=5, random_state=3, shuffle=True),\n             estimator=Pipeline(steps=[(&#x27;fr&#x27;,\n                                        SelectKBest(k=50,\n                                                    score_func=&lt;function mutual_info_classif at 0x000001ED4CB82040&gt;)),\n                                       (&#x27;stdscaler&#x27;, StandardScaler()),\n                                       (&#x27;svc&#x27;,\n                                        SVC(C=1, decision_function_shape=&#x27;ovo&#x27;,\n                                            gamma=1, probability=True))]),\n             param_grid={&#x27;fr__k&#x27;: [50, 75], &#x27;svc__C&#x27;: [0.01, 0.1, 1, 10, 100],\n                         &#x27;svc__gamma&#x27;: [0.001, 0.01, 0.1, 1]},\n             scoring=&#x27;accuracy&#x27;)</pre></div></div></div><div class=\"sk-parallel\"><div class=\"sk-parallel-item\"><div class=\"sk-item\"><div class=\"sk-label-container\"><div class=\"sk-label sk-toggleable\"><input class=\"sk-toggleable__control sk-hidden--visually\" id=\"sk-estimator-id-16\" type=\"checkbox\" ><label for=\"sk-estimator-id-16\" class=\"sk-toggleable__label sk-toggleable__label-arrow\">estimator: Pipeline</label><div class=\"sk-toggleable__content\"><pre>Pipeline(steps=[(&#x27;fr&#x27;,\n                 SelectKBest(k=50,\n                             score_func=&lt;function mutual_info_classif at 0x000001ED4CB82040&gt;)),\n                (&#x27;stdscaler&#x27;, StandardScaler()),\n                (&#x27;svc&#x27;,\n                 SVC(C=1, decision_function_shape=&#x27;ovo&#x27;, gamma=1,\n                     probability=True))])</pre></div></div></div><div class=\"sk-serial\"><div class=\"sk-item\"><div class=\"sk-serial\"><div class=\"sk-item\"><div class=\"sk-estimator sk-toggleable\"><input class=\"sk-toggleable__control sk-hidden--visually\" id=\"sk-estimator-id-17\" type=\"checkbox\" ><label for=\"sk-estimator-id-17\" class=\"sk-toggleable__label sk-toggleable__label-arrow\">SelectKBest</label><div class=\"sk-toggleable__content\"><pre>SelectKBest(k=50,\n            score_func=&lt;function mutual_info_classif at 0x000001ED4CB82040&gt;)</pre></div></div></div><div class=\"sk-item\"><div class=\"sk-estimator sk-toggleable\"><input class=\"sk-toggleable__control sk-hidden--visually\" id=\"sk-estimator-id-18\" type=\"checkbox\" ><label for=\"sk-estimator-id-18\" class=\"sk-toggleable__label sk-toggleable__label-arrow\">StandardScaler</label><div class=\"sk-toggleable__content\"><pre>StandardScaler()</pre></div></div></div><div class=\"sk-item\"><div class=\"sk-estimator sk-toggleable\"><input class=\"sk-toggleable__control sk-hidden--visually\" id=\"sk-estimator-id-19\" type=\"checkbox\" ><label for=\"sk-estimator-id-19\" class=\"sk-toggleable__label sk-toggleable__label-arrow\">SVC</label><div class=\"sk-toggleable__content\"><pre>SVC(C=1, decision_function_shape=&#x27;ovo&#x27;, gamma=1, probability=True)</pre></div></div></div></div></div></div></div></div></div></div></div></div>"
     },
     "execution_count": 15,
     "metadata": {},
     "output_type": "execute_result"
    }
   ],
   "source": [
    "\n",
    "pipeline_rbf_svm_param0 = {'svc__C':[0.01, 0.1, 1, 10, 100],'svc__gamma':[0.001,0.01,0.1,1],'fr__k':[50,75]}\n",
    "svm_rbf = GridSearchCV(estimator=Pipeline([('fr',SelectKBest(score_func=mutual_info_classif,k=50)),('stdscaler',StandardScaler()),('svc',svm.SVC(kernel='rbf', gamma=1, C=1, probability=True,decision_function_shape='ovo'))]),param_grid = pipeline_rbf_svm_param0, scoring = 'accuracy', cv=kfold)\n",
    "svm_rbf.fit(x_train, y_train)"
   ],
   "metadata": {
    "collapsed": false,
    "pycharm": {
     "name": "#%%\n"
    }
   }
  },
  {
   "cell_type": "markdown",
   "source": [
    "## 畫圖比較"
   ],
   "metadata": {
    "collapsed": false,
    "pycharm": {
     "name": "#%% md\n"
    }
   }
  },
  {
   "cell_type": "code",
   "execution_count": 16,
   "outputs": [
    {
     "name": "stdout",
     "output_type": "stream",
     "text": [
      "(1244, 128)\n",
      "(1244,)\n",
      "9\n"
     ]
    }
   ],
   "source": [
    "x_test = []\n",
    "y_test = []\n",
    "for i in range(2,11):\n",
    "    x_test_temp, y_test_temp = load_svmlight_file(output_folder+\"processed_batch\"+str(i)+\".dat\")\n",
    "    x_test_temp = x_test_temp.toarray()\n",
    "    y_test_temp = y_test_temp.astype(int)\n",
    "    y_test_temp = y_test_temp-1\n",
    "    x_test.append(x_test_temp)\n",
    "    y_test.append(y_test_temp)\n",
    "print(x_test[0].shape)\n",
    "print(y_test[0].shape)\n",
    "print(len(x_test))\n"
   ],
   "metadata": {
    "collapsed": false,
    "pycharm": {
     "name": "#%%\n"
    }
   }
  },
  {
   "cell_type": "code",
   "execution_count": 17,
   "outputs": [],
   "source": [
    "from sklearn.metrics import accuracy_score\n",
    "\n",
    "decision_tree_accuracy = []\n",
    "knn_accuracy = []\n",
    "linear_svm0_accuracy = []\n",
    "linear_svm_accuracy = []\n",
    "rbf_svm_accuracy = []\n",
    "\n",
    "\n",
    "\n",
    "for i in range(len(x_test)):\n",
    "    decision_tree_pred = dt.predict(x_test[i])\n",
    "    decision_tree_accuracy.append(accuracy_score(y_test[i], decision_tree_pred))\n",
    "    knn_pred = knn.predict(x_test[i])\n",
    "    knn_accuracy.append(accuracy_score(y_test[i], knn_pred))\n",
    "    linear_svm0_pred = svm_linear0.predict(x_test[i])\n",
    "    linear_svm0_accuracy.append(accuracy_score(y_test[i], linear_svm0_pred))\n",
    "    linear_svm_pred = svm_linear.predict(x_test[i])\n",
    "    linear_svm_accuracy.append(accuracy_score(y_test[i], linear_svm_pred))\n",
    "    rbf_svm_pred = svm_rbf.predict(x_test[i])\n",
    "    rbf_svm_accuracy.append(accuracy_score(y_test[i], rbf_svm_pred))\n"
   ],
   "metadata": {
    "collapsed": false,
    "pycharm": {
     "name": "#%%\n"
    }
   }
  },
  {
   "cell_type": "code",
   "execution_count": 18,
   "outputs": [
    {
     "data": {
      "text/plain": "<Figure size 1080x576 with 1 Axes>",
      "image/png": "[encoded data removed]"
     },
     "metadata": {
      "needs_background": "light"
     },
     "output_type": "display_data"
    }
   ],
   "source": [
    "import matplotlib.pyplot as plt\n",
    "plt.figure(figsize=(15,8))\n",
    "ax = plt.gca()\n",
    "ax.set_ylim([0.0, 1.0])\n",
    "plt.plot(decision_tree_accuracy,marker='o', label='decision_tree')\n",
    "plt.plot(knn_accuracy,marker='o', label='knn')\n",
    "plt.plot(linear_svm0_accuracy,marker='o', label='linear_svm0')\n",
    "plt.plot(linear_svm_accuracy,marker='o', label='linear_svm')\n",
    "plt.plot(rbf_svm_accuracy,marker='o', label='rbf_svm')\n",
    "\n",
    "plt.legend()\n",
    "plt.grid()\n",
    "plt.show()"
   ],
   "metadata": {
    "collapsed": false,
    "pycharm": {
     "name": "#%%\n"
    }
   }
  },
  {
   "cell_type": "markdown",
   "source": [
    "# Neuruel network"
   ],
   "metadata": {
    "collapsed": false,
    "pycharm": {
     "name": "#%% md\n"
    }
   }
  },
  {
   "cell_type": "code",
   "execution_count": 19,
   "outputs": [
    {
     "name": "stdout",
     "output_type": "stream",
     "text": [
      "(445, 128)\n",
      "(445,)\n"
     ]
    }
   ],
   "source": [
    "from keras.utils import np_utils\n",
    "x_train, y_train = load_svmlight_file(output_folder+\"processed_batch1.dat\")\n",
    "x_train = x_train.toarray()\n",
    "y_train = y_train.astype(int)\n",
    "y_train = y_train-1\n",
    "# y_train=np_utils.to_categorical(y_train)\n",
    "print(x_train.shape)\n",
    "print(y_train.shape)"
   ],
   "metadata": {
    "collapsed": false,
    "pycharm": {
     "name": "#%%\n"
    }
   }
  },
  {
   "cell_type": "code",
   "execution_count": 20,
   "outputs": [
    {
     "name": "stdout",
     "output_type": "stream",
     "text": [
      "[[ 1.55961621e+04  1.86824500e+00  2.37160400e+00 ... -5.45079000e-01\n",
      "  -9.02241000e-01 -2.65452900e+00]\n",
      " [ 2.64020704e+04  2.53240100e+00  5.41120900e+00 ... -8.89333000e-01\n",
      "  -1.32350500e+00 -1.74922500e+00]\n",
      " [ 4.21035820e+04  3.45418900e+00  8.19817500e+00 ... -1.33455800e+00\n",
      "  -1.99365900e+00 -2.34837000e+00]\n",
      " ...\n",
      " [ 1.07898233e+05  8.99476100e+00  2.51310790e+01 ... -8.31980000e-01\n",
      "  -1.29934500e+00 -3.86036200e+00]\n",
      " [ 1.19795035e+05  9.58260600e+00  2.89447160e+01 ... -9.70762000e-01\n",
      "  -1.69386800e+00 -2.72047200e+00]\n",
      " [ 1.40782298e+05  1.09753420e+01  3.55248020e+01 ... -1.28115700e+00\n",
      "  -2.33268000e+00 -3.73508700e+00]]\n"
     ]
    }
   ],
   "source": [
    "print(x_train)"
   ],
   "metadata": {
    "collapsed": false,
    "pycharm": {
     "name": "#%%\n"
    }
   }
  },
  {
   "cell_type": "code",
   "execution_count": 21,
   "outputs": [
    {
     "name": "stdout",
     "output_type": "stream",
     "text": [
      "[0 0 0 0 0 0 0 0 0 0 0 0 0 0 0 0 0 0 0 0 0 0 0 0 0 0 0 0 0 0 0 0 0 0 0 0 0\n",
      " 0 0 0 0 0 0 0 0 0 0 0 0 0 0 0 0 0 0 0 0 0 0 0 0 0 0 0 0 0 0 0 0 0 0 0 0 0\n",
      " 0 0 0 0 0 0 0 0 0 0 1 1 1 1 1 1 1 1 1 1 1 1 1 1 1 1 1 1 1 1 1 1 1 1 1 1 1\n",
      " 1 1 1 1 1 1 1 1 1 1 1 1 1 1 1 1 1 1 1 1 1 1 1 1 1 1 1 1 1 1 1 1 1 1 1 1 1\n",
      " 1 1 1 1 1 1 1 1 1 1 1 1 1 1 1 1 1 1 1 1 1 1 1 1 2 2 2 2 2 2 2 2 2 2 2 2 2\n",
      " 2 2 2 2 2 2 2 2 2 2 2 2 2 2 2 2 2 2 2 2 2 2 2 2 2 2 2 2 2 2 2 2 2 2 2 2 2\n",
      " 2 2 2 2 2 2 2 2 2 2 2 2 2 2 2 2 2 2 2 2 2 2 2 2 2 2 0 0 0 0 0 0 1 1 1 1 1\n",
      " 1 1 1 1 1 2 2 2 2 2 2 2 3 3 3 3 3 3 3 3 3 3 3 3 3 3 3 3 3 3 3 3 3 3 3 3 3\n",
      " 3 3 3 3 3 4 4 4 4 4 4 4 4 4 4 4 4 4 4 4 4 4 4 4 4 4 4 4 4 4 4 4 4 4 4 4 4\n",
      " 4 4 4 4 4 4 4 4 4 4 4 4 4 4 4 4 4 4 4 4 4 4 4 4 4 4 4 4 4 4 4 4 4 4 4 4 4\n",
      " 4 5 5 5 5 5 5 5 5 5 5 5 5 5 5 5 5 5 5 5 5 5 5 5 5 5 5 5 5 5 5 5 5 5 5 5 5\n",
      " 5 5 5 5 5 5 5 5 5 5 5 5 5 5 5 5 5 5 5 5 5 5 5 5 5 5 5 5 5 5 5 5 5 5 5 5 5\n",
      " 5]\n"
     ]
    }
   ],
   "source": [
    "print(y_train)"
   ],
   "metadata": {
    "collapsed": false,
    "pycharm": {
     "name": "#%%\n"
    }
   }
  },
  {
   "cell_type": "code",
   "execution_count": 34,
   "outputs": [],
   "source": [
    "from tensorflow.keras.layers import BatchNormalization\n",
    "from tensorflow.keras.models import Sequential\n",
    "from tensorflow.keras.layers import Dense\n",
    "from tensorflow.keras.layers import Dropout\n",
    "from tensorflow.keras.layers import Activation\n",
    "\n",
    "TRAIN_EPOCHS = 20"
   ],
   "metadata": {
    "collapsed": false,
    "pycharm": {
     "name": "#%%\n"
    }
   }
  },
  {
   "cell_type": "markdown",
   "source": [
    "# Model 1"
   ],
   "metadata": {
    "collapsed": false,
    "pycharm": {
     "name": "#%% md\n"
    }
   }
  },
  {
   "cell_type": "code",
   "execution_count": 35,
   "outputs": [
    {
     "name": "stdout",
     "output_type": "stream",
     "text": [
      "Epoch 1/20\n",
      "14/14 [==============================] - 0s 6ms/step - loss: 0.9008 - accuracy: 0.7034\n",
      "Epoch 2/20\n",
      "14/14 [==============================] - 0s 7ms/step - loss: 0.3458 - accuracy: 0.8876\n",
      "Epoch 3/20\n",
      "14/14 [==============================] - 0s 4ms/step - loss: 0.3335 - accuracy: 0.8674\n",
      "Epoch 4/20\n",
      "14/14 [==============================] - 0s 2ms/step - loss: 0.4339 - accuracy: 0.8539\n",
      "Epoch 5/20\n",
      "14/14 [==============================] - 0s 2ms/step - loss: 0.3311 - accuracy: 0.8607\n",
      "Epoch 6/20\n",
      "14/14 [==============================] - 0s 2ms/step - loss: 0.2796 - accuracy: 0.8764\n",
      "Epoch 7/20\n",
      "14/14 [==============================] - 0s 2ms/step - loss: 0.1763 - accuracy: 0.9348\n",
      "Epoch 8/20\n",
      "14/14 [==============================] - 0s 3ms/step - loss: 0.1963 - accuracy: 0.9169\n",
      "Epoch 9/20\n",
      "14/14 [==============================] - 0s 2ms/step - loss: 0.2315 - accuracy: 0.9101\n",
      "Epoch 10/20\n",
      "14/14 [==============================] - 0s 2ms/step - loss: 0.2866 - accuracy: 0.8899\n",
      "Epoch 11/20\n",
      "14/14 [==============================] - 0s 2ms/step - loss: 0.2201 - accuracy: 0.8989\n",
      "Epoch 12/20\n",
      "14/14 [==============================] - 0s 2ms/step - loss: 0.2173 - accuracy: 0.9034\n",
      "Epoch 13/20\n",
      "14/14 [==============================] - 0s 2ms/step - loss: 0.1761 - accuracy: 0.9236\n",
      "Epoch 14/20\n",
      "14/14 [==============================] - 0s 2ms/step - loss: 0.2388 - accuracy: 0.9281\n",
      "Epoch 15/20\n",
      "14/14 [==============================] - 0s 2ms/step - loss: 0.2588 - accuracy: 0.9056\n",
      "Epoch 16/20\n",
      "14/14 [==============================] - 0s 2ms/step - loss: 0.2441 - accuracy: 0.8989\n",
      "Epoch 17/20\n",
      "14/14 [==============================] - 0s 2ms/step - loss: 0.1784 - accuracy: 0.9303\n",
      "Epoch 18/20\n",
      "14/14 [==============================] - 0s 2ms/step - loss: 0.1420 - accuracy: 0.9506\n",
      "Epoch 19/20\n",
      "14/14 [==============================] - 0s 2ms/step - loss: 0.1426 - accuracy: 0.9393\n",
      "Epoch 20/20\n",
      "14/14 [==============================] - 0s 2ms/step - loss: 0.2690 - accuracy: 0.9056\n"
     ]
    },
    {
     "data": {
      "text/plain": "<keras.callbacks.History at 0x1eeb8fa3760>"
     },
     "execution_count": 35,
     "metadata": {},
     "output_type": "execute_result"
    }
   ],
   "source": [
    "\n",
    "model_1 = Sequential([\n",
    "    Dense(128),\n",
    "    BatchNormalization(),\n",
    "    Activation('relu'),\n",
    "    Dense(512,activation='relu'),\n",
    "    Dense(512,activation='relu'),\n",
    "    Dropout(0.1),\n",
    "    Dense(6,activation='softmax')\n",
    "])\n",
    "\n",
    "model_1.compile(optimizer='adam', loss='sparse_categorical_crossentropy', metrics=['accuracy'])\n",
    "# model_1.fit(X_train, y_train, epochs=10, batch_size=32)\n",
    "model_1.fit(x_train, y_train, epochs=TRAIN_EPOCHS)"
   ],
   "metadata": {
    "collapsed": false,
    "pycharm": {
     "name": "#%%\n"
    }
   }
  },
  {
   "cell_type": "markdown",
   "source": [
    "# Model 2"
   ],
   "metadata": {
    "collapsed": false,
    "pycharm": {
     "name": "#%% md\n"
    }
   }
  },
  {
   "cell_type": "code",
   "execution_count": 36,
   "outputs": [
    {
     "name": "stdout",
     "output_type": "stream",
     "text": [
      "Epoch 1/20\n",
      "14/14 [==============================] - 0s 1ms/step - loss: 3168.4377 - accuracy: 0.4831\n",
      "Epoch 2/20\n",
      "14/14 [==============================] - 0s 2ms/step - loss: 525.6407 - accuracy: 0.6494\n",
      "Epoch 3/20\n",
      "14/14 [==============================] - 0s 2ms/step - loss: 317.0171 - accuracy: 0.8045\n",
      "Epoch 4/20\n",
      "14/14 [==============================] - 0s 2ms/step - loss: 154.4731 - accuracy: 0.8157\n",
      "Epoch 5/20\n",
      "14/14 [==============================] - 0s 2ms/step - loss: 139.2986 - accuracy: 0.8225\n",
      "Epoch 6/20\n",
      "14/14 [==============================] - 0s 2ms/step - loss: 194.6250 - accuracy: 0.8449\n",
      "Epoch 7/20\n",
      "14/14 [==============================] - 0s 1ms/step - loss: 331.6747 - accuracy: 0.8494\n",
      "Epoch 8/20\n",
      "14/14 [==============================] - 0s 2ms/step - loss: 106.0639 - accuracy: 0.8719\n",
      "Epoch 9/20\n",
      "14/14 [==============================] - 0s 2ms/step - loss: 38.2641 - accuracy: 0.9191\n",
      "Epoch 10/20\n",
      "14/14 [==============================] - 0s 2ms/step - loss: 29.6182 - accuracy: 0.9416\n",
      "Epoch 11/20\n",
      "14/14 [==============================] - 0s 2ms/step - loss: 8.3415 - accuracy: 0.9663\n",
      "Epoch 12/20\n",
      "14/14 [==============================] - 0s 2ms/step - loss: 40.3216 - accuracy: 0.9461\n",
      "Epoch 13/20\n",
      "14/14 [==============================] - 0s 2ms/step - loss: 157.2730 - accuracy: 0.9213\n",
      "Epoch 14/20\n",
      "14/14 [==============================] - 0s 2ms/step - loss: 75.7483 - accuracy: 0.9056\n",
      "Epoch 15/20\n",
      "14/14 [==============================] - 0s 2ms/step - loss: 59.6770 - accuracy: 0.9371\n",
      "Epoch 16/20\n",
      "14/14 [==============================] - 0s 1ms/step - loss: 24.8243 - accuracy: 0.9258\n",
      "Epoch 17/20\n",
      "14/14 [==============================] - 0s 2ms/step - loss: 19.9817 - accuracy: 0.9551\n",
      "Epoch 18/20\n",
      "14/14 [==============================] - 0s 2ms/step - loss: 39.2538 - accuracy: 0.9326\n",
      "Epoch 19/20\n",
      "14/14 [==============================] - 0s 2ms/step - loss: 29.5563 - accuracy: 0.9461\n",
      "Epoch 20/20\n",
      "14/14 [==============================] - 0s 2ms/step - loss: 61.5053 - accuracy: 0.8966\n"
     ]
    },
    {
     "data": {
      "text/plain": "<keras.callbacks.History at 0x1eeb8d545e0>"
     },
     "execution_count": 36,
     "metadata": {},
     "output_type": "execute_result"
    }
   ],
   "source": [
    "model_2 = Sequential([\n",
    "    Dense(128, input_shape=(128,), activation='relu'),\n",
    "    Dense(128,activation='relu'),\n",
    "    Dense(128,activation='relu'),\n",
    "    Dense(128,activation='relu'),\n",
    "    Dense(6,activation='softmax')\n",
    "])\n",
    "\n",
    "model_2.compile(optimizer='adam', loss='sparse_categorical_crossentropy', metrics=['accuracy'])\n",
    "model_2.fit(x_train, y_train, epochs=TRAIN_EPOCHS)"
   ],
   "metadata": {
    "collapsed": false,
    "pycharm": {
     "name": "#%%\n"
    }
   }
  },
  {
   "cell_type": "markdown",
   "source": [
    "# Model 3"
   ],
   "metadata": {
    "collapsed": false,
    "pycharm": {
     "name": "#%% md\n"
    }
   }
  },
  {
   "cell_type": "code",
   "execution_count": 37,
   "outputs": [
    {
     "name": "stdout",
     "output_type": "stream",
     "text": [
      "Epoch 1/20\n",
      "14/14 [==============================] - 0s 2ms/step - loss: 1.1291 - accuracy: 0.6607\n",
      "Epoch 2/20\n",
      "14/14 [==============================] - 0s 3ms/step - loss: 0.5978 - accuracy: 0.8854\n",
      "Epoch 3/20\n",
      "14/14 [==============================] - 0s 2ms/step - loss: 0.3870 - accuracy: 0.8854\n",
      "Epoch 4/20\n",
      "14/14 [==============================] - 0s 2ms/step - loss: 0.2855 - accuracy: 0.8989\n",
      "Epoch 5/20\n",
      "14/14 [==============================] - 0s 2ms/step - loss: 0.2124 - accuracy: 0.9258\n",
      "Epoch 6/20\n",
      "14/14 [==============================] - 0s 2ms/step - loss: 0.2508 - accuracy: 0.9169\n",
      "Epoch 7/20\n",
      "14/14 [==============================] - 0s 2ms/step - loss: 0.2292 - accuracy: 0.9101\n",
      "Epoch 8/20\n",
      "14/14 [==============================] - 0s 2ms/step - loss: 0.2297 - accuracy: 0.9236\n",
      "Epoch 9/20\n",
      "14/14 [==============================] - 0s 2ms/step - loss: 0.1747 - accuracy: 0.9416\n",
      "Epoch 10/20\n",
      "14/14 [==============================] - 0s 2ms/step - loss: 0.1428 - accuracy: 0.9618\n",
      "Epoch 11/20\n",
      "14/14 [==============================] - 0s 2ms/step - loss: 0.1386 - accuracy: 0.9506\n",
      "Epoch 12/20\n",
      "14/14 [==============================] - 0s 2ms/step - loss: 0.1519 - accuracy: 0.9506\n",
      "Epoch 13/20\n",
      "14/14 [==============================] - 0s 2ms/step - loss: 0.0980 - accuracy: 0.9730\n",
      "Epoch 14/20\n",
      "14/14 [==============================] - 0s 2ms/step - loss: 0.1350 - accuracy: 0.9438\n",
      "Epoch 15/20\n",
      "14/14 [==============================] - 0s 2ms/step - loss: 0.1045 - accuracy: 0.9685\n",
      "Epoch 16/20\n",
      "14/14 [==============================] - 0s 2ms/step - loss: 0.0997 - accuracy: 0.9596\n",
      "Epoch 17/20\n",
      "14/14 [==============================] - 0s 2ms/step - loss: 0.1406 - accuracy: 0.9685\n",
      "Epoch 18/20\n",
      "14/14 [==============================] - 0s 2ms/step - loss: 0.1232 - accuracy: 0.9573\n",
      "Epoch 19/20\n",
      "14/14 [==============================] - 0s 2ms/step - loss: 0.1239 - accuracy: 0.9640\n",
      "Epoch 20/20\n",
      "14/14 [==============================] - 0s 2ms/step - loss: 0.2179 - accuracy: 0.9146\n"
     ]
    },
    {
     "data": {
      "text/plain": "<keras.callbacks.History at 0x1eeb92c59d0>"
     },
     "execution_count": 37,
     "metadata": {},
     "output_type": "execute_result"
    }
   ],
   "source": [
    "model_3 = Sequential([\n",
    "    Dense(128, input_shape=(128,), activation='relu'),\n",
    "    BatchNormalization(),\n",
    "    Activation('relu'),\n",
    "    Dense(512,activation='relu'),\n",
    "    Dense(128,activation='relu'),\n",
    "    Dense(64,activation='relu'),\n",
    "    Dense(6,activation='softmax')\n",
    "])\n",
    "\n",
    "model_3.compile(optimizer='adam', loss='sparse_categorical_crossentropy', metrics=['accuracy'])\n",
    "model_3.fit(x_train, y_train, epochs=TRAIN_EPOCHS)"
   ],
   "metadata": {
    "collapsed": false,
    "pycharm": {
     "name": "#%%\n"
    }
   }
  },
  {
   "cell_type": "markdown",
   "source": [
    "# Model 4"
   ],
   "metadata": {
    "collapsed": false,
    "pycharm": {
     "name": "#%% md\n"
    }
   }
  },
  {
   "cell_type": "code",
   "execution_count": 38,
   "outputs": [
    {
     "name": "stdout",
     "output_type": "stream",
     "text": [
      "Epoch 1/20\n",
      "14/14 [==============================] - 0s 2ms/step - loss: 2140.3462 - accuracy: 0.2112\n",
      "Epoch 2/20\n",
      "14/14 [==============================] - 0s 2ms/step - loss: 404.3503 - accuracy: 0.3955\n",
      "Epoch 3/20\n",
      "14/14 [==============================] - 0s 2ms/step - loss: 193.0759 - accuracy: 0.5483\n",
      "Epoch 4/20\n",
      "14/14 [==============================] - 0s 2ms/step - loss: 127.8397 - accuracy: 0.6539\n",
      "Epoch 5/20\n",
      "14/14 [==============================] - 0s 2ms/step - loss: 93.3993 - accuracy: 0.7596\n",
      "Epoch 6/20\n",
      "14/14 [==============================] - 0s 2ms/step - loss: 78.0919 - accuracy: 0.7685\n",
      "Epoch 7/20\n",
      "14/14 [==============================] - 0s 2ms/step - loss: 46.8006 - accuracy: 0.8270\n",
      "Epoch 8/20\n",
      "14/14 [==============================] - 0s 3ms/step - loss: 44.1117 - accuracy: 0.8337\n",
      "Epoch 9/20\n",
      "14/14 [==============================] - 0s 2ms/step - loss: 33.1581 - accuracy: 0.8517\n",
      "Epoch 10/20\n",
      "14/14 [==============================] - 0s 2ms/step - loss: 27.8500 - accuracy: 0.8674\n",
      "Epoch 11/20\n",
      "14/14 [==============================] - 0s 2ms/step - loss: 16.0988 - accuracy: 0.8899\n",
      "Epoch 12/20\n",
      "14/14 [==============================] - 0s 2ms/step - loss: 34.5231 - accuracy: 0.8629\n",
      "Epoch 13/20\n",
      "14/14 [==============================] - 0s 2ms/step - loss: 26.8412 - accuracy: 0.8719\n",
      "Epoch 14/20\n",
      "14/14 [==============================] - 0s 2ms/step - loss: 21.3518 - accuracy: 0.8831\n",
      "Epoch 15/20\n",
      "14/14 [==============================] - 0s 2ms/step - loss: 21.4346 - accuracy: 0.8809\n",
      "Epoch 16/20\n",
      "14/14 [==============================] - 0s 2ms/step - loss: 32.6994 - accuracy: 0.8989\n",
      "Epoch 17/20\n",
      "14/14 [==============================] - 0s 2ms/step - loss: 20.0255 - accuracy: 0.8809\n",
      "Epoch 18/20\n",
      "14/14 [==============================] - 0s 2ms/step - loss: 18.4861 - accuracy: 0.8966\n",
      "Epoch 19/20\n",
      "14/14 [==============================] - 0s 2ms/step - loss: 20.2226 - accuracy: 0.8944\n",
      "Epoch 20/20\n",
      "14/14 [==============================] - 0s 2ms/step - loss: 14.3266 - accuracy: 0.8966\n"
     ]
    },
    {
     "data": {
      "text/plain": "<keras.callbacks.History at 0x1eeb919f550>"
     },
     "execution_count": 38,
     "metadata": {},
     "output_type": "execute_result"
    }
   ],
   "source": [
    "model_4 = Sequential([\n",
    "    Dense(128, input_shape=(128,), activation='relu'),\n",
    "    Dense(32,activation='relu'),\n",
    "    Dense(32,activation='relu'),\n",
    "    Dense(32,activation='relu'),\n",
    "    Dense(32,activation='relu'),\n",
    "    Dropout(0.1),\n",
    "    Dense(6,activation='softmax')\n",
    "])\n",
    "\n",
    "model_4.compile(optimizer='adam', loss='sparse_categorical_crossentropy', metrics=['accuracy'])\n",
    "model_4.fit(x_train, y_train, epochs=TRAIN_EPOCHS)"
   ],
   "metadata": {
    "collapsed": false,
    "pycharm": {
     "name": "#%%\n"
    }
   }
  },
  {
   "cell_type": "markdown",
   "source": [
    "## 畫圖比較"
   ],
   "metadata": {
    "collapsed": false,
    "pycharm": {
     "name": "#%% md\n"
    }
   }
  },
  {
   "cell_type": "code",
   "execution_count": 39,
   "outputs": [
    {
     "name": "stdout",
     "output_type": "stream",
     "text": [
      "39/39 [==============================] - 0s 1ms/step - loss: 5.0881 - accuracy: 0.3859\n",
      "39/39 [==============================] - 0s 1ms/step - loss: 436.0679 - accuracy: 0.3987\n",
      "39/39 [==============================] - 0s 1ms/step - loss: 67.9979 - accuracy: 0.8159\n",
      "39/39 [==============================] - 0s 1ms/step - loss: 76.2880 - accuracy: 0.5659\n",
      "50/50 [==============================] - 0s 1ms/step - loss: 4.9657 - accuracy: 0.4811\n",
      "50/50 [==============================] - 0s 1ms/step - loss: 764.3958 - accuracy: 0.3304\n",
      "50/50 [==============================] - 0s 1ms/step - loss: 25.6208 - accuracy: 0.4496\n",
      "50/50 [==============================] - 0s 1ms/step - loss: 95.2094 - accuracy: 0.4231\n",
      "6/6 [==============================] - 0s 1ms/step - loss: 5.3140 - accuracy: 0.4224\n",
      "6/6 [==============================] - 0s 2ms/step - loss: 1306.2933 - accuracy: 0.2671\n",
      "6/6 [==============================] - 0s 1ms/step - loss: 565.4724 - accuracy: 0.3354\n",
      "6/6 [==============================] - 0s 1ms/step - loss: 196.0290 - accuracy: 0.1429\n",
      "7/7 [==============================] - 0s 1ms/step - loss: 11.0602 - accuracy: 0.2030\n",
      "7/7 [==============================] - 0s 2ms/step - loss: 1555.1187 - accuracy: 0.2132\n",
      "7/7 [==============================] - 0s 2ms/step - loss: 17.6462 - accuracy: 0.4467\n",
      "7/7 [==============================] - 0s 1ms/step - loss: 161.3825 - accuracy: 0.2589\n",
      "72/72 [==============================] - 0s 1ms/step - loss: 8.0300 - accuracy: 0.2352\n",
      "72/72 [==============================] - 0s 1ms/step - loss: 1115.3198 - accuracy: 0.2422\n",
      "72/72 [==============================] - 0s 1ms/step - loss: 23.5453 - accuracy: 0.3791\n",
      "72/72 [==============================] - 0s 1ms/step - loss: 123.7568 - accuracy: 0.3230\n",
      "113/113 [==============================] - 0s 1ms/step - loss: 6.0422 - accuracy: 0.2939\n",
      "113/113 [==============================] - 0s 1ms/step - loss: 1197.5892 - accuracy: 0.2092\n",
      "113/113 [==============================] - 0s 1ms/step - loss: 176.2200 - accuracy: 0.2054\n",
      "113/113 [==============================] - 0s 1ms/step - loss: 269.9800 - accuracy: 0.2851\n",
      "10/10 [==============================] - 0s 2ms/step - loss: 7.6036 - accuracy: 0.1905\n",
      "10/10 [==============================] - 0s 2ms/step - loss: 1560.2198 - accuracy: 0.1054\n",
      "10/10 [==============================] - 0s 2ms/step - loss: 805.8583 - accuracy: 0.1293 \n",
      "10/10 [==============================] - 0s 1ms/step - loss: 362.0359 - accuracy: 0.0306\n",
      "15/15 [==============================] - 0s 1ms/step - loss: 6.0821 - accuracy: 0.1191\n",
      "15/15 [==============================] - 0s 1ms/step - loss: 866.0822 - accuracy: 0.2085 \n",
      "15/15 [==============================] - 0s 1ms/step - loss: 14.2130 - accuracy: 0.1617\n",
      "15/15 [==============================] - 0s 2ms/step - loss: 136.9349 - accuracy: 0.2255\n",
      "113/113 [==============================] - 0s 2ms/step - loss: 4.8110 - accuracy: 0.2150\n",
      "113/113 [==============================] - 0s 1ms/step - loss: 1344.9797 - accuracy: 0.3194\n",
      "113/113 [==============================] - 0s 1ms/step - loss: 5.1382 - accuracy: 0.3775\n",
      "113/113 [==============================] - 0s 1ms/step - loss: 176.2261 - accuracy: 0.3078\n"
     ]
    }
   ],
   "source": [
    "model_1_accuracy = []\n",
    "model_2_accuracy = []\n",
    "model_3_accuracy = []\n",
    "model_4_accuracy = []\n",
    "\n",
    "for i in range(len(x_test)):\n",
    "    model_1_evaluate = model_1.evaluate(x_test[i], y_test[i])\n",
    "    model_1_accuracy.append(model_1_evaluate[1])\n",
    "    model_2_evaluate = model_2.evaluate(x_test[i], y_test[i])\n",
    "    model_2_accuracy.append(model_2_evaluate[1])\n",
    "    model_3_evaluate = model_3.evaluate(x_test[i], y_test[i])\n",
    "    model_3_accuracy.append(model_3_evaluate[1])\n",
    "    model_4_evaluate = model_4.evaluate(x_test[i], y_test[i])\n",
    "    model_4_accuracy.append(model_4_evaluate[1])"
   ],
   "metadata": {
    "collapsed": false,
    "pycharm": {
     "name": "#%%\n"
    }
   }
  },
  {
   "cell_type": "code",
   "execution_count": 40,
   "outputs": [
    {
     "data": {
      "text/plain": "<Figure size 1080x576 with 1 Axes>",
      "image/png": "[encoded data removed]"
     },
     "metadata": {
      "needs_background": "light"
     },
     "output_type": "display_data"
    }
   ],
   "source": [
    "import matplotlib.pyplot as plt\n",
    "plt.figure(figsize=(15,8))\n",
    "ax = plt.gca()\n",
    "ax.set_ylim([0.0, 1.0])\n",
    "plt.plot(model_1_accuracy,marker='o', label='model_1')\n",
    "plt.plot(model_2_accuracy,marker='o', label='model_2')\n",
    "plt.plot(model_3_accuracy,marker='o', label='model_3')\n",
    "plt.plot(model_4_accuracy,marker='o', label='model_4')\n",
    "\n",
    "plt.legend()\n",
    "plt.grid()\n",
    "plt.show()"
   ],
   "metadata": {
    "collapsed": false,
    "pycharm": {
     "name": "#%%\n"
    }
   }
  },
  {
   "cell_type": "code",
   "execution_count": 40,
   "outputs": [],
   "source": [],
   "metadata": {
    "collapsed": false,
    "pycharm": {
     "name": "#%%\n"
    }
   }
  },
  {
   "cell_type": "code",
   "execution_count": null,
   "outputs": [],
   "source": [],
   "metadata": {
    "collapsed": false,
    "pycharm": {
     "name": "#%%\n"
    }
   }
  }
 ],
 "metadata": {
  "kernelspec": {
   "display_name": "Python 3",
   "language": "python",
   "name": "python3"
  },
  "language_info": {
   "codemirror_mode": {
    "name": "ipython",
    "version": 2
   },
   "file_extension": ".py",
   "mimetype": "text/x-python",
   "name": "python",
   "nbconvert_exporter": "python",
   "pygments_lexer": "ipython2",
   "version": "2.7.6"
  }
 },
 "nbformat": 4,
 "nbformat_minor": 0
}