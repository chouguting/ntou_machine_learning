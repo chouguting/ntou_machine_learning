{
 "cells": [
  {
   "cell_type": "markdown",
   "source": [
    "# NTOU Machine learning HW1\n",
    "## by 00857005 周固廷\n",
    "\n",
    "In this exercise, we try to compare the accuracy of the two classifiers: k-NN and linear SVM on  the Breast Cancer Wisconsin (Diagnostic) dataset by nested cross-validation.  The following are the settings for this exercise.\n",
    "\n",
    "1. Hyperparameters:\n",
    "    The hyperparameter for k-NN is n_neighbors and the candidates for this hyperparameter are [1,3,5,7].\n",
    "    The hyperparameter for linear SVM is C and the candidates for C are [0.01,0.1,1,10].\n",
    "2. Nested cross-validation\n",
    "   outer-loop: 10-fold stratified cross-validation\n",
    "   inner-loop: GridSearchCV with cv=5\n",
    "3. dataset\n",
    "    import sklearn.datasets as ds\n",
    "    data, target = ds.load_breast_cancer(True)\n",
    "\n",
    "Useful links:\n",
    "    + linear SVM (sklearn.svm.SVC): https://scikit-learn.org/stable/modules/generated/sklearn.svm.SVC.html\n",
    "\n",
    "    + k-nearest neighbor classifier (sklearn.neighbors.KNeighborsClassifier): https://scikit-learn.org/stable/modules/generated/sklearn.neighbors.KNeighborsClassifier.html\n",
    "\n",
    "    + dataset: https://scikit-learn.org/stable/modules/generated/sklearn.datasets.load_breast_cancer.html#sklearn.datasets.load_breast_cancer"
   ],
   "metadata": {
    "collapsed": false
   }
  },
  {
   "cell_type": "code",
   "execution_count": 7,
   "outputs": [],
   "source": [
    "import sklearn.datasets as ds\n",
    "from sklearn.model_selection import StratifiedKFold,cross_val_score,GridSearchCV\n",
    "import numpy as np\n",
    "\n",
    "data, target = ds.load_breast_cancer(return_X_y = True)"
   ],
   "metadata": {
    "collapsed": false,
    "pycharm": {
     "name": "#%%\n"
    }
   }
  },
  {
   "cell_type": "markdown",
   "source": [
    "# 1. SVM"
   ],
   "metadata": {
    "collapsed": false
   }
  },
  {
   "cell_type": "code",
   "execution_count": null,
   "outputs": [],
   "source": [
    "#SVM\n",
    "from sklearn import svm\n",
    "svmClf = svm.SVC(kernel='linear')\n",
    "svmClf.fit(data, target)\n",
    "svmClf.score(data, target)"
   ],
   "metadata": {
    "collapsed": false,
    "pycharm": {
     "name": "#%%\n",
     "is_executing": true
    }
   }
  },
  {
   "cell_type": "code",
   "execution_count": null,
   "outputs": [],
   "source": [
    "#cv代表cross validation\n",
    "outer_kFold = StratifiedKFold(n_splits=10 , shuffle=True ,random_state=2)  #外層的分層抽樣 (拆成10fold)\n",
    "inner_cv_svm = GridSearchCV(svmClf, {'C':[0.01,0.1,1,10]}, cv=5)  # 內層的validation tuning (拆成5fold)\n",
    "svm_scores = cross_val_score(inner_cv_svm, data, target, cv=outer_kFold, scoring='accuracy')"
   ],
   "metadata": {
    "collapsed": false,
    "pycharm": {
     "name": "#%%\n",
     "is_executing": true
    }
   }
  },
  {
   "cell_type": "code",
   "execution_count": 4,
   "outputs": [
    {
     "name": "stdout",
     "output_type": "stream",
     "text": [
      "svm accuracy: [0.87719298 0.92982456 0.89473684 0.92982456 0.87719298 0.9122807\n",
      " 0.96491228 0.98245614 0.92982456 0.92857143]\n",
      "svm accuracy mean: 0.9226817042606517\n",
      "svm accuracy std: 0.032514148720571616\n"
     ]
    }
   ],
   "source": [
    "print(\"svm accuracy:\",svm_scores)\n",
    "print(\"svm accuracy mean:\",svm_scores.mean())\n",
    "print(\"svm accuracy std:\",svm_scores.std())"
   ],
   "metadata": {
    "collapsed": false,
    "pycharm": {
     "name": "#%%\n"
    }
   }
  },
  {
   "cell_type": "code",
   "execution_count": 5,
   "outputs": [
    {
     "name": "stdout",
     "output_type": "stream",
     "text": [
      "[0.98181818 0.94545455 0.97883598 0.98677249 0.93518519 1.\n",
      " 0.99074074 0.99470899 0.98677249 0.99183673]\n",
      "svm auc mean: 0.979212533498248\n",
      "svm auc std: 0.020405330753281024\n"
     ]
    }
   ],
   "source": [
    "#計算AUC\n",
    "svm_auc_scores = cross_val_score(inner_cv_svm, data, target, cv=outer_kFold, scoring='roc_auc')\n",
    "print(svm_auc_scores)\n",
    "print(\"svm auc mean: {}\".format(svm_auc_scores.mean()))\n",
    "print(\"svm auc std: {}\".format(svm_auc_scores.std()))"
   ],
   "metadata": {
    "collapsed": false,
    "pycharm": {
     "name": "#%%\n"
    }
   }
  },
  {
   "cell_type": "markdown",
   "source": [
    "# 2. k-NN"
   ],
   "metadata": {
    "collapsed": false
   }
  },
  {
   "cell_type": "code",
   "execution_count": 6,
   "outputs": [
    {
     "data": {
      "text/plain": "0.9472759226713533"
     },
     "execution_count": 6,
     "metadata": {},
     "output_type": "execute_result"
    }
   ],
   "source": [
    "#KNN\n",
    "from sklearn.neighbors import KNeighborsClassifier\n",
    "knnClf = KNeighborsClassifier()\n",
    "knnClf.fit(data, target)\n",
    "knnClf.score(data, target)"
   ],
   "metadata": {
    "collapsed": false,
    "pycharm": {
     "name": "#%%\n"
    }
   }
  },
  {
   "cell_type": "code",
   "execution_count": 7,
   "outputs": [],
   "source": [
    "#cv代表cross validation\n",
    "# outer_kFold_knn = StratifiedKFold(n_splits=10 , shuffle=True ,random_state=2)  #外層的分層抽樣 (拆成10fold)\n",
    "inner_cv_knn = GridSearchCV(knnClf, {'n_neighbors':[1,3,5,7]}, cv=5)  # 內層的validation tuning (拆成5fold)\n",
    "knn_scores = cross_val_score(inner_cv_knn, data, target, cv=outer_kFold, scoring='accuracy')"
   ],
   "metadata": {
    "collapsed": false,
    "pycharm": {
     "name": "#%%\n"
    }
   }
  },
  {
   "cell_type": "code",
   "execution_count": 8,
   "outputs": [
    {
     "name": "stdout",
     "output_type": "stream",
     "text": [
      "knn accuracy: [0.94736842 0.94736842 0.9122807  0.92982456 0.87719298 0.94736842\n",
      " 0.94736842 0.98245614 0.92982456 0.92857143]\n",
      "knn accuracy mean: 0.9349624060150376\n",
      "knn accuracy std: 0.02610880527963588\n"
     ]
    }
   ],
   "source": [
    "print(\"knn accuracy:\",knn_scores)\n",
    "print(\"knn accuracy mean:\",knn_scores.mean())\n",
    "print(\"knn accuracy std:\",knn_scores.std())"
   ],
   "metadata": {
    "collapsed": false,
    "pycharm": {
     "name": "#%%\n"
    }
   }
  },
  {
   "cell_type": "code",
   "execution_count": 9,
   "outputs": [
    {
     "name": "stdout",
     "output_type": "stream",
     "text": [
      "[0.96818182 0.99415584 0.91600529 0.96626984 0.88624339 0.99140212\n",
      " 0.98082011 0.97222222 0.98941799 0.93741497]\n",
      "knn auc mean: 0.960213358070501\n",
      "knn auc std: 0.03404768174744221\n"
     ]
    }
   ],
   "source": [
    "#計算AUC\n",
    "knn_auc_scores = cross_val_score(inner_cv_knn, data, target, cv=outer_kFold, scoring='roc_auc')\n",
    "print(knn_auc_scores)\n",
    "print(\"knn auc mean: {}\".format(knn_auc_scores.mean()))\n",
    "print(\"knn auc std: {}\".format(knn_auc_scores.std()))\n",
    "\n"
   ],
   "metadata": {
    "collapsed": false,
    "pycharm": {
     "name": "#%%\n"
    }
   }
  },
  {
   "cell_type": "markdown",
   "source": [
    "# 計算p-value"
   ],
   "metadata": {
    "collapsed": false,
    "pycharm": {
     "name": "#%% md\n"
    }
   }
  },
  {
   "cell_type": "code",
   "execution_count": 10,
   "outputs": [],
   "source": [
    "from scipy import stats\n",
    "t , pValue = stats.ttest_1samp(svm_scores- knn_scores, 0)"
   ],
   "metadata": {
    "collapsed": false,
    "pycharm": {
     "name": "#%%\n"
    }
   }
  },
  {
   "cell_type": "code",
   "execution_count": 11,
   "outputs": [
    {
     "name": "stdout",
     "output_type": "stream",
     "text": [
      "t: -1.560917707119047\n",
      "pValue: 0.15297630918246946\n"
     ]
    }
   ],
   "source": [
    "print(\"t: {}\".format(t))\n",
    "print(\"pValue: {}\".format(pValue))"
   ],
   "metadata": {
    "collapsed": false,
    "pycharm": {
     "name": "#%%\n"
    }
   }
  },
  {
   "cell_type": "markdown",
   "source": [
    "1. 210\n",
    "2.\n",
    "    (a)\n",
    "\n",
    "    svm accuracy: [0.87719298 0.92982456 0.89473684 0.92982456 0.87719298 0.9122807\n",
    "     0.96491228 0.98245614 0.92982456 0.92857143]\n",
    "    svm accuracy mean: 0.9226817042606517\n",
    "    svm accuracy std: 0.032514148720571616\n",
    "\n",
    "    knn accuracy: [0.94736842 0.94736842 0.9122807  0.92982456 0.87719298 0.94736842\n",
    "     0.94736842 0.98245614 0.92982456 0.92857143]\n",
    "    knn accuracy mean: 0.9349624060150376\n",
    "    knn accuracy std: 0.02610880527963588\n",
    "\n",
    "    (b)\n",
    "    p-value : 0.15297630918246946\n",
    "\n",
    "    (c)\n",
    "    不行 因為p-value > 0.05(一個常見的門檻值)\n",
    "    代表我們不夠有信心能推翻null hypothesis\n",
    "    也代表兩個分類器準確度沒有顯著差異\n",
    "3.\n",
    "    svm average AUC: 0.979212533498248\n",
    "    knn average AUC: 0.960213358070501\n",
    "4.\n",
    "    N=10 e=2\n",
    "    N=100 e=10\n",
    "    N=1000 e=100\n",
    "\n"
   ],
   "metadata": {
    "collapsed": false,
    "pycharm": {
     "name": "#%% md\n"
    }
   }
  },
  {
   "cell_type": "markdown",
   "source": [],
   "metadata": {
    "collapsed": false,
    "pycharm": {
     "name": "#%% md\n"
    }
   }
  }
 ],
 "metadata": {
  "kernelspec": {
   "display_name": "Python 3",
   "language": "python",
   "name": "python3"
  },
  "language_info": {
   "codemirror_mode": {
    "name": "ipython",
    "version": 2
   },
   "file_extension": ".py",
   "mimetype": "text/x-python",
   "name": "python",
   "nbconvert_exporter": "python",
   "pygments_lexer": "ipython2",
   "version": "2.7.6"
  }
 },
 "nbformat": 4,
 "nbformat_minor": 0
}